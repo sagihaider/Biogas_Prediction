{
  "nbformat": 4,
  "nbformat_minor": 0,
  "metadata": {
    "colab": {
      "name": "Relieff.ipynb",
      "provenance": [],
      "authorship_tag": "ABX9TyOJLjsEWGL57TezWxeTHY+f",
      "include_colab_link": true
    },
    "kernelspec": {
      "name": "python3",
      "display_name": "Python 3"
    }
  },
  "cells": [
    {
      "cell_type": "markdown",
      "metadata": {
        "id": "view-in-github",
        "colab_type": "text"
      },
      "source": [
        "<a href=\"https://colab.research.google.com/github/sagihaider/Biogas_Prediction/blob/master/Relieff.ipynb\" target=\"_parent\"><img src=\"https://colab.research.google.com/assets/colab-badge.svg\" alt=\"Open In Colab\"/></a>"
      ]
    },
    {
      "cell_type": "code",
      "metadata": {
        "colab": {
          "base_uri": "https://localhost:8080/"
        },
        "id": "fjywzuVt8HYp",
        "outputId": "1a073660-028f-49db-df55-11dafae80145"
      },
      "source": [
        "!git clone https://github.com/sagihaider/Biogas_Prediction.git "
      ],
      "execution_count": 1,
      "outputs": [
        {
          "output_type": "stream",
          "text": [
            "Cloning into 'Biogas_Prediction'...\n",
            "remote: Enumerating objects: 143, done.\u001b[K\n",
            "remote: Counting objects: 100% (143/143), done.\u001b[K\n",
            "remote: Compressing objects: 100% (124/124), done.\u001b[K\n",
            "remote: Total 143 (delta 35), reused 104 (delta 16), pack-reused 0\u001b[K\n",
            "Receiving objects: 100% (143/143), 21.12 MiB | 28.02 MiB/s, done.\n",
            "Resolving deltas: 100% (35/35), done.\n"
          ],
          "name": "stdout"
        }
      ]
    },
    {
      "cell_type": "code",
      "metadata": {
        "id": "gd04OmoE8dOo"
      },
      "source": [
        "import pandas as pd\n",
        "import numpy as np\n",
        "from sklearn.svm import LinearSVR\n",
        "from sklearn.multioutput import MultiOutputRegressor\n",
        "from sklearn.model_selection import cross_val_score, RepeatedKFold\n",
        "from sklearn.multioutput import RegressorChain\n",
        "from numpy import mean, std, absolute\n",
        "import matplotlib.pyplot as plt\n",
        "import seaborn as sns"
      ],
      "execution_count": 2,
      "outputs": []
    },
    {
      "cell_type": "code",
      "metadata": {
        "colab": {
          "base_uri": "https://localhost:8080/",
          "height": 544
        },
        "id": "cXdGW3Ev8gYZ",
        "outputId": "82cf3025-aaec-43d7-cc36-c802573de415"
      },
      "source": [
        "data = pd.read_excel('/content/Biogas_Prediction/Data/Gasification Data_Daya.xlsx', index_col=0, header=0)\n",
        "data = data.iloc[1:223,:14] \n",
        "display(list(data.columns.values))\n",
        "\n",
        "# Drop null balues and store dataframe in dataframe 2\n",
        "data=data.dropna()\n",
        "print(data)\n",
        "\n",
        "#Check Null values again after removing\n",
        "print(data.isnull().values.any())\n",
        "print(data.isna().values.any())"
      ],
      "execution_count": 3,
      "outputs": [
        {
          "output_type": "display_data",
          "data": {
            "text/plain": [
              "['C [%wt db]',\n",
              " 'H [%wt db]',\n",
              " 'O [%wt db]',\n",
              " 'Moisture [%wt]',\n",
              " 'Ash [%wt db]',\n",
              " 'ER [-]',\n",
              " 'T [ºC]',\n",
              " 'Bed material',\n",
              " 'Steam/Biomass',\n",
              " 'H2 [%vol N2 free]',\n",
              " 'CO [%vol N2 free]',\n",
              " 'CO2 [%vol N2 free]',\n",
              " 'CH4 [%vol N2 free]',\n",
              " 'GY [Nm3/kg daf]']"
            ]
          },
          "metadata": {
            "tags": []
          }
        },
        {
          "output_type": "stream",
          "text": [
            "        C [%wt db] H [%wt db]  ...  CH4 [%vol N2 free] GY [Nm3/kg daf]\n",
            "Sr No.                         ...                                    \n",
            "2            50.00        5.7  ...            6.474820        2.500000\n",
            "3            50.00        5.7  ...            7.164179        2.500000\n",
            "4            50.00        5.7  ...            6.474820        2.100000\n",
            "5            50.00        5.7  ...            6.474820        2.400000\n",
            "6            50.00        5.7  ...            8.181818        2.100000\n",
            "...            ...        ...  ...                 ...             ...\n",
            "219          46.85        6.3  ...            9.706147        0.947532\n",
            "220          46.85        6.3  ...            9.455065        0.975752\n",
            "221          46.76       5.68  ...            9.933682        0.971784\n",
            "222          46.76       5.68  ...            8.778402        0.982989\n",
            "223          46.76       5.68  ...            8.534014        0.973816\n",
            "\n",
            "[187 rows x 14 columns]\n",
            "False\n",
            "False\n"
          ],
          "name": "stdout"
        }
      ]
    },
    {
      "cell_type": "code",
      "metadata": {
        "colab": {
          "base_uri": "https://localhost:8080/"
        },
        "id": "cwid1goT8nIF",
        "outputId": "e7eda78a-c13e-416c-81bc-7c9399dcc946"
      },
      "source": [
        "X = data.iloc[:, :9]\n",
        "y = data.iloc[:, 9:]\n",
        "\n",
        "input_columns = list(X.columns.values)\n",
        "output_columns = list(y.columns.values)\n",
        "\n",
        "print(input_columns, output_columns)"
      ],
      "execution_count": 4,
      "outputs": [
        {
          "output_type": "stream",
          "text": [
            "['C [%wt db]', 'H [%wt db]', 'O [%wt db]', 'Moisture [%wt]', 'Ash [%wt db]', 'ER [-]', 'T [ºC]', 'Bed material', 'Steam/Biomass'] ['H2 [%vol N2 free]', 'CO [%vol N2 free]', 'CO2 [%vol N2 free]', 'CH4 [%vol N2 free]', 'GY [Nm3/kg daf]']\n"
          ],
          "name": "stdout"
        }
      ]
    },
    {
      "cell_type": "code",
      "metadata": {
        "colab": {
          "base_uri": "https://localhost:8080/"
        },
        "id": "EOxbNlAt83dY",
        "outputId": "69e9dc00-f2d2-426e-b09f-91b426bdd301"
      },
      "source": [
        "!pip install ReliefF"
      ],
      "execution_count": 5,
      "outputs": [
        {
          "output_type": "stream",
          "text": [
            "Collecting ReliefF\n",
            "\u001b[?25l  Downloading https://files.pythonhosted.org/packages/98/f1/3d8bb05c448b3ed5e6a436166344b3aafa71848de8f5ee2595489627fc5c/ReliefF-0.1.2.tar.gz (48kB)\n",
            "\r\u001b[K     |██████▉                         | 10kB 14.4MB/s eta 0:00:01\r\u001b[K     |█████████████▋                  | 20kB 18.2MB/s eta 0:00:01\r\u001b[K     |████████████████████▍           | 30kB 14.6MB/s eta 0:00:01\r\u001b[K     |███████████████████████████▎    | 40kB 10.9MB/s eta 0:00:01\r\u001b[K     |████████████████████████████████| 51kB 2.8MB/s \n",
            "\u001b[?25hRequirement already satisfied: numpy in /usr/local/lib/python3.6/dist-packages (from ReliefF) (1.18.5)\n",
            "Requirement already satisfied: scipy in /usr/local/lib/python3.6/dist-packages (from ReliefF) (1.4.1)\n",
            "Requirement already satisfied: scikit-learn in /usr/local/lib/python3.6/dist-packages (from ReliefF) (0.22.2.post1)\n",
            "Requirement already satisfied: joblib>=0.11 in /usr/local/lib/python3.6/dist-packages (from scikit-learn->ReliefF) (0.17.0)\n",
            "Building wheels for collected packages: ReliefF\n",
            "  Building wheel for ReliefF (setup.py) ... \u001b[?25l\u001b[?25hdone\n",
            "  Created wheel for ReliefF: filename=ReliefF-0.1.2-cp36-none-any.whl size=6305 sha256=b75e7688549242a4f969f5c1abb100a398ede022ed5030690cf43c10adf53902\n",
            "  Stored in directory: /root/.cache/pip/wheels/1c/9e/51/59ca638520794c9e0155d592b9f8c579f80cc29cbaf1de0f45\n",
            "Successfully built ReliefF\n",
            "Installing collected packages: ReliefF\n",
            "Successfully installed ReliefF-0.1.2\n"
          ],
          "name": "stdout"
        }
      ]
    },
    {
      "cell_type": "markdown",
      "metadata": {
        "id": "4JqdU-Nl8NZQ"
      },
      "source": [
        ""
      ]
    },
    {
      "cell_type": "code",
      "metadata": {
        "id": "0qwlo4Pq8NsF"
      },
      "source": [
        "from ReliefF import ReliefF\n",
        "import numpy as np\n",
        "from sklearn import datasets\n",
        "import pandas as pd\n",
        "\n"
      ],
      "execution_count": 7,
      "outputs": []
    },
    {
      "cell_type": "code",
      "metadata": {
        "id": "dFMgxA1IviPm"
      },
      "source": [
        "# #example of 2 class problem\n",
        "data = np.array(X)\n",
        "target = np.array(y.iloc[:, 1])\n",
        "\n"
      ],
      "execution_count": 13,
      "outputs": []
    },
    {
      "cell_type": "code",
      "metadata": {
        "id": "R-8iZkwvvscA",
        "outputId": "7650559d-e695-453d-8296-5fd973efea75",
        "colab": {
          "base_uri": "https://localhost:8080/"
        }
      },
      "source": [
        "\n",
        "fs = ReliefF(n_neighbors=1, n_features_to_keep=3)\n",
        "X_train = fs.fit_transform(data, target)\n",
        "# print(X_train)\n",
        "print(\"--------------\")\n",
        "print(\"(No. of tuples, No. of Columns before ReliefF) : \"+str(data.shape)+\n",
        "      \"\\n(No. of tuples , No. of Columns after ReliefF) : \"+str(X_train.shape))"
      ],
      "execution_count": 17,
      "outputs": [
        {
          "output_type": "stream",
          "text": [
            "--------------\n",
            "(No. of tuples, No. of Columns before ReliefF) : (187, 9)\n",
            "(No. of tuples , No. of Columns after ReliefF) : (187, 3)\n"
          ],
          "name": "stdout"
        }
      ]
    }
  ]
}