{
  "nbformat": 4,
  "nbformat_minor": 0,
  "metadata": {
    "colab": {
      "name": "Relieff.ipynb",
      "provenance": [],
      "authorship_tag": "ABX9TyOxTI0pHH3oY6OWmuNlkMRd",
      "include_colab_link": true
    },
    "kernelspec": {
      "name": "python3",
      "display_name": "Python 3"
    }
  },
  "cells": [
    {
      "cell_type": "markdown",
      "metadata": {
        "id": "view-in-github",
        "colab_type": "text"
      },
      "source": [
        "<a href=\"https://colab.research.google.com/github/sagihaider/Biogas_Prediction/blob/master/Relieff.ipynb\" target=\"_parent\"><img src=\"https://colab.research.google.com/assets/colab-badge.svg\" alt=\"Open In Colab\"/></a>"
      ]
    },
    {
      "cell_type": "code",
      "metadata": {
        "colab": {
          "base_uri": "https://localhost:8080/"
        },
        "id": "fjywzuVt8HYp",
        "outputId": "1a073660-028f-49db-df55-11dafae80145"
      },
      "source": [
        "!git clone https://github.com/sagihaider/Biogas_Prediction.git "
      ],
      "execution_count": 1,
      "outputs": [
        {
          "output_type": "stream",
          "text": [
            "Cloning into 'Biogas_Prediction'...\n",
            "remote: Enumerating objects: 143, done.\u001b[K\n",
            "remote: Counting objects: 100% (143/143), done.\u001b[K\n",
            "remote: Compressing objects: 100% (124/124), done.\u001b[K\n",
            "remote: Total 143 (delta 35), reused 104 (delta 16), pack-reused 0\u001b[K\n",
            "Receiving objects: 100% (143/143), 21.12 MiB | 28.02 MiB/s, done.\n",
            "Resolving deltas: 100% (35/35), done.\n"
          ],
          "name": "stdout"
        }
      ]
    },
    {
      "cell_type": "code",
      "metadata": {
        "id": "gd04OmoE8dOo"
      },
      "source": [
        "import pandas as pd\n",
        "import numpy as np\n",
        "from sklearn.svm import LinearSVR\n",
        "from sklearn.multioutput import MultiOutputRegressor\n",
        "from sklearn.model_selection import cross_val_score, RepeatedKFold\n",
        "from sklearn.multioutput import RegressorChain\n",
        "from numpy import mean, std, absolute\n",
        "import matplotlib.pyplot as plt\n",
        "import seaborn as sns"
      ],
      "execution_count": 2,
      "outputs": []
    },
    {
      "cell_type": "code",
      "metadata": {
        "colab": {
          "base_uri": "https://localhost:8080/",
          "height": 544
        },
        "id": "cXdGW3Ev8gYZ",
        "outputId": "82cf3025-aaec-43d7-cc36-c802573de415"
      },
      "source": [
        "data = pd.read_excel('/content/Biogas_Prediction/Data/Gasification Data_Daya.xlsx', index_col=0, header=0)\n",
        "data = data.iloc[1:223,:14] \n",
        "display(list(data.columns.values))\n",
        "\n",
        "# Drop null balues and store dataframe in dataframe 2\n",
        "data=data.dropna()\n",
        "print(data)\n",
        "\n",
        "#Check Null values again after removing\n",
        "print(data.isnull().values.any())\n",
        "print(data.isna().values.any())"
      ],
      "execution_count": 3,
      "outputs": [
        {
          "output_type": "display_data",
          "data": {
            "text/plain": [
              "['C [%wt db]',\n",
              " 'H [%wt db]',\n",
              " 'O [%wt db]',\n",
              " 'Moisture [%wt]',\n",
              " 'Ash [%wt db]',\n",
              " 'ER [-]',\n",
              " 'T [ºC]',\n",
              " 'Bed material',\n",
              " 'Steam/Biomass',\n",
              " 'H2 [%vol N2 free]',\n",
              " 'CO [%vol N2 free]',\n",
              " 'CO2 [%vol N2 free]',\n",
              " 'CH4 [%vol N2 free]',\n",
              " 'GY [Nm3/kg daf]']"
            ]
          },
          "metadata": {
            "tags": []
          }
        },
        {
          "output_type": "stream",
          "text": [
            "        C [%wt db] H [%wt db]  ...  CH4 [%vol N2 free] GY [Nm3/kg daf]\n",
            "Sr No.                         ...                                    \n",
            "2            50.00        5.7  ...            6.474820        2.500000\n",
            "3            50.00        5.7  ...            7.164179        2.500000\n",
            "4            50.00        5.7  ...            6.474820        2.100000\n",
            "5            50.00        5.7  ...            6.474820        2.400000\n",
            "6            50.00        5.7  ...            8.181818        2.100000\n",
            "...            ...        ...  ...                 ...             ...\n",
            "219          46.85        6.3  ...            9.706147        0.947532\n",
            "220          46.85        6.3  ...            9.455065        0.975752\n",
            "221          46.76       5.68  ...            9.933682        0.971784\n",
            "222          46.76       5.68  ...            8.778402        0.982989\n",
            "223          46.76       5.68  ...            8.534014        0.973816\n",
            "\n",
            "[187 rows x 14 columns]\n",
            "False\n",
            "False\n"
          ],
          "name": "stdout"
        }
      ]
    },
    {
      "cell_type": "code",
      "metadata": {
        "colab": {
          "base_uri": "https://localhost:8080/"
        },
        "id": "cwid1goT8nIF",
        "outputId": "e7eda78a-c13e-416c-81bc-7c9399dcc946"
      },
      "source": [
        "X = data.iloc[:, :9]\n",
        "y = data.iloc[:, 9:]\n",
        "\n",
        "input_columns = list(X.columns.values)\n",
        "output_columns = list(y.columns.values)\n",
        "\n",
        "print(input_columns, output_columns)"
      ],
      "execution_count": 4,
      "outputs": [
        {
          "output_type": "stream",
          "text": [
            "['C [%wt db]', 'H [%wt db]', 'O [%wt db]', 'Moisture [%wt]', 'Ash [%wt db]', 'ER [-]', 'T [ºC]', 'Bed material', 'Steam/Biomass'] ['H2 [%vol N2 free]', 'CO [%vol N2 free]', 'CO2 [%vol N2 free]', 'CH4 [%vol N2 free]', 'GY [Nm3/kg daf]']\n"
          ],
          "name": "stdout"
        }
      ]
    },
    {
      "cell_type": "code",
      "metadata": {
        "colab": {
          "base_uri": "https://localhost:8080/"
        },
        "id": "EOxbNlAt83dY",
        "outputId": "69e9dc00-f2d2-426e-b09f-91b426bdd301"
      },
      "source": [
        "!pip install ReliefF"
      ],
      "execution_count": 5,
      "outputs": [
        {
          "output_type": "stream",
          "text": [
            "Collecting ReliefF\n",
            "\u001b[?25l  Downloading https://files.pythonhosted.org/packages/98/f1/3d8bb05c448b3ed5e6a436166344b3aafa71848de8f5ee2595489627fc5c/ReliefF-0.1.2.tar.gz (48kB)\n",
            "\r\u001b[K     |██████▉                         | 10kB 14.4MB/s eta 0:00:01\r\u001b[K     |█████████████▋                  | 20kB 18.2MB/s eta 0:00:01\r\u001b[K     |████████████████████▍           | 30kB 14.6MB/s eta 0:00:01\r\u001b[K     |███████████████████████████▎    | 40kB 10.9MB/s eta 0:00:01\r\u001b[K     |████████████████████████████████| 51kB 2.8MB/s \n",
            "\u001b[?25hRequirement already satisfied: numpy in /usr/local/lib/python3.6/dist-packages (from ReliefF) (1.18.5)\n",
            "Requirement already satisfied: scipy in /usr/local/lib/python3.6/dist-packages (from ReliefF) (1.4.1)\n",
            "Requirement already satisfied: scikit-learn in /usr/local/lib/python3.6/dist-packages (from ReliefF) (0.22.2.post1)\n",
            "Requirement already satisfied: joblib>=0.11 in /usr/local/lib/python3.6/dist-packages (from scikit-learn->ReliefF) (0.17.0)\n",
            "Building wheels for collected packages: ReliefF\n",
            "  Building wheel for ReliefF (setup.py) ... \u001b[?25l\u001b[?25hdone\n",
            "  Created wheel for ReliefF: filename=ReliefF-0.1.2-cp36-none-any.whl size=6305 sha256=b75e7688549242a4f969f5c1abb100a398ede022ed5030690cf43c10adf53902\n",
            "  Stored in directory: /root/.cache/pip/wheels/1c/9e/51/59ca638520794c9e0155d592b9f8c579f80cc29cbaf1de0f45\n",
            "Successfully built ReliefF\n",
            "Installing collected packages: ReliefF\n",
            "Successfully installed ReliefF-0.1.2\n"
          ],
          "name": "stdout"
        }
      ]
    },
    {
      "cell_type": "markdown",
      "metadata": {
        "id": "twX8YY6w_YQ7"
      },
      "source": [
        "## Below code cell is used for ReliefF Algorithm\n",
        "#### For SIMO we have used a for loop to test each target variable at a time."
      ]
    },
    {
      "cell_type": "code",
      "metadata": {
        "id": "XL9lFvjG_LhY",
        "outputId": "2116bf3f-0e6e-4b59-b710-f160f48ca09d",
        "colab": {
          "base_uri": "https://localhost:8080/"
        }
      },
      "source": [
        "import numpy as np\n",
        "import pandas as pd\n",
        "from ReliefF import ReliefF\n",
        "\n",
        "# #example of 2 class problem\n",
        "data = np.array(X)\n",
        "for x in range(5):\n",
        "  target = np.array(y.iloc[:, x])\n",
        "  fs = ReliefF(n_neighbors=1, n_features_to_keep=3)\n",
        "  X_train = fs.fit_transform(data, target)\n",
        "  # print(X_train)\n",
        "  print(\"--------------\")\n",
        "  print(\"(No. of tuples, No. of Columns before ReliefF) : \"+str(data.shape)+\n",
        "      \"\\n(No. of tuples , No. of Columns after ReliefF) : \"+str(X_train.shape))\n"
      ],
      "execution_count": 40,
      "outputs": [
        {
          "output_type": "stream",
          "text": [
            "--------------\n",
            "(No. of tuples, No. of Columns before ReliefF) : (187, 9)\n",
            "(No. of tuples , No. of Columns after ReliefF) : (187, 3)\n",
            "--------------\n",
            "(No. of tuples, No. of Columns before ReliefF) : (187, 9)\n",
            "(No. of tuples , No. of Columns after ReliefF) : (187, 3)\n",
            "--------------\n",
            "(No. of tuples, No. of Columns before ReliefF) : (187, 9)\n",
            "(No. of tuples , No. of Columns after ReliefF) : (187, 3)\n",
            "--------------\n",
            "(No. of tuples, No. of Columns before ReliefF) : (187, 9)\n",
            "(No. of tuples , No. of Columns after ReliefF) : (187, 3)\n",
            "--------------\n",
            "(No. of tuples, No. of Columns before ReliefF) : (187, 9)\n",
            "(No. of tuples , No. of Columns after ReliefF) : (187, 3)\n"
          ],
          "name": "stdout"
        }
      ]
    },
    {
      "cell_type": "markdown",
      "metadata": {
        "id": "4JqdU-Nl8NZQ"
      },
      "source": [
        "## Below code cell is used for Correlation Feature Selection Algorithm\n",
        "#### For SIMO we have used a for loop to test each target variable at a time"
      ]
    },
    {
      "cell_type": "code",
      "metadata": {
        "colab": {
          "base_uri": "https://localhost:8080/",
          "height": 1000
        },
        "id": "0qwlo4Pq8NsF",
        "outputId": "98afb08b-6ff2-4f9d-bf39-990cc36b8719"
      },
      "source": [
        "from sklearn.feature_selection import SelectKBest\n",
        "from sklearn.feature_selection import f_regression\n",
        "from matplotlib import pyplot\n",
        "\n",
        "# #example of 2 class problem\n",
        "data = np.array(X)\n",
        "for x in range(5):\n",
        "  target = np.array(y.iloc[:, x])\n",
        "\n",
        "  # configure to select all features\n",
        "  fs = SelectKBest(score_func=f_regression, k='all')\n",
        "  # learn relationship from training data\n",
        "  fs.fit(data, target)\n",
        "  # transform train input data\n",
        "  X_train_fs = fs.transform(data)\n",
        "\n",
        "  # what are scores for the features\n",
        "  for i in range(len(fs.scores_)):\n",
        "\t  print('Feature %d: %f' % (i, fs.scores_[i]))\n",
        "    # plot the scores\n",
        "  pyplot.bar([i for i in range(len(fs.scores_))], fs.scores_)\n",
        "  # pyplot.xlabel(rotation=90)\n",
        "  pyplot.show()"
      ],
      "execution_count": 41,
      "outputs": [
        {
          "output_type": "stream",
          "text": [
            "Feature 0: 54.673138\n",
            "Feature 1: 102.322463\n",
            "Feature 2: 51.699409\n",
            "Feature 3: 32.176482\n",
            "Feature 4: 1.518533\n",
            "Feature 5: 31.577098\n",
            "Feature 6: 7.571369\n",
            "Feature 7: 0.036071\n",
            "Feature 8: 14.299048\n"
          ],
          "name": "stdout"
        },
        {
          "output_type": "display_data",
          "data": {
            "image/png": "[encoded data removed]",
            "text/plain": [
              "<Figure size 432x288 with 1 Axes>"
            ]
          },
          "metadata": {
            "tags": [],
            "needs_background": "light"
          }
        },
        {
          "output_type": "stream",
          "text": [
            "Feature 0: 1.922219\n",
            "Feature 1: 0.364708\n",
            "Feature 2: 52.804732\n",
            "Feature 3: 1.760275\n",
            "Feature 4: 48.459534\n",
            "Feature 5: 1.012559\n",
            "Feature 6: 2.788851\n",
            "Feature 7: 4.080523\n",
            "Feature 8: 8.360658\n"
          ],
          "name": "stdout"
        },
        {
          "output_type": "display_data",
          "data": {
            "image/png": "[encoded data removed]",
            "text/plain": [
              "<Figure size 432x288 with 1 Axes>"
            ]
          },
          "metadata": {
            "tags": [],
            "needs_background": "light"
          }
        },
        {
          "output_type": "stream",
          "text": [
            "Feature 0: 88.501293\n",
            "Feature 1: 147.315786\n",
            "Feature 2: 21.841204\n",
            "Feature 3: 35.445158\n",
            "Feature 4: 16.396447\n",
            "Feature 5: 55.348294\n",
            "Feature 6: 7.759506\n",
            "Feature 7: 3.003959\n",
            "Feature 8: 23.836093\n"
          ],
          "name": "stdout"
        },
        {
          "output_type": "display_data",
          "data": {
            "image/png": "[encoded data removed]",
            "text/plain": [
              "<Figure size 432x288 with 1 Axes>"
            ]
          },
          "metadata": {
            "tags": [],
            "needs_background": "light"
          }
        },
        {
          "output_type": "stream",
          "text": [
            "Feature 0: 23.082367\n",
            "Feature 1: 23.275475\n",
            "Feature 2: 11.209295\n",
            "Feature 3: 21.768911\n",
            "Feature 4: 3.153922\n",
            "Feature 5: 5.557374\n",
            "Feature 6: 13.704713\n",
            "Feature 7: 6.513146\n",
            "Feature 8: 3.960414\n"
          ],
          "name": "stdout"
        },
        {
          "output_type": "display_data",
          "data": {
            "image/png": "[encoded data removed]",
            "text/plain": [
              "<Figure size 432x288 with 1 Axes>"
            ]
          },
          "metadata": {
            "tags": [],
            "needs_background": "light"
          }
        },
        {
          "output_type": "stream",
          "text": [
            "Feature 0: 70.129646\n",
            "Feature 1: 120.541395\n",
            "Feature 2: 169.713876\n",
            "Feature 3: 30.962179\n",
            "Feature 4: 0.518993\n",
            "Feature 5: 11.701944\n",
            "Feature 6: 54.565222\n",
            "Feature 7: 5.286430\n",
            "Feature 8: 0.037343\n"
          ],
          "name": "stdout"
        },
        {
          "output_type": "display_data",
          "data": {
            "image/png": "[encoded data removed]",
            "text/plain": [
              "<Figure size 432x288 with 1 Axes>"
            ]
          },
          "metadata": {
            "tags": [],
            "needs_background": "light"
          }
        }
      ]
    },
    {
      "cell_type": "markdown",
      "metadata": {
        "id": "3uF2BwNMAHDE"
      },
      "source": [
        "## Mutual Information Feature Selection\n",
        "#### For SIMO we have used a for loop to test each target variable at a time "
      ]
    },
    {
      "cell_type": "code",
      "metadata": {
        "id": "ct-1ECBbAF1P",
        "outputId": "66e237bd-2017-4cc9-898e-693c6ff16de9",
        "colab": {
          "base_uri": "https://localhost:8080/",
          "height": 1000
        }
      },
      "source": [
        "# #example of 2 class problem\n",
        "from sklearn.feature_selection import mutual_info_regression\n",
        "\n",
        "data = np.array(X)\n",
        "for x in range(5):\n",
        "  target = np.array(y.iloc[:, x])\n",
        "\n",
        "  # configure to select all features\n",
        "  fs = SelectKBest(score_func=mutual_info_regression, k='all')\n",
        "  # learn relationship from training data\n",
        "  fs.fit(data, target)\n",
        "  # transform train input data\n",
        "  X_train_fs = fs.transform(data)\n",
        "\n",
        "  # what are scores for the features\n",
        "  for i in range(len(fs.scores_)):\n",
        "\t  print('Feature %d: %f' % (i, fs.scores_[i]))\n",
        "    # plot the scores\n",
        "  pyplot.bar([i for i in range(len(fs.scores_))], fs.scores_)\n",
        "  # pyplot.xlabel(rotation=90)\n",
        "  pyplot.show()"
      ],
      "execution_count": 45,
      "outputs": [
        {
          "output_type": "stream",
          "text": [
            "Feature 0: 0.568151\n",
            "Feature 1: 0.646006\n",
            "Feature 2: 0.656209\n",
            "Feature 3: 0.465955\n",
            "Feature 4: 0.506337\n",
            "Feature 5: 0.192119\n",
            "Feature 6: 0.339546\n",
            "Feature 7: 0.323817\n",
            "Feature 8: 0.232475\n"
          ],
          "name": "stdout"
        },
        {
          "output_type": "display_data",
          "data": {
            "image/png": "[encoded data removed]",
            "text/plain": [
              "<Figure size 432x288 with 1 Axes>"
            ]
          },
          "metadata": {
            "tags": [],
            "needs_background": "light"
          }
        },
        {
          "output_type": "stream",
          "text": [
            "Feature 0: 0.564326\n",
            "Feature 1: 0.564838\n",
            "Feature 2: 0.652715\n",
            "Feature 3: 0.527481\n",
            "Feature 4: 0.392989\n",
            "Feature 5: 0.122897\n",
            "Feature 6: 0.243870\n",
            "Feature 7: 0.165482\n",
            "Feature 8: 0.197801\n"
          ],
          "name": "stdout"
        },
        {
          "output_type": "display_data",
          "data": {
            "image/png": "[encoded data removed]",
            "text/plain": [
              "<Figure size 432x288 with 1 Axes>"
            ]
          },
          "metadata": {
            "tags": [],
            "needs_background": "light"
          }
        },
        {
          "output_type": "stream",
          "text": [
            "Feature 0: 0.679950\n",
            "Feature 1: 0.788011\n",
            "Feature 2: 0.761326\n",
            "Feature 3: 0.501883\n",
            "Feature 4: 0.329910\n",
            "Feature 5: 0.372098\n",
            "Feature 6: 0.270223\n",
            "Feature 7: 0.241060\n",
            "Feature 8: 0.281520\n"
          ],
          "name": "stdout"
        },
        {
          "output_type": "display_data",
          "data": {
            "image/png": "[encoded data removed]",
            "text/plain": [
              "<Figure size 432x288 with 1 Axes>"
            ]
          },
          "metadata": {
            "tags": [],
            "needs_background": "light"
          }
        },
        {
          "output_type": "stream",
          "text": [
            "Feature 0: 0.755442\n",
            "Feature 1: 0.668516\n",
            "Feature 2: 0.688244\n",
            "Feature 3: 0.768232\n",
            "Feature 4: 0.450848\n",
            "Feature 5: 0.197192\n",
            "Feature 6: 0.252711\n",
            "Feature 7: 0.488496\n",
            "Feature 8: 0.123570\n"
          ],
          "name": "stdout"
        },
        {
          "output_type": "display_data",
          "data": {
            "image/png": "[encoded data removed]",
            "text/plain": [
              "<Figure size 432x288 with 1 Axes>"
            ]
          },
          "metadata": {
            "tags": [],
            "needs_background": "light"
          }
        },
        {
          "output_type": "stream",
          "text": [
            "Feature 0: 0.560956\n",
            "Feature 1: 0.606563\n",
            "Feature 2: 0.555234\n",
            "Feature 3: 0.470407\n",
            "Feature 4: 0.270530\n",
            "Feature 5: 0.392849\n",
            "Feature 6: 0.352661\n",
            "Feature 7: 0.200878\n",
            "Feature 8: 0.079645\n"
          ],
          "name": "stdout"
        },
        {
          "output_type": "display_data",
          "data": {
            "image/png": "[encoded data removed]",
            "text/plain": [
              "<Figure size 432x288 with 1 Axes>"
            ]
          },
          "metadata": {
            "tags": [],
            "needs_background": "light"
          }
        }
      ]
    },
    {
      "cell_type": "markdown",
      "metadata": {
        "id": "sgj2Cgw17aY0"
      },
      "source": [
        ""
      ]
    }
  ]
}