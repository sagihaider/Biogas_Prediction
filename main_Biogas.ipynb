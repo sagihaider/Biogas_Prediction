{
  "nbformat": 4,
  "nbformat_minor": 0,
  "metadata": {
    "colab": {
      "name": "main_Biogas.ipynb",
      "provenance": [],
      "include_colab_link": true
    },
    "kernelspec": {
      "name": "python3",
      "display_name": "Python 3"
    }
  },
  "cells": [
    {
      "cell_type": "markdown",
      "metadata": {
        "id": "view-in-github",
        "colab_type": "text"
      },
      "source": [
        "<a href=\"https://colab.research.google.com/github/sagihaider/Biogas_Prediction/blob/master/main_Biogas.ipynb\" target=\"_parent\"><img src=\"https://colab.research.google.com/assets/colab-badge.svg\" alt=\"Open In Colab\"/></a>"
      ]
    },
    {
      "cell_type": "code",
      "metadata": {
        "id": "iGIORxsXeWuT",
        "outputId": "56522bc8-5706-4c81-9ece-733d22e2831a",
        "colab": {
          "base_uri": "https://localhost:8080/",
          "height": 119
        }
      },
      "source": [
        "!git clone https://github.com/sagihaider/Biogas_Prediction.git"
      ],
      "execution_count": 1,
      "outputs": [
        {
          "output_type": "stream",
          "text": [
            "Cloning into 'Biogas_Prediction'...\n",
            "remote: Enumerating objects: 21, done.\u001b[K\n",
            "remote: Counting objects: 100% (21/21), done.\u001b[K\n",
            "remote: Compressing objects: 100% (18/18), done.\u001b[K\n",
            "remote: Total 21 (delta 5), reused 0 (delta 0), pack-reused 0\u001b[K\n",
            "Unpacking objects: 100% (21/21), done.\n"
          ],
          "name": "stdout"
        }
      ]
    },
    {
      "cell_type": "code",
      "metadata": {
        "id": "eeyor8PpetEw"
      },
      "source": [
        "import numpy as np\n",
        "import pandas as pd"
      ],
      "execution_count": 2,
      "outputs": []
    },
    {
      "cell_type": "code",
      "metadata": {
        "id": "0XjkxdU8exv7",
        "outputId": "9c1f0c5d-96db-454f-dbae-f8f6ae85d737",
        "colab": {
          "base_uri": "https://localhost:8080/",
          "height": 419
        }
      },
      "source": [
        "df=pd.read_excel('/content/Biogas_Prediction/Data/Gasification Data_Daya.xlsx', index_col=None, header=None)\n",
        "df1 = df.iloc[1:223,1:15] \n",
        "df1"
      ],
      "execution_count": 3,
      "outputs": [
        {
          "output_type": "execute_result",
          "data": {
            "text/html": [
              "<div>\n",
              "<style scoped>\n",
              "    .dataframe tbody tr th:only-of-type {\n",
              "        vertical-align: middle;\n",
              "    }\n",
              "\n",
              "    .dataframe tbody tr th {\n",
              "        vertical-align: top;\n",
              "    }\n",
              "\n",
              "    .dataframe thead th {\n",
              "        text-align: right;\n",
              "    }\n",
              "</style>\n",
              "<table border=\"1\" class=\"dataframe\">\n",
              "  <thead>\n",
              "    <tr style=\"text-align: right;\">\n",
              "      <th></th>\n",
              "      <th>1</th>\n",
              "      <th>2</th>\n",
              "      <th>3</th>\n",
              "      <th>4</th>\n",
              "      <th>5</th>\n",
              "      <th>6</th>\n",
              "      <th>7</th>\n",
              "      <th>8</th>\n",
              "      <th>9</th>\n",
              "      <th>10</th>\n",
              "      <th>11</th>\n",
              "      <th>12</th>\n",
              "      <th>13</th>\n",
              "      <th>14</th>\n",
              "    </tr>\n",
              "  </thead>\n",
              "  <tbody>\n",
              "    <tr>\n",
              "      <th>1</th>\n",
              "      <td>50</td>\n",
              "      <td>5.7</td>\n",
              "      <td>44.1</td>\n",
              "      <td>23.5</td>\n",
              "      <td>0.85</td>\n",
              "      <td>0.32</td>\n",
              "      <td>800</td>\n",
              "      <td>1</td>\n",
              "      <td>0</td>\n",
              "      <td>18.0879</td>\n",
              "      <td>36.1757</td>\n",
              "      <td>34.8837</td>\n",
              "      <td>7.75194</td>\n",
              "      <td>2.3</td>\n",
              "    </tr>\n",
              "    <tr>\n",
              "      <th>2</th>\n",
              "      <td>50</td>\n",
              "      <td>5.7</td>\n",
              "      <td>44.1</td>\n",
              "      <td>21</td>\n",
              "      <td>0.85</td>\n",
              "      <td>0.37</td>\n",
              "      <td>800</td>\n",
              "      <td>1</td>\n",
              "      <td>0</td>\n",
              "      <td>22.7818</td>\n",
              "      <td>31.1751</td>\n",
              "      <td>35.9712</td>\n",
              "      <td>6.47482</td>\n",
              "      <td>2.5</td>\n",
              "    </tr>\n",
              "    <tr>\n",
              "      <th>3</th>\n",
              "      <td>50</td>\n",
              "      <td>5.7</td>\n",
              "      <td>44.1</td>\n",
              "      <td>23</td>\n",
              "      <td>0.85</td>\n",
              "      <td>0.47</td>\n",
              "      <td>810</td>\n",
              "      <td>1</td>\n",
              "      <td>0</td>\n",
              "      <td>23.8806</td>\n",
              "      <td>29.8507</td>\n",
              "      <td>35.8209</td>\n",
              "      <td>7.16418</td>\n",
              "      <td>2.5</td>\n",
              "    </tr>\n",
              "    <tr>\n",
              "      <th>4</th>\n",
              "      <td>50</td>\n",
              "      <td>5.7</td>\n",
              "      <td>44.1</td>\n",
              "      <td>22</td>\n",
              "      <td>0.85</td>\n",
              "      <td>0.26</td>\n",
              "      <td>800</td>\n",
              "      <td>1</td>\n",
              "      <td>0</td>\n",
              "      <td>20.3837</td>\n",
              "      <td>31.1751</td>\n",
              "      <td>35.9712</td>\n",
              "      <td>6.47482</td>\n",
              "      <td>2.1</td>\n",
              "    </tr>\n",
              "    <tr>\n",
              "      <th>5</th>\n",
              "      <td>50</td>\n",
              "      <td>5.7</td>\n",
              "      <td>44.1</td>\n",
              "      <td>25</td>\n",
              "      <td>0.85</td>\n",
              "      <td>0.36</td>\n",
              "      <td>790</td>\n",
              "      <td>1</td>\n",
              "      <td>0</td>\n",
              "      <td>22.7818</td>\n",
              "      <td>31.1751</td>\n",
              "      <td>35.9712</td>\n",
              "      <td>6.47482</td>\n",
              "      <td>2.4</td>\n",
              "    </tr>\n",
              "    <tr>\n",
              "      <th>...</th>\n",
              "      <td>...</td>\n",
              "      <td>...</td>\n",
              "      <td>...</td>\n",
              "      <td>...</td>\n",
              "      <td>...</td>\n",
              "      <td>...</td>\n",
              "      <td>...</td>\n",
              "      <td>...</td>\n",
              "      <td>...</td>\n",
              "      <td>...</td>\n",
              "      <td>...</td>\n",
              "      <td>...</td>\n",
              "      <td>...</td>\n",
              "      <td>...</td>\n",
              "    </tr>\n",
              "    <tr>\n",
              "      <th>218</th>\n",
              "      <td>46.85</td>\n",
              "      <td>6.3</td>\n",
              "      <td>45.55</td>\n",
              "      <td>9</td>\n",
              "      <td>1.3</td>\n",
              "      <td>0.18</td>\n",
              "      <td>750</td>\n",
              "      <td>1</td>\n",
              "      <td>0</td>\n",
              "      <td>17.7868</td>\n",
              "      <td>35.1087</td>\n",
              "      <td>30.5865</td>\n",
              "      <td>10.465</td>\n",
              "      <td>0.858789</td>\n",
              "    </tr>\n",
              "    <tr>\n",
              "      <th>219</th>\n",
              "      <td>46.85</td>\n",
              "      <td>6.3</td>\n",
              "      <td>45.55</td>\n",
              "      <td>9</td>\n",
              "      <td>1.3</td>\n",
              "      <td>0.22</td>\n",
              "      <td>750</td>\n",
              "      <td>1</td>\n",
              "      <td>0</td>\n",
              "      <td>18.5714</td>\n",
              "      <td>33.3062</td>\n",
              "      <td>32.8614</td>\n",
              "      <td>9.70615</td>\n",
              "      <td>0.947532</td>\n",
              "    </tr>\n",
              "    <tr>\n",
              "      <th>220</th>\n",
              "      <td>46.85</td>\n",
              "      <td>6.3</td>\n",
              "      <td>45.55</td>\n",
              "      <td>9</td>\n",
              "      <td>1.3</td>\n",
              "      <td>0.27</td>\n",
              "      <td>750</td>\n",
              "      <td>1</td>\n",
              "      <td>0</td>\n",
              "      <td>15.7623</td>\n",
              "      <td>33.7895</td>\n",
              "      <td>35.4904</td>\n",
              "      <td>9.45507</td>\n",
              "      <td>0.975752</td>\n",
              "    </tr>\n",
              "    <tr>\n",
              "      <th>221</th>\n",
              "      <td>46.76</td>\n",
              "      <td>5.68</td>\n",
              "      <td>39.46</td>\n",
              "      <td>9.94</td>\n",
              "      <td>8.1</td>\n",
              "      <td>0.17</td>\n",
              "      <td>750</td>\n",
              "      <td>1</td>\n",
              "      <td>0</td>\n",
              "      <td>19.0011</td>\n",
              "      <td>31.9511</td>\n",
              "      <td>32.7829</td>\n",
              "      <td>9.93368</td>\n",
              "      <td>0.971784</td>\n",
              "    </tr>\n",
              "    <tr>\n",
              "      <th>222</th>\n",
              "      <td>46.76</td>\n",
              "      <td>5.68</td>\n",
              "      <td>39.46</td>\n",
              "      <td>9.94</td>\n",
              "      <td>8.1</td>\n",
              "      <td>0.21</td>\n",
              "      <td>750</td>\n",
              "      <td>1</td>\n",
              "      <td>0</td>\n",
              "      <td>21.7989</td>\n",
              "      <td>29.1236</td>\n",
              "      <td>34.4266</td>\n",
              "      <td>8.7784</td>\n",
              "      <td>0.982989</td>\n",
              "    </tr>\n",
              "  </tbody>\n",
              "</table>\n",
              "<p>222 rows × 14 columns</p>\n",
              "</div>"
            ],
            "text/plain": [
              "        1     2      3     4   ...       11       12       13        14\n",
              "1       50   5.7   44.1  23.5  ...  36.1757  34.8837  7.75194       2.3\n",
              "2       50   5.7   44.1    21  ...  31.1751  35.9712  6.47482       2.5\n",
              "3       50   5.7   44.1    23  ...  29.8507  35.8209  7.16418       2.5\n",
              "4       50   5.7   44.1    22  ...  31.1751  35.9712  6.47482       2.1\n",
              "5       50   5.7   44.1    25  ...  31.1751  35.9712  6.47482       2.4\n",
              "..     ...   ...    ...   ...  ...      ...      ...      ...       ...\n",
              "218  46.85   6.3  45.55     9  ...  35.1087  30.5865   10.465  0.858789\n",
              "219  46.85   6.3  45.55     9  ...  33.3062  32.8614  9.70615  0.947532\n",
              "220  46.85   6.3  45.55     9  ...  33.7895  35.4904  9.45507  0.975752\n",
              "221  46.76  5.68  39.46  9.94  ...  31.9511  32.7829  9.93368  0.971784\n",
              "222  46.76  5.68  39.46  9.94  ...  29.1236  34.4266   8.7784  0.982989\n",
              "\n",
              "[222 rows x 14 columns]"
            ]
          },
          "metadata": {
            "tags": []
          },
          "execution_count": 3
        }
      ]
    },
    {
      "cell_type": "code",
      "metadata": {
        "id": "OXw6BkpAM0jV",
        "outputId": "3bf8496d-29ca-4d84-904e-46c9fad22f02",
        "colab": {
          "base_uri": "https://localhost:8080/",
          "height": 51
        }
      },
      "source": [
        "print(df1.isnull().values.any())\n",
        "print(df1.isna().values.any())"
      ],
      "execution_count": 18,
      "outputs": [
        {
          "output_type": "stream",
          "text": [
            "True\n",
            "True\n"
          ],
          "name": "stdout"
        }
      ]
    },
    {
      "cell_type": "code",
      "metadata": {
        "id": "dVPHpKbtM8GL",
        "outputId": "8a472db0-06c1-436f-d6cc-58273f644e14",
        "colab": {
          "base_uri": "https://localhost:8080/",
          "height": 419
        }
      },
      "source": [
        "df2=df1.dropna()\n",
        "df2"
      ],
      "execution_count": 16,
      "outputs": [
        {
          "output_type": "execute_result",
          "data": {
            "text/html": [
              "<div>\n",
              "<style scoped>\n",
              "    .dataframe tbody tr th:only-of-type {\n",
              "        vertical-align: middle;\n",
              "    }\n",
              "\n",
              "    .dataframe tbody tr th {\n",
              "        vertical-align: top;\n",
              "    }\n",
              "\n",
              "    .dataframe thead th {\n",
              "        text-align: right;\n",
              "    }\n",
              "</style>\n",
              "<table border=\"1\" class=\"dataframe\">\n",
              "  <thead>\n",
              "    <tr style=\"text-align: right;\">\n",
              "      <th></th>\n",
              "      <th>1</th>\n",
              "      <th>2</th>\n",
              "      <th>3</th>\n",
              "      <th>4</th>\n",
              "      <th>5</th>\n",
              "      <th>6</th>\n",
              "      <th>7</th>\n",
              "      <th>8</th>\n",
              "      <th>9</th>\n",
              "      <th>10</th>\n",
              "      <th>11</th>\n",
              "      <th>12</th>\n",
              "      <th>13</th>\n",
              "      <th>14</th>\n",
              "    </tr>\n",
              "  </thead>\n",
              "  <tbody>\n",
              "    <tr>\n",
              "      <th>1</th>\n",
              "      <td>50</td>\n",
              "      <td>5.7</td>\n",
              "      <td>44.1</td>\n",
              "      <td>23.5</td>\n",
              "      <td>0.85</td>\n",
              "      <td>0.32</td>\n",
              "      <td>800</td>\n",
              "      <td>1</td>\n",
              "      <td>0</td>\n",
              "      <td>18.0879</td>\n",
              "      <td>36.1757</td>\n",
              "      <td>34.8837</td>\n",
              "      <td>7.75194</td>\n",
              "      <td>2.3</td>\n",
              "    </tr>\n",
              "    <tr>\n",
              "      <th>2</th>\n",
              "      <td>50</td>\n",
              "      <td>5.7</td>\n",
              "      <td>44.1</td>\n",
              "      <td>21</td>\n",
              "      <td>0.85</td>\n",
              "      <td>0.37</td>\n",
              "      <td>800</td>\n",
              "      <td>1</td>\n",
              "      <td>0</td>\n",
              "      <td>22.7818</td>\n",
              "      <td>31.1751</td>\n",
              "      <td>35.9712</td>\n",
              "      <td>6.47482</td>\n",
              "      <td>2.5</td>\n",
              "    </tr>\n",
              "    <tr>\n",
              "      <th>3</th>\n",
              "      <td>50</td>\n",
              "      <td>5.7</td>\n",
              "      <td>44.1</td>\n",
              "      <td>23</td>\n",
              "      <td>0.85</td>\n",
              "      <td>0.47</td>\n",
              "      <td>810</td>\n",
              "      <td>1</td>\n",
              "      <td>0</td>\n",
              "      <td>23.8806</td>\n",
              "      <td>29.8507</td>\n",
              "      <td>35.8209</td>\n",
              "      <td>7.16418</td>\n",
              "      <td>2.5</td>\n",
              "    </tr>\n",
              "    <tr>\n",
              "      <th>4</th>\n",
              "      <td>50</td>\n",
              "      <td>5.7</td>\n",
              "      <td>44.1</td>\n",
              "      <td>22</td>\n",
              "      <td>0.85</td>\n",
              "      <td>0.26</td>\n",
              "      <td>800</td>\n",
              "      <td>1</td>\n",
              "      <td>0</td>\n",
              "      <td>20.3837</td>\n",
              "      <td>31.1751</td>\n",
              "      <td>35.9712</td>\n",
              "      <td>6.47482</td>\n",
              "      <td>2.1</td>\n",
              "    </tr>\n",
              "    <tr>\n",
              "      <th>5</th>\n",
              "      <td>50</td>\n",
              "      <td>5.7</td>\n",
              "      <td>44.1</td>\n",
              "      <td>25</td>\n",
              "      <td>0.85</td>\n",
              "      <td>0.36</td>\n",
              "      <td>790</td>\n",
              "      <td>1</td>\n",
              "      <td>0</td>\n",
              "      <td>22.7818</td>\n",
              "      <td>31.1751</td>\n",
              "      <td>35.9712</td>\n",
              "      <td>6.47482</td>\n",
              "      <td>2.4</td>\n",
              "    </tr>\n",
              "    <tr>\n",
              "      <th>...</th>\n",
              "      <td>...</td>\n",
              "      <td>...</td>\n",
              "      <td>...</td>\n",
              "      <td>...</td>\n",
              "      <td>...</td>\n",
              "      <td>...</td>\n",
              "      <td>...</td>\n",
              "      <td>...</td>\n",
              "      <td>...</td>\n",
              "      <td>...</td>\n",
              "      <td>...</td>\n",
              "      <td>...</td>\n",
              "      <td>...</td>\n",
              "      <td>...</td>\n",
              "    </tr>\n",
              "    <tr>\n",
              "      <th>218</th>\n",
              "      <td>46.85</td>\n",
              "      <td>6.3</td>\n",
              "      <td>45.55</td>\n",
              "      <td>9</td>\n",
              "      <td>1.3</td>\n",
              "      <td>0.18</td>\n",
              "      <td>750</td>\n",
              "      <td>1</td>\n",
              "      <td>0</td>\n",
              "      <td>17.7868</td>\n",
              "      <td>35.1087</td>\n",
              "      <td>30.5865</td>\n",
              "      <td>10.465</td>\n",
              "      <td>0.858789</td>\n",
              "    </tr>\n",
              "    <tr>\n",
              "      <th>219</th>\n",
              "      <td>46.85</td>\n",
              "      <td>6.3</td>\n",
              "      <td>45.55</td>\n",
              "      <td>9</td>\n",
              "      <td>1.3</td>\n",
              "      <td>0.22</td>\n",
              "      <td>750</td>\n",
              "      <td>1</td>\n",
              "      <td>0</td>\n",
              "      <td>18.5714</td>\n",
              "      <td>33.3062</td>\n",
              "      <td>32.8614</td>\n",
              "      <td>9.70615</td>\n",
              "      <td>0.947532</td>\n",
              "    </tr>\n",
              "    <tr>\n",
              "      <th>220</th>\n",
              "      <td>46.85</td>\n",
              "      <td>6.3</td>\n",
              "      <td>45.55</td>\n",
              "      <td>9</td>\n",
              "      <td>1.3</td>\n",
              "      <td>0.27</td>\n",
              "      <td>750</td>\n",
              "      <td>1</td>\n",
              "      <td>0</td>\n",
              "      <td>15.7623</td>\n",
              "      <td>33.7895</td>\n",
              "      <td>35.4904</td>\n",
              "      <td>9.45507</td>\n",
              "      <td>0.975752</td>\n",
              "    </tr>\n",
              "    <tr>\n",
              "      <th>221</th>\n",
              "      <td>46.76</td>\n",
              "      <td>5.68</td>\n",
              "      <td>39.46</td>\n",
              "      <td>9.94</td>\n",
              "      <td>8.1</td>\n",
              "      <td>0.17</td>\n",
              "      <td>750</td>\n",
              "      <td>1</td>\n",
              "      <td>0</td>\n",
              "      <td>19.0011</td>\n",
              "      <td>31.9511</td>\n",
              "      <td>32.7829</td>\n",
              "      <td>9.93368</td>\n",
              "      <td>0.971784</td>\n",
              "    </tr>\n",
              "    <tr>\n",
              "      <th>222</th>\n",
              "      <td>46.76</td>\n",
              "      <td>5.68</td>\n",
              "      <td>39.46</td>\n",
              "      <td>9.94</td>\n",
              "      <td>8.1</td>\n",
              "      <td>0.21</td>\n",
              "      <td>750</td>\n",
              "      <td>1</td>\n",
              "      <td>0</td>\n",
              "      <td>21.7989</td>\n",
              "      <td>29.1236</td>\n",
              "      <td>34.4266</td>\n",
              "      <td>8.7784</td>\n",
              "      <td>0.982989</td>\n",
              "    </tr>\n",
              "  </tbody>\n",
              "</table>\n",
              "<p>187 rows × 14 columns</p>\n",
              "</div>"
            ],
            "text/plain": [
              "        1     2      3     4   ...       11       12       13        14\n",
              "1       50   5.7   44.1  23.5  ...  36.1757  34.8837  7.75194       2.3\n",
              "2       50   5.7   44.1    21  ...  31.1751  35.9712  6.47482       2.5\n",
              "3       50   5.7   44.1    23  ...  29.8507  35.8209  7.16418       2.5\n",
              "4       50   5.7   44.1    22  ...  31.1751  35.9712  6.47482       2.1\n",
              "5       50   5.7   44.1    25  ...  31.1751  35.9712  6.47482       2.4\n",
              "..     ...   ...    ...   ...  ...      ...      ...      ...       ...\n",
              "218  46.85   6.3  45.55     9  ...  35.1087  30.5865   10.465  0.858789\n",
              "219  46.85   6.3  45.55     9  ...  33.3062  32.8614  9.70615  0.947532\n",
              "220  46.85   6.3  45.55     9  ...  33.7895  35.4904  9.45507  0.975752\n",
              "221  46.76  5.68  39.46  9.94  ...  31.9511  32.7829  9.93368  0.971784\n",
              "222  46.76  5.68  39.46  9.94  ...  29.1236  34.4266   8.7784  0.982989\n",
              "\n",
              "[187 rows x 14 columns]"
            ]
          },
          "metadata": {
            "tags": []
          },
          "execution_count": 16
        }
      ]
    },
    {
      "cell_type": "code",
      "metadata": {
        "id": "in9ZR66VN6bP",
        "outputId": "b60ecf8a-2502-4753-e562-5ec0968cf8f2",
        "colab": {
          "base_uri": "https://localhost:8080/",
          "height": 51
        }
      },
      "source": [
        "print(df2.isnull().values.any())\n",
        "print(df2.isna().values.any())"
      ],
      "execution_count": 19,
      "outputs": [
        {
          "output_type": "stream",
          "text": [
            "False\n",
            "False\n"
          ],
          "name": "stdout"
        }
      ]
    },
    {
      "cell_type": "code",
      "metadata": {
        "id": "I6YGX6YgiV7k"
      },
      "source": [
        "X= df2.iloc[0:187,0:9]\n",
        "y = df2.iloc[0:187,9:14]\n"
      ],
      "execution_count": 20,
      "outputs": []
    },
    {
      "cell_type": "code",
      "metadata": {
        "id": "49o_1J8SNfKM",
        "outputId": "4b8c6f78-66cc-4ef0-d728-add0f9091400",
        "colab": {
          "base_uri": "https://localhost:8080/",
          "height": 51
        }
      },
      "source": [
        "print(X.isnull().values.any())\n",
        "print(y.isnull().values.any())"
      ],
      "execution_count": 21,
      "outputs": [
        {
          "output_type": "stream",
          "text": [
            "False\n",
            "False\n"
          ],
          "name": "stdout"
        }
      ]
    },
    {
      "cell_type": "code",
      "metadata": {
        "id": "wB8c7oXSlPQE"
      },
      "source": [
        "X=X.to_numpy()\n",
        "y=y.to_numpy()"
      ],
      "execution_count": 22,
      "outputs": []
    },
    {
      "cell_type": "code",
      "metadata": {
        "id": "z44oO4LwiFe3"
      },
      "source": [
        "from numpy import asarray\n",
        "from sklearn.datasets import make_regression\n",
        "from sklearn.model_selection import train_test_split\n",
        "from keras.models import Sequential\n",
        "from keras.layers import Dense"
      ],
      "execution_count": 23,
      "outputs": []
    },
    {
      "cell_type": "code",
      "metadata": {
        "id": "9erysEbLiOA1"
      },
      "source": [
        "# get the model\n",
        "def get_model(n_inputs, n_outputs):\n",
        "  model = Sequential()\n",
        "  model.add(Dense(20, input_dim=n_inputs, kernel_initializer='he_uniform', activation='relu'))\n",
        "  model.add(Dense(n_outputs, kernel_initializer='he_uniform'))\n",
        "  model.compile(loss='mae', optimizer='adam')\n",
        "  model.summary()\n",
        "  return model"
      ],
      "execution_count": 24,
      "outputs": []
    },
    {
      "cell_type": "code",
      "metadata": {
        "id": "Sjrh7Q4pjLzb",
        "outputId": "6d32277f-85f4-4640-ad05-5bac770e1a1d",
        "colab": {
          "base_uri": "https://localhost:8080/",
          "height": 221
        }
      },
      "source": [
        "X = np.asarray(X).astype('float32')\n",
        "y = np.asarray(y).astype('float32')\n",
        "\n",
        "X_train, X_test, y_train, y_test = train_test_split(X, y, test_size=0.20, random_state=42)\n",
        "\n",
        "\n",
        "n_inputs, n_outputs = X.shape[1], y.shape[1]\n",
        "# get model\n",
        "model = get_model(n_inputs, n_outputs)\n",
        "# fit the model on all data\n",
        "# model.fit(X, y, verbose=0, epochs=100)\n",
        "history = model.fit(X_train, y_train, epochs=100, batch_size=64, validation_data=(X_test, y_test), verbose=0)\n"
      ],
      "execution_count": 25,
      "outputs": [
        {
          "output_type": "stream",
          "text": [
            "Model: \"sequential\"\n",
            "_________________________________________________________________\n",
            "Layer (type)                 Output Shape              Param #   \n",
            "=================================================================\n",
            "dense (Dense)                (None, 20)                200       \n",
            "_________________________________________________________________\n",
            "dense_1 (Dense)              (None, 5)                 105       \n",
            "=================================================================\n",
            "Total params: 305\n",
            "Trainable params: 305\n",
            "Non-trainable params: 0\n",
            "_________________________________________________________________\n"
          ],
          "name": "stdout"
        }
      ]
    },
    {
      "cell_type": "code",
      "metadata": {
        "id": "k4k6HbOFJIuG",
        "outputId": "254b4f7d-a60d-42dc-e8b4-276b327f9eca",
        "colab": {
          "base_uri": "https://localhost:8080/",
          "height": 680
        }
      },
      "source": [
        "yhat = model.predict(X_test)\n",
        "# mae = model.evaluate(X_test, y_test, verbose=0)\n",
        "y_test"
      ],
      "execution_count": 26,
      "outputs": [
        {
          "output_type": "execute_result",
          "data": {
            "text/plain": [
              "array([[19.001068  , 31.951086  , 32.782913  ,  9.933682  ,  0.97178423],\n",
              "       [26.912182  ,  6.7988667 , 27.195467  , 25.779037  ,  3.3522265 ],\n",
              "       [25.518673  , 30.082987  , 38.174274  ,  6.2240663 ,  2.31      ],\n",
              "       [ 9.248712  , 41.03607   , 40.195282  ,  5.424464  ,  1.8666167 ],\n",
              "       [14.06      , 33.25      , 40.99      ,  7.85      ,  1.86      ],\n",
              "       [39.42      , 33.35      , 19.25      ,  6.13      ,  2.7652087 ],\n",
              "       [17.611874  , 33.052727  , 43.15463   ,  6.180771  ,  2.0941179 ],\n",
              "       [15.5       , 31.6       , 38.1       ,  8.4       ,  2.0985508 ],\n",
              "       [28.915663  , 20.72289   , 36.626507  ,  6.506024  ,  2.6       ],\n",
              "       [25.5       , 35.1       , 30.3       ,  7.8       ,  2.6253    ],\n",
              "       [13.9       , 27.64      , 45.79      ,  8.07      ,  2.        ],\n",
              "       [21.311476  , 29.781422  , 37.704918  , 11.202186  ,  2.1626704 ],\n",
              "       [13.43      , 34.65      , 38.49      ,  8.83      ,  2.14      ],\n",
              "       [28.056112  , 30.06012   , 32.46493   ,  9.418838  ,  1.8555417 ],\n",
              "       [24.421053  , 30.947369  , 38.736843  ,  5.894737  ,  1.96      ],\n",
              "       [32.11      , 37.92      , 17.75      ,  7.79      ,  2.3280215 ],\n",
              "       [14.96      , 33.61      , 38.18      ,  8.47      ,  2.35      ],\n",
              "       [23.4       , 33.7       , 35.2       ,  7.7       ,  2.2794    ],\n",
              "       [55.395683  , 34.17266   ,  2.877698  ,  5.755396  ,  4.8582993 ],\n",
              "       [30.98      , 39.6       , 18.03      ,  7.24      ,  2.38267   ],\n",
              "       [24.        , 28.        , 36.        , 12.        ,  1.4916222 ],\n",
              "       [25.255102  , 19.642857  , 37.7551    ,  7.142857  ,  2.4       ],\n",
              "       [17.272728  , 32.727272  , 24.545454  ,  8.181818  ,  2.1       ],\n",
              "       [19.87      , 36.63      , 29.73      ,  9.81      ,  1.090383  ],\n",
              "       [32.22      , 37.7       , 18.71      ,  7.76      ,  2.4373183 ],\n",
              "       [26.311728  , 26.793982  , 32.46528   , 10.204475  ,  1.9       ],\n",
              "       [16.642336  , 28.223845  , 40.778587  ,  8.442822  ,  2.3660264 ],\n",
              "       [ 9.217102  , 36.09106   , 46.141033  ,  5.3026094 ,  2.1537886 ],\n",
              "       [ 9.047365  , 38.398083  , 43.799892  ,  5.32198   ,  2.455319  ],\n",
              "       [14.58      , 32.44      , 41.26      ,  8.01      ,  2.3       ],\n",
              "       [31.41      , 39.96      , 16.47      ,  7.59      ,  2.5138261 ],\n",
              "       [25.        , 31.4       , 34.2       ,  9.4       ,  2.2179    ],\n",
              "       [29.600798  , 31.437126  , 33.153694  ,  5.8083835 ,  2.1529415 ],\n",
              "       [16.023739  , 36.39254   , 40.589233  ,  6.994489  ,  1.927024  ],\n",
              "       [24.884048  , 40.25005   , 28.332325  ,  6.5335755 ,  2.3261118 ],\n",
              "       [25.440313  , 34.83366   , 28.180038  , 11.545988  ,  1.7470373 ],\n",
              "       [16.71388   , 21.529745  , 37.96034   , 18.696884  ,  3.043112  ],\n",
              "       [20.2       , 31.92      , 33.19      ,  9.84      ,  1.0579954 ]],\n",
              "      dtype=float32)"
            ]
          },
          "metadata": {
            "tags": []
          },
          "execution_count": 26
        }
      ]
    },
    {
      "cell_type": "code",
      "metadata": {
        "id": "stqEUfF2KRtA",
        "outputId": "1014dda7-cac8-4dc5-a007-b387f7db5703",
        "colab": {
          "base_uri": "https://localhost:8080/",
          "height": 51
        }
      },
      "source": [
        "from sklearn.metrics import mean_squared_error\n",
        "mean_squared_error(y_test, yhat, multioutput='raw_values')"
      ],
      "execution_count": 29,
      "outputs": [
        {
          "output_type": "execute_result",
          "data": {
            "text/plain": [
              "array([110.967606,  55.209686,  84.64771 ,  40.286823, 174.8726  ],\n",
              "      dtype=float32)"
            ]
          },
          "metadata": {
            "tags": []
          },
          "execution_count": 29
        }
      ]
    }
  ]
}