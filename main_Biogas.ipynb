{
  "nbformat": 4,
  "nbformat_minor": 0,
  "metadata": {
    "colab": {
      "name": "main_Biogas.ipynb",
      "provenance": [],
      "include_colab_link": true
    },
    "kernelspec": {
      "name": "python3",
      "display_name": "Python 3"
    }
  },
  "cells": [
    {
      "cell_type": "markdown",
      "metadata": {
        "id": "view-in-github",
        "colab_type": "text"
      },
      "source": [
        "<a href=\"https://colab.research.google.com/github/sagihaider/Biogas_Prediction/blob/master/main_Biogas.ipynb\" target=\"_parent\"><img src=\"https://colab.research.google.com/assets/colab-badge.svg\" alt=\"Open In Colab\"/></a>"
      ]
    },
    {
      "cell_type": "code",
      "metadata": {
        "id": "iGIORxsXeWuT",
        "outputId": "9dd17041-1813-4195-bad2-17da79a22f0d",
        "colab": {
          "base_uri": "https://localhost:8080/",
          "height": 118
        }
      },
      "source": [
        "!git clone https://github.com/sagihaider/Biogas_Prediction.git"
      ],
      "execution_count": 1,
      "outputs": [
        {
          "output_type": "stream",
          "text": [
            "Cloning into 'Biogas_Prediction'...\n",
            "remote: Enumerating objects: 15, done.\u001b[K\n",
            "remote: Counting objects: 100% (15/15), done.\u001b[K\n",
            "remote: Compressing objects: 100% (12/12), done.\u001b[K\n",
            "remote: Total 15 (delta 1), reused 0 (delta 0), pack-reused 0\u001b[K\n",
            "Unpacking objects: 100% (15/15), done.\n"
          ],
          "name": "stdout"
        }
      ]
    },
    {
      "cell_type": "code",
      "metadata": {
        "id": "eeyor8PpetEw"
      },
      "source": [
        "import numpy as np\n",
        "import pandas as pd"
      ],
      "execution_count": 2,
      "outputs": []
    },
    {
      "cell_type": "code",
      "metadata": {
        "id": "0XjkxdU8exv7"
      },
      "source": [
        "df=pd.read_excel('/content/Biogas_Prediction/Data/Gasification Data_Daya.xlsx', index_col=None, header=None)"
      ],
      "execution_count": 3,
      "outputs": []
    },
    {
      "cell_type": "code",
      "metadata": {
        "id": "K84svWbpfYbY"
      },
      "source": [
        "df1 = df.iloc[1:223,1:15] "
      ],
      "execution_count": 4,
      "outputs": []
    },
    {
      "cell_type": "code",
      "metadata": {
        "id": "HNibJhx0gSqD",
        "outputId": "a5bd0b50-e386-464b-c3e1-95451cab61d3",
        "colab": {
          "base_uri": "https://localhost:8080/",
          "height": 402
        }
      },
      "source": [
        "df1"
      ],
      "execution_count": 5,
      "outputs": [
        {
          "output_type": "execute_result",
          "data": {
            "text/html": [
              "<div>\n",
              "<style scoped>\n",
              "    .dataframe tbody tr th:only-of-type {\n",
              "        vertical-align: middle;\n",
              "    }\n",
              "\n",
              "    .dataframe tbody tr th {\n",
              "        vertical-align: top;\n",
              "    }\n",
              "\n",
              "    .dataframe thead th {\n",
              "        text-align: right;\n",
              "    }\n",
              "</style>\n",
              "<table border=\"1\" class=\"dataframe\">\n",
              "  <thead>\n",
              "    <tr style=\"text-align: right;\">\n",
              "      <th></th>\n",
              "      <th>1</th>\n",
              "      <th>2</th>\n",
              "      <th>3</th>\n",
              "      <th>4</th>\n",
              "      <th>5</th>\n",
              "      <th>6</th>\n",
              "      <th>7</th>\n",
              "      <th>8</th>\n",
              "      <th>9</th>\n",
              "      <th>10</th>\n",
              "      <th>11</th>\n",
              "      <th>12</th>\n",
              "      <th>13</th>\n",
              "      <th>14</th>\n",
              "    </tr>\n",
              "  </thead>\n",
              "  <tbody>\n",
              "    <tr>\n",
              "      <th>1</th>\n",
              "      <td>50</td>\n",
              "      <td>5.7</td>\n",
              "      <td>44.1</td>\n",
              "      <td>23.5</td>\n",
              "      <td>0.85</td>\n",
              "      <td>0.32</td>\n",
              "      <td>800</td>\n",
              "      <td>1</td>\n",
              "      <td>0</td>\n",
              "      <td>18.0879</td>\n",
              "      <td>36.1757</td>\n",
              "      <td>34.8837</td>\n",
              "      <td>7.75194</td>\n",
              "      <td>2.3</td>\n",
              "    </tr>\n",
              "    <tr>\n",
              "      <th>2</th>\n",
              "      <td>50</td>\n",
              "      <td>5.7</td>\n",
              "      <td>44.1</td>\n",
              "      <td>21</td>\n",
              "      <td>0.85</td>\n",
              "      <td>0.37</td>\n",
              "      <td>800</td>\n",
              "      <td>1</td>\n",
              "      <td>0</td>\n",
              "      <td>22.7818</td>\n",
              "      <td>31.1751</td>\n",
              "      <td>35.9712</td>\n",
              "      <td>6.47482</td>\n",
              "      <td>2.5</td>\n",
              "    </tr>\n",
              "    <tr>\n",
              "      <th>3</th>\n",
              "      <td>50</td>\n",
              "      <td>5.7</td>\n",
              "      <td>44.1</td>\n",
              "      <td>23</td>\n",
              "      <td>0.85</td>\n",
              "      <td>0.47</td>\n",
              "      <td>810</td>\n",
              "      <td>1</td>\n",
              "      <td>0</td>\n",
              "      <td>23.8806</td>\n",
              "      <td>29.8507</td>\n",
              "      <td>35.8209</td>\n",
              "      <td>7.16418</td>\n",
              "      <td>2.5</td>\n",
              "    </tr>\n",
              "    <tr>\n",
              "      <th>4</th>\n",
              "      <td>50</td>\n",
              "      <td>5.7</td>\n",
              "      <td>44.1</td>\n",
              "      <td>22</td>\n",
              "      <td>0.85</td>\n",
              "      <td>0.26</td>\n",
              "      <td>800</td>\n",
              "      <td>1</td>\n",
              "      <td>0</td>\n",
              "      <td>20.3837</td>\n",
              "      <td>31.1751</td>\n",
              "      <td>35.9712</td>\n",
              "      <td>6.47482</td>\n",
              "      <td>2.1</td>\n",
              "    </tr>\n",
              "    <tr>\n",
              "      <th>5</th>\n",
              "      <td>50</td>\n",
              "      <td>5.7</td>\n",
              "      <td>44.1</td>\n",
              "      <td>25</td>\n",
              "      <td>0.85</td>\n",
              "      <td>0.36</td>\n",
              "      <td>790</td>\n",
              "      <td>1</td>\n",
              "      <td>0</td>\n",
              "      <td>22.7818</td>\n",
              "      <td>31.1751</td>\n",
              "      <td>35.9712</td>\n",
              "      <td>6.47482</td>\n",
              "      <td>2.4</td>\n",
              "    </tr>\n",
              "    <tr>\n",
              "      <th>...</th>\n",
              "      <td>...</td>\n",
              "      <td>...</td>\n",
              "      <td>...</td>\n",
              "      <td>...</td>\n",
              "      <td>...</td>\n",
              "      <td>...</td>\n",
              "      <td>...</td>\n",
              "      <td>...</td>\n",
              "      <td>...</td>\n",
              "      <td>...</td>\n",
              "      <td>...</td>\n",
              "      <td>...</td>\n",
              "      <td>...</td>\n",
              "      <td>...</td>\n",
              "    </tr>\n",
              "    <tr>\n",
              "      <th>218</th>\n",
              "      <td>46.85</td>\n",
              "      <td>6.3</td>\n",
              "      <td>45.55</td>\n",
              "      <td>9</td>\n",
              "      <td>1.3</td>\n",
              "      <td>0.18</td>\n",
              "      <td>750</td>\n",
              "      <td>1</td>\n",
              "      <td>0</td>\n",
              "      <td>17.7868</td>\n",
              "      <td>35.1087</td>\n",
              "      <td>30.5865</td>\n",
              "      <td>10.465</td>\n",
              "      <td>0.858789</td>\n",
              "    </tr>\n",
              "    <tr>\n",
              "      <th>219</th>\n",
              "      <td>46.85</td>\n",
              "      <td>6.3</td>\n",
              "      <td>45.55</td>\n",
              "      <td>9</td>\n",
              "      <td>1.3</td>\n",
              "      <td>0.22</td>\n",
              "      <td>750</td>\n",
              "      <td>1</td>\n",
              "      <td>0</td>\n",
              "      <td>18.5714</td>\n",
              "      <td>33.3062</td>\n",
              "      <td>32.8614</td>\n",
              "      <td>9.70615</td>\n",
              "      <td>0.947532</td>\n",
              "    </tr>\n",
              "    <tr>\n",
              "      <th>220</th>\n",
              "      <td>46.85</td>\n",
              "      <td>6.3</td>\n",
              "      <td>45.55</td>\n",
              "      <td>9</td>\n",
              "      <td>1.3</td>\n",
              "      <td>0.27</td>\n",
              "      <td>750</td>\n",
              "      <td>1</td>\n",
              "      <td>0</td>\n",
              "      <td>15.7623</td>\n",
              "      <td>33.7895</td>\n",
              "      <td>35.4904</td>\n",
              "      <td>9.45507</td>\n",
              "      <td>0.975752</td>\n",
              "    </tr>\n",
              "    <tr>\n",
              "      <th>221</th>\n",
              "      <td>46.76</td>\n",
              "      <td>5.68</td>\n",
              "      <td>39.46</td>\n",
              "      <td>9.94</td>\n",
              "      <td>8.1</td>\n",
              "      <td>0.17</td>\n",
              "      <td>750</td>\n",
              "      <td>1</td>\n",
              "      <td>0</td>\n",
              "      <td>19.0011</td>\n",
              "      <td>31.9511</td>\n",
              "      <td>32.7829</td>\n",
              "      <td>9.93368</td>\n",
              "      <td>0.971784</td>\n",
              "    </tr>\n",
              "    <tr>\n",
              "      <th>222</th>\n",
              "      <td>46.76</td>\n",
              "      <td>5.68</td>\n",
              "      <td>39.46</td>\n",
              "      <td>9.94</td>\n",
              "      <td>8.1</td>\n",
              "      <td>0.21</td>\n",
              "      <td>750</td>\n",
              "      <td>1</td>\n",
              "      <td>0</td>\n",
              "      <td>21.7989</td>\n",
              "      <td>29.1236</td>\n",
              "      <td>34.4266</td>\n",
              "      <td>8.7784</td>\n",
              "      <td>0.982989</td>\n",
              "    </tr>\n",
              "  </tbody>\n",
              "</table>\n",
              "<p>222 rows × 14 columns</p>\n",
              "</div>"
            ],
            "text/plain": [
              "        1     2      3     4   ...       11       12       13        14\n",
              "1       50   5.7   44.1  23.5  ...  36.1757  34.8837  7.75194       2.3\n",
              "2       50   5.7   44.1    21  ...  31.1751  35.9712  6.47482       2.5\n",
              "3       50   5.7   44.1    23  ...  29.8507  35.8209  7.16418       2.5\n",
              "4       50   5.7   44.1    22  ...  31.1751  35.9712  6.47482       2.1\n",
              "5       50   5.7   44.1    25  ...  31.1751  35.9712  6.47482       2.4\n",
              "..     ...   ...    ...   ...  ...      ...      ...      ...       ...\n",
              "218  46.85   6.3  45.55     9  ...  35.1087  30.5865   10.465  0.858789\n",
              "219  46.85   6.3  45.55     9  ...  33.3062  32.8614  9.70615  0.947532\n",
              "220  46.85   6.3  45.55     9  ...  33.7895  35.4904  9.45507  0.975752\n",
              "221  46.76  5.68  39.46  9.94  ...  31.9511  32.7829  9.93368  0.971784\n",
              "222  46.76  5.68  39.46  9.94  ...  29.1236  34.4266   8.7784  0.982989\n",
              "\n",
              "[222 rows x 14 columns]"
            ]
          },
          "metadata": {
            "tags": []
          },
          "execution_count": 5
        }
      ]
    },
    {
      "cell_type": "code",
      "metadata": {
        "id": "I6YGX6YgiV7k"
      },
      "source": [
        "X= df1.iloc[0:221,0:9]\n",
        "y = df1.iloc[0:221,9:14]"
      ],
      "execution_count": 6,
      "outputs": []
    },
    {
      "cell_type": "code",
      "metadata": {
        "id": "wB8c7oXSlPQE"
      },
      "source": [
        "X=X.to_numpy()\n",
        "y=y.to_numpy()"
      ],
      "execution_count": 7,
      "outputs": []
    },
    {
      "cell_type": "code",
      "metadata": {
        "id": "z44oO4LwiFe3"
      },
      "source": [
        "from numpy import asarray\n",
        "from sklearn.datasets import make_regression\n",
        "from keras.models import Sequential\n",
        "from keras.layers import Dense"
      ],
      "execution_count": 8,
      "outputs": []
    },
    {
      "cell_type": "code",
      "metadata": {
        "id": "9erysEbLiOA1"
      },
      "source": [
        "# get the model\n",
        "def get_model(n_inputs, n_outputs):\n",
        "  model = Sequential()\n",
        "  model.add(Dense(20, input_dim=n_inputs, kernel_initializer='he_uniform', activation='relu'))\n",
        "  model.add(Dense(n_outputs, kernel_initializer='he_uniform'))\n",
        "  model.compile(loss='mae', optimizer='adam')\n",
        "  model.summary()\n",
        "  return model"
      ],
      "execution_count": 9,
      "outputs": []
    },
    {
      "cell_type": "code",
      "metadata": {
        "id": "Sjrh7Q4pjLzb",
        "outputId": "0fb37bb5-3d83-41c4-d462-a220122d9b33",
        "colab": {
          "base_uri": "https://localhost:8080/",
          "height": 235
        }
      },
      "source": [
        "X = np.asarray(X).astype('float32')\n",
        "y = np.asarray(y).astype('float32')\n",
        "\n",
        "n_inputs, n_outputs = X.shape[1], y.shape[1]\n",
        "# get model\n",
        "model = get_model(n_inputs, n_outputs)\n",
        "# fit the model on all data\n",
        "model.fit(X, y, verbose=0, epochs=100)"
      ],
      "execution_count": 14,
      "outputs": [
        {
          "output_type": "stream",
          "text": [
            "Model: \"sequential_4\"\n",
            "_________________________________________________________________\n",
            "Layer (type)                 Output Shape              Param #   \n",
            "=================================================================\n",
            "dense_8 (Dense)              (None, 20)                200       \n",
            "_________________________________________________________________\n",
            "dense_9 (Dense)              (None, 5)                 105       \n",
            "=================================================================\n",
            "Total params: 305\n",
            "Trainable params: 305\n",
            "Non-trainable params: 0\n",
            "_________________________________________________________________\n"
          ],
          "name": "stdout"
        },
        {
          "output_type": "execute_result",
          "data": {
            "text/plain": [
              "<tensorflow.python.keras.callbacks.History at 0x7ff07efa62b0>"
            ]
          },
          "metadata": {
            "tags": []
          },
          "execution_count": 14
        }
      ]
    }
  ]
}