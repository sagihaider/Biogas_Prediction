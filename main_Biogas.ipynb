{
  "nbformat": 4,
  "nbformat_minor": 0,
  "metadata": {
    "colab": {
      "name": "main_Biogas.ipynb",
      "provenance": [],
      "include_colab_link": true
    },
    "kernelspec": {
      "name": "python3",
      "display_name": "Python 3"
    },
    "accelerator": "GPU"
  },
  "cells": [
    {
      "cell_type": "markdown",
      "metadata": {
        "id": "view-in-github",
        "colab_type": "text"
      },
      "source": [
        "<a href=\"https://colab.research.google.com/github/sagihaider/Biogas_Prediction/blob/master/main_Biogas.ipynb\" target=\"_parent\"><img src=\"https://colab.research.google.com/assets/colab-badge.svg\" alt=\"Open In Colab\"/></a>"
      ]
    },
    {
      "cell_type": "code",
      "metadata": {
        "id": "iGIORxsXeWuT",
        "outputId": "4081acf3-ede8-4e35-fab2-1fd95f0890fb",
        "colab": {
          "base_uri": "https://localhost:8080/",
          "height": 119
        }
      },
      "source": [
        "!git clone https://github.com/sagihaider/Biogas_Prediction.git"
      ],
      "execution_count": 1,
      "outputs": [
        {
          "output_type": "stream",
          "text": [
            "Cloning into 'Biogas_Prediction'...\n",
            "remote: Enumerating objects: 24, done.\u001b[K\n",
            "remote: Counting objects: 100% (24/24), done.\u001b[K\n",
            "remote: Compressing objects: 100% (21/21), done.\u001b[K\n",
            "remote: Total 24 (delta 7), reused 0 (delta 0), pack-reused 0\u001b[K\n",
            "Unpacking objects: 100% (24/24), done.\n"
          ],
          "name": "stdout"
        }
      ]
    },
    {
      "cell_type": "code",
      "metadata": {
        "id": "eeyor8PpetEw",
        "outputId": "d07de373-2812-4869-9c70-6a306555ebb7",
        "colab": {
          "base_uri": "https://localhost:8080/",
          "height": 561
        }
      },
      "source": [
        "import numpy as np\n",
        "import pandas as pd\n",
        "\n",
        "df=pd.read_excel('/content/Biogas_Prediction/Data/Gasification Data_Daya.xlsx', index_col=None, header=None)\n",
        "df1 = df.iloc[1:223,1:15] \n",
        "print(df1)\n",
        "\n",
        "\n",
        "print(df1.isnull().values.any())\n",
        "print(df1.isna().values.any())\n",
        "\n",
        "# Drop null balues and store dataframe in dataframe 2\n",
        "df2=df1.dropna()\n",
        "print(df2)\n",
        "\n",
        "#Check Null values again after removing\n",
        "print(df2.isnull().values.any())\n",
        "print(df2.isna().values.any())\n",
        "\n",
        "# Store Dependent and independent variabels in X and y\n",
        "X= df2.iloc[0:187,0:9]\n",
        "y = df2.iloc[0:187,9:14]\n",
        "\n",
        "# Convert X and Y in Numpy Array\n",
        "X=X.to_numpy()\n",
        "y=y.to_numpy()\n"
      ],
      "execution_count": 3,
      "outputs": [
        {
          "output_type": "stream",
          "text": [
            "        1     2      3     4   ...       11       12       13        14\n",
            "1       50   5.7   44.1  23.5  ...  36.1757  34.8837  7.75194       2.3\n",
            "2       50   5.7   44.1    21  ...  31.1751  35.9712  6.47482       2.5\n",
            "3       50   5.7   44.1    23  ...  29.8507  35.8209  7.16418       2.5\n",
            "4       50   5.7   44.1    22  ...  31.1751  35.9712  6.47482       2.1\n",
            "5       50   5.7   44.1    25  ...  31.1751  35.9712  6.47482       2.4\n",
            "..     ...   ...    ...   ...  ...      ...      ...      ...       ...\n",
            "218  46.85   6.3  45.55     9  ...  35.1087  30.5865   10.465  0.858789\n",
            "219  46.85   6.3  45.55     9  ...  33.3062  32.8614  9.70615  0.947532\n",
            "220  46.85   6.3  45.55     9  ...  33.7895  35.4904  9.45507  0.975752\n",
            "221  46.76  5.68  39.46  9.94  ...  31.9511  32.7829  9.93368  0.971784\n",
            "222  46.76  5.68  39.46  9.94  ...  29.1236  34.4266   8.7784  0.982989\n",
            "\n",
            "[222 rows x 14 columns]\n",
            "True\n",
            "True\n",
            "        1     2      3     4   ...       11       12       13        14\n",
            "1       50   5.7   44.1  23.5  ...  36.1757  34.8837  7.75194       2.3\n",
            "2       50   5.7   44.1    21  ...  31.1751  35.9712  6.47482       2.5\n",
            "3       50   5.7   44.1    23  ...  29.8507  35.8209  7.16418       2.5\n",
            "4       50   5.7   44.1    22  ...  31.1751  35.9712  6.47482       2.1\n",
            "5       50   5.7   44.1    25  ...  31.1751  35.9712  6.47482       2.4\n",
            "..     ...   ...    ...   ...  ...      ...      ...      ...       ...\n",
            "218  46.85   6.3  45.55     9  ...  35.1087  30.5865   10.465  0.858789\n",
            "219  46.85   6.3  45.55     9  ...  33.3062  32.8614  9.70615  0.947532\n",
            "220  46.85   6.3  45.55     9  ...  33.7895  35.4904  9.45507  0.975752\n",
            "221  46.76  5.68  39.46  9.94  ...  31.9511  32.7829  9.93368  0.971784\n",
            "222  46.76  5.68  39.46  9.94  ...  29.1236  34.4266   8.7784  0.982989\n",
            "\n",
            "[187 rows x 14 columns]\n",
            "False\n",
            "False\n"
          ],
          "name": "stdout"
        }
      ]
    },
    {
      "cell_type": "code",
      "metadata": {
        "id": "z44oO4LwiFe3"
      },
      "source": [
        "from numpy import asarray\n",
        "from sklearn.datasets import make_regression\n",
        "from sklearn.model_selection import train_test_split\n",
        "from keras.models import Sequential\n",
        "from keras.layers import Dense\n",
        "from keras.wrappers.scikit_learn import KerasRegressor\n",
        "from sklearn.model_selection import cross_val_score\n",
        "from sklearn.model_selection import KFold\n",
        "\n",
        "X = np.asarray(X).astype('float32')\n",
        "y = np.asarray(y).astype('float32')\n",
        "\n",
        "# get the model\n",
        "def get_model(n_inputs, n_outputs):\n",
        "  model = Sequential()\n",
        "  model.add(Dense(20, input_dim=n_inputs, kernel_initializer='he_uniform', activation='relu'))\n",
        "  model.add(Dense(n_outputs, kernel_initializer='he_uniform'))\n",
        "  model.compile(loss='mae', optimizer='adam')\n",
        "  model.summary()\n",
        "  return model\n"
      ],
      "execution_count": 10,
      "outputs": []
    },
    {
      "cell_type": "code",
      "metadata": {
        "id": "Sjrh7Q4pjLzb",
        "outputId": "128171f8-925b-41fb-c147-f04a2c5976b7",
        "colab": {
          "base_uri": "https://localhost:8080/",
          "height": 221
        }
      },
      "source": [
        "X_train, X_test, y_train, y_test = train_test_split(X, y, test_size=0.20, random_state=42)\n",
        "n_inputs, n_outputs = X.shape[1], y.shape[1]\n",
        "model = get_model(n_inputs, n_outputs)\n",
        "history = model.fit(X_train, y_train, epochs=5000, batch_size=64, validation_data=(X_test, y_test), verbose=0)\n"
      ],
      "execution_count": 11,
      "outputs": [
        {
          "output_type": "stream",
          "text": [
            "Model: \"sequential_2\"\n",
            "_________________________________________________________________\n",
            "Layer (type)                 Output Shape              Param #   \n",
            "=================================================================\n",
            "dense_4 (Dense)              (None, 20)                200       \n",
            "_________________________________________________________________\n",
            "dense_5 (Dense)              (None, 5)                 105       \n",
            "=================================================================\n",
            "Total params: 305\n",
            "Trainable params: 305\n",
            "Non-trainable params: 0\n",
            "_________________________________________________________________\n"
          ],
          "name": "stdout"
        }
      ]
    },
    {
      "cell_type": "code",
      "metadata": {
        "id": "k4k6HbOFJIuG"
      },
      "source": [
        "yhat = model.predict(X_test)\n",
        "# mae = model.evaluate(X_test, y_test, verbose=0)"
      ],
      "execution_count": 12,
      "outputs": []
    },
    {
      "cell_type": "code",
      "metadata": {
        "id": "stqEUfF2KRtA",
        "outputId": "fc92c1ac-c0cf-4ba2-9786-2cc0a8bcdac3",
        "colab": {
          "base_uri": "https://localhost:8080/",
          "height": 51
        }
      },
      "source": [
        "from sklearn.metrics import mean_squared_error\n",
        "mean_squared_error(y_test, yhat, multioutput='raw_values')"
      ],
      "execution_count": 15,
      "outputs": [
        {
          "output_type": "execute_result",
          "data": {
            "text/plain": [
              "array([45.116016  , 45.199066  , 36.3271    , 11.831059  ,  0.19085228],\n",
              "      dtype=float32)"
            ]
          },
          "metadata": {
            "tags": []
          },
          "execution_count": 15
        }
      ]
    }
  ]
}