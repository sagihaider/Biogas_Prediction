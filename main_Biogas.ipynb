{
  "nbformat": 4,
  "nbformat_minor": 0,
  "metadata": {
    "colab": {
      "name": "main_Biogas.ipynb",
      "provenance": [],
      "include_colab_link": true
    },
    "kernelspec": {
      "name": "python3",
      "display_name": "Python 3"
    }
  },
  "cells": [
    {
      "cell_type": "markdown",
      "metadata": {
        "id": "view-in-github",
        "colab_type": "text"
      },
      "source": [
        "<a href=\"https://colab.research.google.com/github/sagihaider/Biogas_Prediction/blob/master/main_Biogas.ipynb\" target=\"_parent\"><img src=\"https://colab.research.google.com/assets/colab-badge.svg\" alt=\"Open In Colab\"/></a>"
      ]
    },
    {
      "cell_type": "code",
      "metadata": {
        "id": "iGIORxsXeWuT",
        "outputId": "5e7ac8da-d387-4373-e6f9-545ff0ee1e69",
        "colab": {
          "base_uri": "https://localhost:8080/",
          "height": 34
        }
      },
      "source": [
        "!git clone https://github.com/sagihaider/Biogas_Prediction.git"
      ],
      "execution_count": 11,
      "outputs": [
        {
          "output_type": "stream",
          "text": [
            "fatal: destination path 'Biogas_Prediction' already exists and is not an empty directory.\n"
          ],
          "name": "stdout"
        }
      ]
    },
    {
      "cell_type": "code",
      "metadata": {
        "id": "eeyor8PpetEw"
      },
      "source": [
        "import numpy as np\n",
        "import pandas as pd"
      ],
      "execution_count": null,
      "outputs": []
    },
    {
      "cell_type": "code",
      "metadata": {
        "id": "0XjkxdU8exv7"
      },
      "source": [
        "df=pd.read_excel('/content/Biogas_Prediction/Data/Gasification Data_Daya.xlsx', index_col=None, header=None)"
      ],
      "execution_count": 12,
      "outputs": []
    },
    {
      "cell_type": "code",
      "metadata": {
        "id": "K84svWbpfYbY"
      },
      "source": [
        "df1 = df.iloc[1:223,1:15] "
      ],
      "execution_count": 13,
      "outputs": []
    },
    {
      "cell_type": "code",
      "metadata": {
        "id": "HNibJhx0gSqD",
        "outputId": "f93d06be-d0cd-4c88-b302-bc3d6998ee56",
        "colab": {
          "base_uri": "https://localhost:8080/",
          "height": 419
        }
      },
      "source": [
        "df1"
      ],
      "execution_count": 14,
      "outputs": [
        {
          "output_type": "execute_result",
          "data": {
            "text/html": [
              "<div>\n",
              "<style scoped>\n",
              "    .dataframe tbody tr th:only-of-type {\n",
              "        vertical-align: middle;\n",
              "    }\n",
              "\n",
              "    .dataframe tbody tr th {\n",
              "        vertical-align: top;\n",
              "    }\n",
              "\n",
              "    .dataframe thead th {\n",
              "        text-align: right;\n",
              "    }\n",
              "</style>\n",
              "<table border=\"1\" class=\"dataframe\">\n",
              "  <thead>\n",
              "    <tr style=\"text-align: right;\">\n",
              "      <th></th>\n",
              "      <th>1</th>\n",
              "      <th>2</th>\n",
              "      <th>3</th>\n",
              "      <th>4</th>\n",
              "      <th>5</th>\n",
              "      <th>6</th>\n",
              "      <th>7</th>\n",
              "      <th>8</th>\n",
              "      <th>9</th>\n",
              "      <th>10</th>\n",
              "      <th>11</th>\n",
              "      <th>12</th>\n",
              "      <th>13</th>\n",
              "      <th>14</th>\n",
              "    </tr>\n",
              "  </thead>\n",
              "  <tbody>\n",
              "    <tr>\n",
              "      <th>1</th>\n",
              "      <td>50</td>\n",
              "      <td>5.7</td>\n",
              "      <td>44.1</td>\n",
              "      <td>23.5</td>\n",
              "      <td>0.85</td>\n",
              "      <td>0.32</td>\n",
              "      <td>800</td>\n",
              "      <td>1</td>\n",
              "      <td>0</td>\n",
              "      <td>18.0879</td>\n",
              "      <td>36.1757</td>\n",
              "      <td>34.8837</td>\n",
              "      <td>7.75194</td>\n",
              "      <td>2.3</td>\n",
              "    </tr>\n",
              "    <tr>\n",
              "      <th>2</th>\n",
              "      <td>50</td>\n",
              "      <td>5.7</td>\n",
              "      <td>44.1</td>\n",
              "      <td>21</td>\n",
              "      <td>0.85</td>\n",
              "      <td>0.37</td>\n",
              "      <td>800</td>\n",
              "      <td>1</td>\n",
              "      <td>0</td>\n",
              "      <td>22.7818</td>\n",
              "      <td>31.1751</td>\n",
              "      <td>35.9712</td>\n",
              "      <td>6.47482</td>\n",
              "      <td>2.5</td>\n",
              "    </tr>\n",
              "    <tr>\n",
              "      <th>3</th>\n",
              "      <td>50</td>\n",
              "      <td>5.7</td>\n",
              "      <td>44.1</td>\n",
              "      <td>23</td>\n",
              "      <td>0.85</td>\n",
              "      <td>0.47</td>\n",
              "      <td>810</td>\n",
              "      <td>1</td>\n",
              "      <td>0</td>\n",
              "      <td>23.8806</td>\n",
              "      <td>29.8507</td>\n",
              "      <td>35.8209</td>\n",
              "      <td>7.16418</td>\n",
              "      <td>2.5</td>\n",
              "    </tr>\n",
              "    <tr>\n",
              "      <th>4</th>\n",
              "      <td>50</td>\n",
              "      <td>5.7</td>\n",
              "      <td>44.1</td>\n",
              "      <td>22</td>\n",
              "      <td>0.85</td>\n",
              "      <td>0.26</td>\n",
              "      <td>800</td>\n",
              "      <td>1</td>\n",
              "      <td>0</td>\n",
              "      <td>20.3837</td>\n",
              "      <td>31.1751</td>\n",
              "      <td>35.9712</td>\n",
              "      <td>6.47482</td>\n",
              "      <td>2.1</td>\n",
              "    </tr>\n",
              "    <tr>\n",
              "      <th>5</th>\n",
              "      <td>50</td>\n",
              "      <td>5.7</td>\n",
              "      <td>44.1</td>\n",
              "      <td>25</td>\n",
              "      <td>0.85</td>\n",
              "      <td>0.36</td>\n",
              "      <td>790</td>\n",
              "      <td>1</td>\n",
              "      <td>0</td>\n",
              "      <td>22.7818</td>\n",
              "      <td>31.1751</td>\n",
              "      <td>35.9712</td>\n",
              "      <td>6.47482</td>\n",
              "      <td>2.4</td>\n",
              "    </tr>\n",
              "    <tr>\n",
              "      <th>...</th>\n",
              "      <td>...</td>\n",
              "      <td>...</td>\n",
              "      <td>...</td>\n",
              "      <td>...</td>\n",
              "      <td>...</td>\n",
              "      <td>...</td>\n",
              "      <td>...</td>\n",
              "      <td>...</td>\n",
              "      <td>...</td>\n",
              "      <td>...</td>\n",
              "      <td>...</td>\n",
              "      <td>...</td>\n",
              "      <td>...</td>\n",
              "      <td>...</td>\n",
              "    </tr>\n",
              "    <tr>\n",
              "      <th>218</th>\n",
              "      <td>46.85</td>\n",
              "      <td>6.3</td>\n",
              "      <td>45.55</td>\n",
              "      <td>9</td>\n",
              "      <td>1.3</td>\n",
              "      <td>0.18</td>\n",
              "      <td>750</td>\n",
              "      <td>1</td>\n",
              "      <td>0</td>\n",
              "      <td>17.7868</td>\n",
              "      <td>35.1087</td>\n",
              "      <td>30.5865</td>\n",
              "      <td>10.465</td>\n",
              "      <td>0.858789</td>\n",
              "    </tr>\n",
              "    <tr>\n",
              "      <th>219</th>\n",
              "      <td>46.85</td>\n",
              "      <td>6.3</td>\n",
              "      <td>45.55</td>\n",
              "      <td>9</td>\n",
              "      <td>1.3</td>\n",
              "      <td>0.22</td>\n",
              "      <td>750</td>\n",
              "      <td>1</td>\n",
              "      <td>0</td>\n",
              "      <td>18.5714</td>\n",
              "      <td>33.3062</td>\n",
              "      <td>32.8614</td>\n",
              "      <td>9.70615</td>\n",
              "      <td>0.947532</td>\n",
              "    </tr>\n",
              "    <tr>\n",
              "      <th>220</th>\n",
              "      <td>46.85</td>\n",
              "      <td>6.3</td>\n",
              "      <td>45.55</td>\n",
              "      <td>9</td>\n",
              "      <td>1.3</td>\n",
              "      <td>0.27</td>\n",
              "      <td>750</td>\n",
              "      <td>1</td>\n",
              "      <td>0</td>\n",
              "      <td>15.7623</td>\n",
              "      <td>33.7895</td>\n",
              "      <td>35.4904</td>\n",
              "      <td>9.45507</td>\n",
              "      <td>0.975752</td>\n",
              "    </tr>\n",
              "    <tr>\n",
              "      <th>221</th>\n",
              "      <td>46.76</td>\n",
              "      <td>5.68</td>\n",
              "      <td>39.46</td>\n",
              "      <td>9.94</td>\n",
              "      <td>8.1</td>\n",
              "      <td>0.17</td>\n",
              "      <td>750</td>\n",
              "      <td>1</td>\n",
              "      <td>0</td>\n",
              "      <td>19.0011</td>\n",
              "      <td>31.9511</td>\n",
              "      <td>32.7829</td>\n",
              "      <td>9.93368</td>\n",
              "      <td>0.971784</td>\n",
              "    </tr>\n",
              "    <tr>\n",
              "      <th>222</th>\n",
              "      <td>46.76</td>\n",
              "      <td>5.68</td>\n",
              "      <td>39.46</td>\n",
              "      <td>9.94</td>\n",
              "      <td>8.1</td>\n",
              "      <td>0.21</td>\n",
              "      <td>750</td>\n",
              "      <td>1</td>\n",
              "      <td>0</td>\n",
              "      <td>21.7989</td>\n",
              "      <td>29.1236</td>\n",
              "      <td>34.4266</td>\n",
              "      <td>8.7784</td>\n",
              "      <td>0.982989</td>\n",
              "    </tr>\n",
              "  </tbody>\n",
              "</table>\n",
              "<p>222 rows × 14 columns</p>\n",
              "</div>"
            ],
            "text/plain": [
              "        1     2      3     4   ...       11       12       13        14\n",
              "1       50   5.7   44.1  23.5  ...  36.1757  34.8837  7.75194       2.3\n",
              "2       50   5.7   44.1    21  ...  31.1751  35.9712  6.47482       2.5\n",
              "3       50   5.7   44.1    23  ...  29.8507  35.8209  7.16418       2.5\n",
              "4       50   5.7   44.1    22  ...  31.1751  35.9712  6.47482       2.1\n",
              "5       50   5.7   44.1    25  ...  31.1751  35.9712  6.47482       2.4\n",
              "..     ...   ...    ...   ...  ...      ...      ...      ...       ...\n",
              "218  46.85   6.3  45.55     9  ...  35.1087  30.5865   10.465  0.858789\n",
              "219  46.85   6.3  45.55     9  ...  33.3062  32.8614  9.70615  0.947532\n",
              "220  46.85   6.3  45.55     9  ...  33.7895  35.4904  9.45507  0.975752\n",
              "221  46.76  5.68  39.46  9.94  ...  31.9511  32.7829  9.93368  0.971784\n",
              "222  46.76  5.68  39.46  9.94  ...  29.1236  34.4266   8.7784  0.982989\n",
              "\n",
              "[222 rows x 14 columns]"
            ]
          },
          "metadata": {
            "tags": []
          },
          "execution_count": 14
        }
      ]
    },
    {
      "cell_type": "code",
      "metadata": {
        "id": "D45veE7-Ku_z",
        "outputId": "06e79959-6b8e-453d-d8ac-209339550f2d",
        "colab": {
          "base_uri": "https://localhost:8080/",
          "height": 419
        }
      },
      "source": [
        "df1"
      ],
      "execution_count": 38,
      "outputs": [
        {
          "output_type": "execute_result",
          "data": {
            "text/html": [
              "<div>\n",
              "<style scoped>\n",
              "    .dataframe tbody tr th:only-of-type {\n",
              "        vertical-align: middle;\n",
              "    }\n",
              "\n",
              "    .dataframe tbody tr th {\n",
              "        vertical-align: top;\n",
              "    }\n",
              "\n",
              "    .dataframe thead th {\n",
              "        text-align: right;\n",
              "    }\n",
              "</style>\n",
              "<table border=\"1\" class=\"dataframe\">\n",
              "  <thead>\n",
              "    <tr style=\"text-align: right;\">\n",
              "      <th></th>\n",
              "      <th>1</th>\n",
              "      <th>2</th>\n",
              "      <th>3</th>\n",
              "      <th>4</th>\n",
              "      <th>5</th>\n",
              "      <th>6</th>\n",
              "      <th>7</th>\n",
              "      <th>8</th>\n",
              "      <th>9</th>\n",
              "      <th>10</th>\n",
              "      <th>11</th>\n",
              "      <th>12</th>\n",
              "      <th>13</th>\n",
              "      <th>14</th>\n",
              "    </tr>\n",
              "  </thead>\n",
              "  <tbody>\n",
              "    <tr>\n",
              "      <th>1</th>\n",
              "      <td>50</td>\n",
              "      <td>5.7</td>\n",
              "      <td>44.1</td>\n",
              "      <td>23.5</td>\n",
              "      <td>0.85</td>\n",
              "      <td>0.32</td>\n",
              "      <td>800</td>\n",
              "      <td>1</td>\n",
              "      <td>0</td>\n",
              "      <td>18.0879</td>\n",
              "      <td>36.1757</td>\n",
              "      <td>34.8837</td>\n",
              "      <td>7.75194</td>\n",
              "      <td>2.3</td>\n",
              "    </tr>\n",
              "    <tr>\n",
              "      <th>2</th>\n",
              "      <td>50</td>\n",
              "      <td>5.7</td>\n",
              "      <td>44.1</td>\n",
              "      <td>21</td>\n",
              "      <td>0.85</td>\n",
              "      <td>0.37</td>\n",
              "      <td>800</td>\n",
              "      <td>1</td>\n",
              "      <td>0</td>\n",
              "      <td>22.7818</td>\n",
              "      <td>31.1751</td>\n",
              "      <td>35.9712</td>\n",
              "      <td>6.47482</td>\n",
              "      <td>2.5</td>\n",
              "    </tr>\n",
              "    <tr>\n",
              "      <th>3</th>\n",
              "      <td>50</td>\n",
              "      <td>5.7</td>\n",
              "      <td>44.1</td>\n",
              "      <td>23</td>\n",
              "      <td>0.85</td>\n",
              "      <td>0.47</td>\n",
              "      <td>810</td>\n",
              "      <td>1</td>\n",
              "      <td>0</td>\n",
              "      <td>23.8806</td>\n",
              "      <td>29.8507</td>\n",
              "      <td>35.8209</td>\n",
              "      <td>7.16418</td>\n",
              "      <td>2.5</td>\n",
              "    </tr>\n",
              "    <tr>\n",
              "      <th>4</th>\n",
              "      <td>50</td>\n",
              "      <td>5.7</td>\n",
              "      <td>44.1</td>\n",
              "      <td>22</td>\n",
              "      <td>0.85</td>\n",
              "      <td>0.26</td>\n",
              "      <td>800</td>\n",
              "      <td>1</td>\n",
              "      <td>0</td>\n",
              "      <td>20.3837</td>\n",
              "      <td>31.1751</td>\n",
              "      <td>35.9712</td>\n",
              "      <td>6.47482</td>\n",
              "      <td>2.1</td>\n",
              "    </tr>\n",
              "    <tr>\n",
              "      <th>5</th>\n",
              "      <td>50</td>\n",
              "      <td>5.7</td>\n",
              "      <td>44.1</td>\n",
              "      <td>25</td>\n",
              "      <td>0.85</td>\n",
              "      <td>0.36</td>\n",
              "      <td>790</td>\n",
              "      <td>1</td>\n",
              "      <td>0</td>\n",
              "      <td>22.7818</td>\n",
              "      <td>31.1751</td>\n",
              "      <td>35.9712</td>\n",
              "      <td>6.47482</td>\n",
              "      <td>2.4</td>\n",
              "    </tr>\n",
              "    <tr>\n",
              "      <th>...</th>\n",
              "      <td>...</td>\n",
              "      <td>...</td>\n",
              "      <td>...</td>\n",
              "      <td>...</td>\n",
              "      <td>...</td>\n",
              "      <td>...</td>\n",
              "      <td>...</td>\n",
              "      <td>...</td>\n",
              "      <td>...</td>\n",
              "      <td>...</td>\n",
              "      <td>...</td>\n",
              "      <td>...</td>\n",
              "      <td>...</td>\n",
              "      <td>...</td>\n",
              "    </tr>\n",
              "    <tr>\n",
              "      <th>218</th>\n",
              "      <td>46.85</td>\n",
              "      <td>6.3</td>\n",
              "      <td>45.55</td>\n",
              "      <td>9</td>\n",
              "      <td>1.3</td>\n",
              "      <td>0.18</td>\n",
              "      <td>750</td>\n",
              "      <td>1</td>\n",
              "      <td>0</td>\n",
              "      <td>17.7868</td>\n",
              "      <td>35.1087</td>\n",
              "      <td>30.5865</td>\n",
              "      <td>10.465</td>\n",
              "      <td>0.858789</td>\n",
              "    </tr>\n",
              "    <tr>\n",
              "      <th>219</th>\n",
              "      <td>46.85</td>\n",
              "      <td>6.3</td>\n",
              "      <td>45.55</td>\n",
              "      <td>9</td>\n",
              "      <td>1.3</td>\n",
              "      <td>0.22</td>\n",
              "      <td>750</td>\n",
              "      <td>1</td>\n",
              "      <td>0</td>\n",
              "      <td>18.5714</td>\n",
              "      <td>33.3062</td>\n",
              "      <td>32.8614</td>\n",
              "      <td>9.70615</td>\n",
              "      <td>0.947532</td>\n",
              "    </tr>\n",
              "    <tr>\n",
              "      <th>220</th>\n",
              "      <td>46.85</td>\n",
              "      <td>6.3</td>\n",
              "      <td>45.55</td>\n",
              "      <td>9</td>\n",
              "      <td>1.3</td>\n",
              "      <td>0.27</td>\n",
              "      <td>750</td>\n",
              "      <td>1</td>\n",
              "      <td>0</td>\n",
              "      <td>15.7623</td>\n",
              "      <td>33.7895</td>\n",
              "      <td>35.4904</td>\n",
              "      <td>9.45507</td>\n",
              "      <td>0.975752</td>\n",
              "    </tr>\n",
              "    <tr>\n",
              "      <th>221</th>\n",
              "      <td>46.76</td>\n",
              "      <td>5.68</td>\n",
              "      <td>39.46</td>\n",
              "      <td>9.94</td>\n",
              "      <td>8.1</td>\n",
              "      <td>0.17</td>\n",
              "      <td>750</td>\n",
              "      <td>1</td>\n",
              "      <td>0</td>\n",
              "      <td>19.0011</td>\n",
              "      <td>31.9511</td>\n",
              "      <td>32.7829</td>\n",
              "      <td>9.93368</td>\n",
              "      <td>0.971784</td>\n",
              "    </tr>\n",
              "    <tr>\n",
              "      <th>222</th>\n",
              "      <td>46.76</td>\n",
              "      <td>5.68</td>\n",
              "      <td>39.46</td>\n",
              "      <td>9.94</td>\n",
              "      <td>8.1</td>\n",
              "      <td>0.21</td>\n",
              "      <td>750</td>\n",
              "      <td>1</td>\n",
              "      <td>0</td>\n",
              "      <td>21.7989</td>\n",
              "      <td>29.1236</td>\n",
              "      <td>34.4266</td>\n",
              "      <td>8.7784</td>\n",
              "      <td>0.982989</td>\n",
              "    </tr>\n",
              "  </tbody>\n",
              "</table>\n",
              "<p>222 rows × 14 columns</p>\n",
              "</div>"
            ],
            "text/plain": [
              "        1     2      3     4   ...       11       12       13        14\n",
              "1       50   5.7   44.1  23.5  ...  36.1757  34.8837  7.75194       2.3\n",
              "2       50   5.7   44.1    21  ...  31.1751  35.9712  6.47482       2.5\n",
              "3       50   5.7   44.1    23  ...  29.8507  35.8209  7.16418       2.5\n",
              "4       50   5.7   44.1    22  ...  31.1751  35.9712  6.47482       2.1\n",
              "5       50   5.7   44.1    25  ...  31.1751  35.9712  6.47482       2.4\n",
              "..     ...   ...    ...   ...  ...      ...      ...      ...       ...\n",
              "218  46.85   6.3  45.55     9  ...  35.1087  30.5865   10.465  0.858789\n",
              "219  46.85   6.3  45.55     9  ...  33.3062  32.8614  9.70615  0.947532\n",
              "220  46.85   6.3  45.55     9  ...  33.7895  35.4904  9.45507  0.975752\n",
              "221  46.76  5.68  39.46  9.94  ...  31.9511  32.7829  9.93368  0.971784\n",
              "222  46.76  5.68  39.46  9.94  ...  29.1236  34.4266   8.7784  0.982989\n",
              "\n",
              "[222 rows x 14 columns]"
            ]
          },
          "metadata": {
            "tags": []
          },
          "execution_count": 38
        }
      ]
    },
    {
      "cell_type": "code",
      "metadata": {
        "id": "I6YGX6YgiV7k",
        "outputId": "9494b377-2706-4cb4-a85d-b462d03ce5d0",
        "colab": {
          "base_uri": "https://localhost:8080/",
          "height": 34
        }
      },
      "source": [
        "X= df1.iloc[0:221,0:9]\n",
        "y = df1.iloc[0:221,9:14]\n",
        "y.isnull().values.any()\n",
        "y.isna().values.any()"
      ],
      "execution_count": 53,
      "outputs": [
        {
          "output_type": "execute_result",
          "data": {
            "text/plain": [
              "True"
            ]
          },
          "metadata": {
            "tags": []
          },
          "execution_count": 53
        }
      ]
    },
    {
      "cell_type": "code",
      "metadata": {
        "id": "wB8c7oXSlPQE"
      },
      "source": [
        "X=X.to_numpy()\n",
        "y=y.to_numpy()"
      ],
      "execution_count": 41,
      "outputs": []
    },
    {
      "cell_type": "code",
      "metadata": {
        "id": "z44oO4LwiFe3"
      },
      "source": [
        "from numpy import asarray\n",
        "from sklearn.datasets import make_regression\n",
        "from sklearn.model_selection import train_test_split\n",
        "from keras.models import Sequential\n",
        "from keras.layers import Dense"
      ],
      "execution_count": 42,
      "outputs": []
    },
    {
      "cell_type": "code",
      "metadata": {
        "id": "9erysEbLiOA1"
      },
      "source": [
        "# get the model\n",
        "def get_model(n_inputs, n_outputs):\n",
        "  model = Sequential()\n",
        "  model.add(Dense(20, input_dim=n_inputs, kernel_initializer='he_uniform', activation='relu'))\n",
        "  model.add(Dense(n_outputs, kernel_initializer='he_uniform'))\n",
        "  model.compile(loss='mae', optimizer='adam')\n",
        "  model.summary()\n",
        "  return model"
      ],
      "execution_count": 43,
      "outputs": []
    },
    {
      "cell_type": "code",
      "metadata": {
        "id": "Sjrh7Q4pjLzb",
        "outputId": "f73d46fa-77c5-41eb-9883-62d7322386d7",
        "colab": {
          "base_uri": "https://localhost:8080/",
          "height": 221
        }
      },
      "source": [
        "X = np.asarray(X).astype('float32')\n",
        "y = np.asarray(y).astype('float32')\n",
        "\n",
        "X_train, X_test, y_train, y_test = train_test_split(X, y, test_size=0.20, random_state=42)\n",
        "\n",
        "\n",
        "n_inputs, n_outputs = X.shape[1], y.shape[1]\n",
        "# get model\n",
        "model = get_model(n_inputs, n_outputs)\n",
        "# fit the model on all data\n",
        "# model.fit(X, y, verbose=0, epochs=100)\n",
        "history = model.fit(X_train, y_train, epochs=100, batch_size=64, validation_data=(X_test, y_test), verbose=0)\n"
      ],
      "execution_count": 44,
      "outputs": [
        {
          "output_type": "stream",
          "text": [
            "Model: \"sequential_3\"\n",
            "_________________________________________________________________\n",
            "Layer (type)                 Output Shape              Param #   \n",
            "=================================================================\n",
            "dense_6 (Dense)              (None, 20)                200       \n",
            "_________________________________________________________________\n",
            "dense_7 (Dense)              (None, 5)                 105       \n",
            "=================================================================\n",
            "Total params: 305\n",
            "Trainable params: 305\n",
            "Non-trainable params: 0\n",
            "_________________________________________________________________\n"
          ],
          "name": "stdout"
        }
      ]
    },
    {
      "cell_type": "code",
      "metadata": {
        "id": "k4k6HbOFJIuG",
        "outputId": "668ef200-a181-4c75-b9fb-b1a064c6a096",
        "colab": {
          "base_uri": "https://localhost:8080/",
          "height": 799
        }
      },
      "source": [
        "yhat = model.predict(X_test)\n",
        "# mae = model.evaluate(X_test, y_test, verbose=0)\n",
        "y_test"
      ],
      "execution_count": 45,
      "outputs": [
        {
          "output_type": "execute_result",
          "data": {
            "text/plain": [
              "array([[ 9.767442 , 38.63049  , 41.937984 ,  6.124031 ,  2.4840362],\n",
              "       [19.87     , 36.63     , 29.73     ,  9.81     ,  1.090383 ],\n",
              "       [25.       , 15.406977 , 28.488373 , 21.22093  ,  3.8693535],\n",
              "       [23.4      , 33.7      , 35.2      ,  7.7      ,  2.2794   ],\n",
              "       [39.42     , 33.35     , 19.25     ,  6.13     ,  2.7652087],\n",
              "       [12.749004 , 17.131474 , 56.1753   ,  3.9840639,  2.9      ],\n",
              "       [ 7.5856166, 21.267124 , 18.681507 ,  6.14726  ,        nan],\n",
              "       [21.34364  , 37.594135 , 33.234245 ,  7.8279824,        nan],\n",
              "       [17.611874 , 33.052727 , 43.15463  ,  6.180771 ,  2.0941179],\n",
              "       [21.54     , 31.29     , 34.59     ,  9.76     ,  0.9392408],\n",
              "       [25.432098 , 22.222221 , 33.580246 ,  8.148149 ,  2.8      ],\n",
              "       [28.056112 , 30.06012  , 32.46493  ,  9.418838 ,  1.8555417],\n",
              "       [21.387175 , 37.14713  , 28.192186 , 13.273509 ,        nan],\n",
              "       [16.642336 , 28.223845 , 40.778587 ,  8.442822 ,  2.3660264],\n",
              "       [20.242998 , 38.714993 , 34.452225 ,  6.589786 ,  2.1892817],\n",
              "       [15.762349 , 33.789486 , 35.490356 ,  9.455065 ,  0.9757524],\n",
              "       [25.       , 31.4      , 34.2      ,  9.4      ,  2.2179   ],\n",
              "       [31.41     , 39.96     , 16.47     ,  7.59     ,  2.5138261],\n",
              "       [21.172775 , 33.089005 , 35.14136  , 10.596859 ,        nan],\n",
              "       [16.023739 , 36.39254  , 40.589233 ,  6.994489 ,  1.927024 ],\n",
              "       [20.821918 , 34.85323  , 31.48728  , 12.837573 ,        nan],\n",
              "       [20.101782 , 27.735369 , 35.87786  , 12.468193 ,  3.0915253],\n",
              "       [19.8      , 16.4      , 15.9      ,  4.9      ,        nan],\n",
              "       [31.86     , 37.42     , 19.62     ,  7.48     ,  2.1312873],\n",
              "       [26.666666 , 20.       , 37.77778  , 15.555555 ,  1.5977738],\n",
              "       [20.364803 , 35.939068 , 33.092804 , 10.603328 ,        nan],\n",
              "       [16.71388  , 21.529745 , 37.96034  , 18.696884 ,  3.043112 ],\n",
              "       [32.11     , 37.92     , 17.75     ,  7.79     ,  2.3280215],\n",
              "       [20.192308 , 23.798077 , 36.53846  , 19.471153 ,  2.4912157],\n",
              "       [15.5      , 31.6      , 38.1      ,  8.4      ,  2.0985508],\n",
              "       [31.357553 , 24.091778 , 24.856596 , 10.898662 ,  2.       ],\n",
              "       [25.518673 , 30.082987 , 38.174274 ,  6.2240663,  2.31     ],\n",
              "       [28.605202 , 23.87707  , 30.969267 ,  7.8014183,  2.6      ],\n",
              "       [20.85373  , 37.066772 , 30.135109 , 11.94439  ,        nan],\n",
              "       [15.374841 , 38.068615 , 38.88183  ,  7.674714 ,  1.5411767],\n",
              "       [25.063938 , 18.414322 , 36.317135 ,  9.462915 ,  1.9      ],\n",
              "       [54.826958 , 33.515484 ,  2.9143898,  6.1930785,  4.2190495],\n",
              "       [ 9.217102 , 36.09106  , 46.141033 ,  5.3026094,  2.1537886],\n",
              "       [20.27     , 30.61     , 34.73     , 10.18     ,  0.9608326],\n",
              "       [26.098902 , 20.604395 , 36.263737 ,  7.142857 ,  2.8      ],\n",
              "       [55.113636 , 39.583332 ,  2.2727273,  2.840909 ,  6.2626514],\n",
              "       [17.95692  , 33.525272 , 35.956493 , 12.561314 ,        nan],\n",
              "       [33.54978  , 22.510822 , 30.51948  ,  6.926407 ,  2.8      ],\n",
              "       [22.39819  , 26.244345 , 32.35294  , 14.253394 ,  2.7556043],\n",
              "       [25.3125   ,  6.875    , 32.5      , 22.1875   ,  4.395604 ]],\n",
              "      dtype=float32)"
            ]
          },
          "metadata": {
            "tags": []
          },
          "execution_count": 45
        }
      ]
    },
    {
      "cell_type": "code",
      "metadata": {
        "id": "stqEUfF2KRtA",
        "outputId": "84180f24-658b-40b7-8f60-f905b33e11f5",
        "colab": {
          "base_uri": "https://localhost:8080/",
          "height": 324
        }
      },
      "source": [
        "from sklearn.metrics import mean_squared_error\n",
        "mean_squared_error(y_test, yhat)"
      ],
      "execution_count": 28,
      "outputs": [
        {
          "output_type": "error",
          "ename": "ValueError",
          "evalue": "ignored",
          "traceback": [
            "\u001b[0;31m---------------------------------------------------------------------------\u001b[0m",
            "\u001b[0;31mValueError\u001b[0m                                Traceback (most recent call last)",
            "\u001b[0;32m<ipython-input-28-4683e8e41563>\u001b[0m in \u001b[0;36m<module>\u001b[0;34m()\u001b[0m\n\u001b[1;32m      1\u001b[0m \u001b[0;32mfrom\u001b[0m \u001b[0msklearn\u001b[0m\u001b[0;34m.\u001b[0m\u001b[0mmetrics\u001b[0m \u001b[0;32mimport\u001b[0m \u001b[0mmean_squared_error\u001b[0m\u001b[0;34m\u001b[0m\u001b[0;34m\u001b[0m\u001b[0m\n\u001b[0;32m----> 2\u001b[0;31m \u001b[0mmean_squared_error\u001b[0m\u001b[0;34m(\u001b[0m\u001b[0my_test\u001b[0m\u001b[0;34m,\u001b[0m \u001b[0myhat\u001b[0m\u001b[0;34m)\u001b[0m\u001b[0;34m\u001b[0m\u001b[0;34m\u001b[0m\u001b[0m\n\u001b[0m",
            "\u001b[0;32m/usr/local/lib/python3.6/dist-packages/sklearn/metrics/_regression.py\u001b[0m in \u001b[0;36mmean_squared_error\u001b[0;34m(y_true, y_pred, sample_weight, multioutput, squared)\u001b[0m\n\u001b[1;32m    250\u001b[0m     \"\"\"\n\u001b[1;32m    251\u001b[0m     y_type, y_true, y_pred, multioutput = _check_reg_targets(\n\u001b[0;32m--> 252\u001b[0;31m         y_true, y_pred, multioutput)\n\u001b[0m\u001b[1;32m    253\u001b[0m     \u001b[0mcheck_consistent_length\u001b[0m\u001b[0;34m(\u001b[0m\u001b[0my_true\u001b[0m\u001b[0;34m,\u001b[0m \u001b[0my_pred\u001b[0m\u001b[0;34m,\u001b[0m \u001b[0msample_weight\u001b[0m\u001b[0;34m)\u001b[0m\u001b[0;34m\u001b[0m\u001b[0;34m\u001b[0m\u001b[0m\n\u001b[1;32m    254\u001b[0m     output_errors = np.average((y_true - y_pred) ** 2, axis=0,\n",
            "\u001b[0;32m/usr/local/lib/python3.6/dist-packages/sklearn/metrics/_regression.py\u001b[0m in \u001b[0;36m_check_reg_targets\u001b[0;34m(y_true, y_pred, multioutput, dtype)\u001b[0m\n\u001b[1;32m     83\u001b[0m     \"\"\"\n\u001b[1;32m     84\u001b[0m     \u001b[0mcheck_consistent_length\u001b[0m\u001b[0;34m(\u001b[0m\u001b[0my_true\u001b[0m\u001b[0;34m,\u001b[0m \u001b[0my_pred\u001b[0m\u001b[0;34m)\u001b[0m\u001b[0;34m\u001b[0m\u001b[0;34m\u001b[0m\u001b[0m\n\u001b[0;32m---> 85\u001b[0;31m     \u001b[0my_true\u001b[0m \u001b[0;34m=\u001b[0m \u001b[0mcheck_array\u001b[0m\u001b[0;34m(\u001b[0m\u001b[0my_true\u001b[0m\u001b[0;34m,\u001b[0m \u001b[0mensure_2d\u001b[0m\u001b[0;34m=\u001b[0m\u001b[0;32mFalse\u001b[0m\u001b[0;34m,\u001b[0m \u001b[0mdtype\u001b[0m\u001b[0;34m=\u001b[0m\u001b[0mdtype\u001b[0m\u001b[0;34m)\u001b[0m\u001b[0;34m\u001b[0m\u001b[0;34m\u001b[0m\u001b[0m\n\u001b[0m\u001b[1;32m     86\u001b[0m     \u001b[0my_pred\u001b[0m \u001b[0;34m=\u001b[0m \u001b[0mcheck_array\u001b[0m\u001b[0;34m(\u001b[0m\u001b[0my_pred\u001b[0m\u001b[0;34m,\u001b[0m \u001b[0mensure_2d\u001b[0m\u001b[0;34m=\u001b[0m\u001b[0;32mFalse\u001b[0m\u001b[0;34m,\u001b[0m \u001b[0mdtype\u001b[0m\u001b[0;34m=\u001b[0m\u001b[0mdtype\u001b[0m\u001b[0;34m)\u001b[0m\u001b[0;34m\u001b[0m\u001b[0;34m\u001b[0m\u001b[0m\n\u001b[1;32m     87\u001b[0m \u001b[0;34m\u001b[0m\u001b[0m\n",
            "\u001b[0;32m/usr/local/lib/python3.6/dist-packages/sklearn/utils/validation.py\u001b[0m in \u001b[0;36mcheck_array\u001b[0;34m(array, accept_sparse, accept_large_sparse, dtype, order, copy, force_all_finite, ensure_2d, allow_nd, ensure_min_samples, ensure_min_features, warn_on_dtype, estimator)\u001b[0m\n\u001b[1;32m    576\u001b[0m         \u001b[0;32mif\u001b[0m \u001b[0mforce_all_finite\u001b[0m\u001b[0;34m:\u001b[0m\u001b[0;34m\u001b[0m\u001b[0;34m\u001b[0m\u001b[0m\n\u001b[1;32m    577\u001b[0m             _assert_all_finite(array,\n\u001b[0;32m--> 578\u001b[0;31m                                allow_nan=force_all_finite == 'allow-nan')\n\u001b[0m\u001b[1;32m    579\u001b[0m \u001b[0;34m\u001b[0m\u001b[0m\n\u001b[1;32m    580\u001b[0m     \u001b[0;32mif\u001b[0m \u001b[0mensure_min_samples\u001b[0m \u001b[0;34m>\u001b[0m \u001b[0;36m0\u001b[0m\u001b[0;34m:\u001b[0m\u001b[0;34m\u001b[0m\u001b[0;34m\u001b[0m\u001b[0m\n",
            "\u001b[0;32m/usr/local/lib/python3.6/dist-packages/sklearn/utils/validation.py\u001b[0m in \u001b[0;36m_assert_all_finite\u001b[0;34m(X, allow_nan, msg_dtype)\u001b[0m\n\u001b[1;32m     58\u001b[0m                     \u001b[0mmsg_err\u001b[0m\u001b[0;34m.\u001b[0m\u001b[0mformat\u001b[0m\u001b[0;34m\u001b[0m\u001b[0;34m\u001b[0m\u001b[0m\n\u001b[1;32m     59\u001b[0m                     (type_err,\n\u001b[0;32m---> 60\u001b[0;31m                      msg_dtype if msg_dtype is not None else X.dtype)\n\u001b[0m\u001b[1;32m     61\u001b[0m             )\n\u001b[1;32m     62\u001b[0m     \u001b[0;31m# for object dtype data, we only check for NaNs (GH-13254)\u001b[0m\u001b[0;34m\u001b[0m\u001b[0;34m\u001b[0m\u001b[0;34m\u001b[0m\u001b[0m\n",
            "\u001b[0;31mValueError\u001b[0m: Input contains NaN, infinity or a value too large for dtype('float32')."
          ]
        }
      ]
    }
  ]
}