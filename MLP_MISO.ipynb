{
  "nbformat": 4,
  "nbformat_minor": 0,
  "metadata": {
    "colab": {
      "name": "MLP_MISO.ipynb",
      "provenance": [],
      "authorship_tag": "ABX9TyP274h4jmVV1m2xeiPNQFZY",
      "include_colab_link": true
    },
    "kernelspec": {
      "name": "python3",
      "display_name": "Python 3"
    },
    "accelerator": "GPU"
  },
  "cells": [
    {
      "cell_type": "markdown",
      "metadata": {
        "id": "view-in-github",
        "colab_type": "text"
      },
      "source": [
        "<a href=\"https://colab.research.google.com/github/sagihaider/Biogas_Prediction/blob/master/MLP_MISO.ipynb\" target=\"_parent\"><img src=\"https://colab.research.google.com/assets/colab-badge.svg\" alt=\"Open In Colab\"/></a>"
      ]
    },
    {
      "cell_type": "code",
      "metadata": {
        "colab": {
          "base_uri": "https://localhost:8080/"
        },
        "id": "A6IJ4D2S_b3j",
        "outputId": "648fe65c-60f8-4257-c34b-ca97be703150"
      },
      "source": [
        "!git clone https://github.com/sagihaider/Biogas_Prediction.git \n",
        "\n",
        "import pandas as pd\n",
        "import numpy as np\n",
        "from keras.models import Sequential\n",
        "from keras.layers import Activation, Dense\n",
        "from sklearn.preprocessing import normalize\n",
        "from keras import optimizers\n",
        "from sklearn.model_selection import train_test_split"
      ],
      "execution_count": 1,
      "outputs": [
        {
          "output_type": "stream",
          "text": [
            "Cloning into 'Biogas_Prediction'...\n",
            "remote: Enumerating objects: 58, done.\u001b[K\n",
            "remote: Counting objects: 100% (58/58), done.\u001b[K\n",
            "remote: Compressing objects: 100% (57/57), done.\u001b[K\n",
            "remote: Total 333 (delta 6), reused 46 (delta 1), pack-reused 275\u001b[K\n",
            "Receiving objects: 100% (333/333), 72.30 MiB | 32.64 MiB/s, done.\n",
            "Resolving deltas: 100% (54/54), done.\n"
          ],
          "name": "stdout"
        }
      ]
    },
    {
      "cell_type": "code",
      "metadata": {
        "colab": {
          "base_uri": "https://localhost:8080/",
          "height": 255
        },
        "id": "59umuebs_wUj",
        "outputId": "33c88c7b-ab41-4d78-c03d-a2d96ff55fd9"
      },
      "source": [
        "data = pd.read_excel('/content/Biogas_Prediction/Data/Gasification Data_Daya.xlsx', index_col=0, header=0)\n",
        "data = data.iloc[1:223,:14] \n",
        "display(list(data.columns.values))"
      ],
      "execution_count": 2,
      "outputs": [
        {
          "output_type": "display_data",
          "data": {
            "text/plain": [
              "['C [%wt db]',\n",
              " 'H [%wt db]',\n",
              " 'O [%wt db]',\n",
              " 'Moisture [%wt]',\n",
              " 'Ash [%wt db]',\n",
              " 'ER [-]',\n",
              " 'T [ºC]',\n",
              " 'Bed material',\n",
              " 'Steam/Biomass',\n",
              " 'H2 [%vol N2 free]',\n",
              " 'CO [%vol N2 free]',\n",
              " 'CO2 [%vol N2 free]',\n",
              " 'CH4 [%vol N2 free]',\n",
              " 'GY [Nm3/kg daf]']"
            ]
          },
          "metadata": {
            "tags": []
          }
        }
      ]
    },
    {
      "cell_type": "code",
      "metadata": {
        "colab": {
          "base_uri": "https://localhost:8080/"
        },
        "id": "egP1aM5__5T8",
        "outputId": "f9cbce75-76c6-4f49-9f1e-b43d7ec178c4"
      },
      "source": [
        "# Drop null balues and store dataframe in dataframe 2\n",
        "data=data.dropna()\n",
        "print(data)\n",
        "\n",
        "#Check Null values again after removing\n",
        "print(data.isnull().values.any())\n",
        "print(data.isna().values.any())\n",
        "\n",
        "X_all = data.iloc[:, :9]\n",
        "y_all = data.iloc[:, 9:]"
      ],
      "execution_count": 3,
      "outputs": [
        {
          "output_type": "stream",
          "text": [
            "        C [%wt db] H [%wt db]  ...  CH4 [%vol N2 free] GY [Nm3/kg daf]\n",
            "Sr No.                         ...                                    \n",
            "2            50.00        5.7  ...            6.474820        2.500000\n",
            "3            50.00        5.7  ...            7.164179        2.500000\n",
            "4            50.00        5.7  ...            6.474820        2.100000\n",
            "5            50.00        5.7  ...            6.474820        2.400000\n",
            "6            50.00        5.7  ...            8.181818        2.100000\n",
            "...            ...        ...  ...                 ...             ...\n",
            "219          46.85        6.3  ...            9.706147        0.947532\n",
            "220          46.85        6.3  ...            9.455065        0.975752\n",
            "221          46.76       5.68  ...            9.933682        0.971784\n",
            "222          46.76       5.68  ...            8.778402        0.982989\n",
            "223          46.76       5.68  ...            8.534014        0.973816\n",
            "\n",
            "[187 rows x 14 columns]\n",
            "False\n",
            "False\n"
          ],
          "name": "stdout"
        }
      ]
    },
    {
      "cell_type": "code",
      "metadata": {
        "colab": {
          "base_uri": "https://localhost:8080/"
        },
        "id": "7_ZwSMVEAArd",
        "outputId": "31cb7077-709b-4c29-ca36-ddf298808141"
      },
      "source": [
        "\n",
        "input_columns = list(X_all.columns.values)\n",
        "input_columns = [i.split(' [', 1)[0] for i in input_columns]\n",
        "output_columns = list(y_all.columns.values)\n",
        "output_columns = [i.split(' [', 1)[0] for i in output_columns]\n",
        "print(input_columns, output_columns)\n",
        "\n",
        "Xnorm = normalize(X_all, 'l2', axis=1)\n",
        "ynorm = normalize(y_all, 'l2', axis=1)"
      ],
      "execution_count": 5,
      "outputs": [
        {
          "output_type": "stream",
          "text": [
            "['C', 'H', 'O', 'Moisture', 'Ash', 'ER', 'T', 'Bed material', 'Steam/Biomass'] ['H2', 'CO', 'CO2', 'CH4', 'GY']\n"
          ],
          "name": "stdout"
        }
      ]
    },
    {
      "cell_type": "code",
      "metadata": {
        "id": "cXnSyFGkAtAf",
        "colab": {
          "base_uri": "https://localhost:8080/",
          "height": 1000
        },
        "outputId": "ed66bf0d-45eb-4e9e-ccdc-acdfeb2022dd"
      },
      "source": [
        "# Create MISO\n",
        "nrow, ncol=ynorm.shape\n",
        "\n",
        "for i in range(ncol):\n",
        "\n",
        "  X = Xnorm\n",
        "  y = ynorm[:,i]\n",
        "\n",
        "  X_train, X_test, y_train, y_test = train_test_split(Xnorm, y, test_size=0.33)\n",
        "\n",
        "  # define the keras model\n",
        "  model = Sequential()\n",
        "  model.add(Dense(10, input_shape = (9,), activation = 'sigmoid'))\n",
        "  model.add(Dense(10, activation = 'sigmoid'))\n",
        "  model.add(Dense(10, activation = 'sigmoid'))\n",
        "  model.add(Dense(1))\n",
        "  model.summary()\n",
        "\n",
        "  sgd = optimizers.SGD(lr = 0.01)    # stochastic gradient descent optimizer\n",
        "\n",
        "  model.compile(optimizer = sgd, loss = 'mean_squared_error', metrics = ['mse']) # for regression problems, mean squared error (MSE) is often employed\n",
        "  history=model.fit(X_train, y_train, validation_data=(X_test, y_test), batch_size = 25, epochs = 20, verbose = 1)\n",
        "\n",
        "  # results = model.evaluate(X_test, y_test)\n",
        "  # print('loss: ', results[0])\n",
        "  # print('mse: ', results[1])\n",
        "\n",
        "  import matplotlib.pyplot as plt\n",
        "  print(history.history.keys())\n",
        "  # list all data in history\n",
        "  print(history.history.keys())\n",
        "  # summarize history for accuracy\n",
        "  plt.plot(history.history['mse'])\n",
        "  plt.plot(history.history['val_mse'])\n",
        "  plt.title('model performance')\n",
        "  plt.ylabel('MSE')\n",
        "  plt.xlabel('epoch')\n",
        "  plt.legend(['train', 'val'], loc='upper left')\n",
        "  plt.show()\n",
        "  del model\n"
      ],
      "execution_count": 26,
      "outputs": [
        {
          "output_type": "stream",
          "text": [
            "Model: \"sequential_15\"\n",
            "_________________________________________________________________\n",
            "Layer (type)                 Output Shape              Param #   \n",
            "=================================================================\n",
            "dense_60 (Dense)             (None, 10)                100       \n",
            "_________________________________________________________________\n",
            "dense_61 (Dense)             (None, 10)                110       \n",
            "_________________________________________________________________\n",
            "dense_62 (Dense)             (None, 10)                110       \n",
            "_________________________________________________________________\n",
            "dense_63 (Dense)             (None, 1)                 11        \n",
            "=================================================================\n",
            "Total params: 331\n",
            "Trainable params: 331\n",
            "Non-trainable params: 0\n",
            "_________________________________________________________________\n",
            "Epoch 1/20\n",
            "5/5 [==============================] - 0s 32ms/step - loss: 0.0286 - mse: 0.0286 - val_loss: 0.0199 - val_mse: 0.0199\n",
            "Epoch 2/20\n",
            "5/5 [==============================] - 0s 9ms/step - loss: 0.0318 - mse: 0.0318 - val_loss: 0.0198 - val_mse: 0.0198\n",
            "Epoch 3/20\n",
            "5/5 [==============================] - 0s 8ms/step - loss: 0.0281 - mse: 0.0281 - val_loss: 0.0197 - val_mse: 0.0197\n",
            "Epoch 4/20\n",
            "5/5 [==============================] - 0s 9ms/step - loss: 0.0263 - mse: 0.0263 - val_loss: 0.0196 - val_mse: 0.0196\n",
            "Epoch 5/20\n",
            "5/5 [==============================] - 0s 8ms/step - loss: 0.0286 - mse: 0.0286 - val_loss: 0.0196 - val_mse: 0.0196\n",
            "Epoch 6/20\n",
            "5/5 [==============================] - 0s 9ms/step - loss: 0.0300 - mse: 0.0300 - val_loss: 0.0195 - val_mse: 0.0195\n",
            "Epoch 7/20\n",
            "5/5 [==============================] - 0s 9ms/step - loss: 0.0272 - mse: 0.0272 - val_loss: 0.0195 - val_mse: 0.0195\n",
            "Epoch 8/20\n",
            "5/5 [==============================] - 0s 8ms/step - loss: 0.0278 - mse: 0.0278 - val_loss: 0.0195 - val_mse: 0.0195\n",
            "Epoch 9/20\n",
            "5/5 [==============================] - 0s 8ms/step - loss: 0.0301 - mse: 0.0301 - val_loss: 0.0195 - val_mse: 0.0195\n",
            "Epoch 10/20\n",
            "5/5 [==============================] - 0s 9ms/step - loss: 0.0255 - mse: 0.0255 - val_loss: 0.0195 - val_mse: 0.0195\n",
            "Epoch 11/20\n",
            "5/5 [==============================] - 0s 8ms/step - loss: 0.0267 - mse: 0.0267 - val_loss: 0.0195 - val_mse: 0.0195\n",
            "Epoch 12/20\n",
            "5/5 [==============================] - 0s 8ms/step - loss: 0.0285 - mse: 0.0285 - val_loss: 0.0195 - val_mse: 0.0195\n",
            "Epoch 13/20\n",
            "5/5 [==============================] - 0s 8ms/step - loss: 0.0233 - mse: 0.0233 - val_loss: 0.0195 - val_mse: 0.0195\n",
            "Epoch 14/20\n",
            "5/5 [==============================] - 0s 8ms/step - loss: 0.0278 - mse: 0.0278 - val_loss: 0.0195 - val_mse: 0.0195\n",
            "Epoch 15/20\n",
            "5/5 [==============================] - 0s 9ms/step - loss: 0.0260 - mse: 0.0260 - val_loss: 0.0195 - val_mse: 0.0195\n",
            "Epoch 16/20\n",
            "5/5 [==============================] - 0s 10ms/step - loss: 0.0297 - mse: 0.0297 - val_loss: 0.0195 - val_mse: 0.0195\n",
            "Epoch 17/20\n",
            "5/5 [==============================] - 0s 8ms/step - loss: 0.0249 - mse: 0.0249 - val_loss: 0.0195 - val_mse: 0.0195\n",
            "Epoch 18/20\n",
            "5/5 [==============================] - 0s 8ms/step - loss: 0.0302 - mse: 0.0302 - val_loss: 0.0196 - val_mse: 0.0196\n",
            "Epoch 19/20\n",
            "5/5 [==============================] - 0s 9ms/step - loss: 0.0331 - mse: 0.0331 - val_loss: 0.0195 - val_mse: 0.0195\n",
            "Epoch 20/20\n",
            "5/5 [==============================] - 0s 8ms/step - loss: 0.0280 - mse: 0.0280 - val_loss: 0.0196 - val_mse: 0.0196\n",
            "dict_keys(['loss', 'mse', 'val_loss', 'val_mse'])\n",
            "dict_keys(['loss', 'mse', 'val_loss', 'val_mse'])\n"
          ],
          "name": "stdout"
        },
        {
          "output_type": "display_data",
          "data": {
            "image/png": "[encoded data removed]",
            "text/plain": [
              "<Figure size 432x288 with 1 Axes>"
            ]
          },
          "metadata": {
            "tags": [],
            "needs_background": "light"
          }
        },
        {
          "output_type": "stream",
          "text": [
            "Model: \"sequential_16\"\n",
            "_________________________________________________________________\n",
            "Layer (type)                 Output Shape              Param #   \n",
            "=================================================================\n",
            "dense_64 (Dense)             (None, 10)                100       \n",
            "_________________________________________________________________\n",
            "dense_65 (Dense)             (None, 10)                110       \n",
            "_________________________________________________________________\n",
            "dense_66 (Dense)             (None, 10)                110       \n",
            "_________________________________________________________________\n",
            "dense_67 (Dense)             (None, 1)                 11        \n",
            "=================================================================\n",
            "Total params: 331\n",
            "Trainable params: 331\n",
            "Non-trainable params: 0\n",
            "_________________________________________________________________\n",
            "Epoch 1/20\n",
            "5/5 [==============================] - 0s 37ms/step - loss: 2.2296 - mse: 2.2296 - val_loss: 1.0320 - val_mse: 1.0320\n",
            "Epoch 2/20\n",
            "5/5 [==============================] - 0s 10ms/step - loss: 0.9321 - mse: 0.9321 - val_loss: 0.4206 - val_mse: 0.4206\n",
            "Epoch 3/20\n",
            "5/5 [==============================] - 0s 9ms/step - loss: 0.4097 - mse: 0.4097 - val_loss: 0.1756 - val_mse: 0.1756\n",
            "Epoch 4/20\n",
            "5/5 [==============================] - 0s 9ms/step - loss: 0.1744 - mse: 0.1744 - val_loss: 0.0770 - val_mse: 0.0770\n",
            "Epoch 5/20\n",
            "5/5 [==============================] - 0s 9ms/step - loss: 0.0807 - mse: 0.0807 - val_loss: 0.0382 - val_mse: 0.0382\n",
            "Epoch 6/20\n",
            "5/5 [==============================] - 0s 10ms/step - loss: 0.0421 - mse: 0.0421 - val_loss: 0.0237 - val_mse: 0.0237\n",
            "Epoch 7/20\n",
            "5/5 [==============================] - 0s 8ms/step - loss: 0.0256 - mse: 0.0256 - val_loss: 0.0188 - val_mse: 0.0188\n",
            "Epoch 8/20\n",
            "5/5 [==============================] - 0s 9ms/step - loss: 0.0192 - mse: 0.0192 - val_loss: 0.0175 - val_mse: 0.0175\n",
            "Epoch 9/20\n",
            "5/5 [==============================] - 0s 8ms/step - loss: 0.0153 - mse: 0.0153 - val_loss: 0.0174 - val_mse: 0.0174\n",
            "Epoch 10/20\n",
            "5/5 [==============================] - 0s 8ms/step - loss: 0.0151 - mse: 0.0151 - val_loss: 0.0176 - val_mse: 0.0176\n",
            "Epoch 11/20\n",
            "5/5 [==============================] - 0s 9ms/step - loss: 0.0139 - mse: 0.0139 - val_loss: 0.0180 - val_mse: 0.0180\n",
            "Epoch 12/20\n",
            "5/5 [==============================] - 0s 56ms/step - loss: 0.0142 - mse: 0.0142 - val_loss: 0.0182 - val_mse: 0.0182\n",
            "Epoch 13/20\n",
            "5/5 [==============================] - 0s 9ms/step - loss: 0.0133 - mse: 0.0133 - val_loss: 0.0183 - val_mse: 0.0183\n",
            "Epoch 14/20\n",
            "5/5 [==============================] - 0s 9ms/step - loss: 0.0157 - mse: 0.0157 - val_loss: 0.0185 - val_mse: 0.0185\n",
            "Epoch 15/20\n",
            "5/5 [==============================] - 0s 8ms/step - loss: 0.0131 - mse: 0.0131 - val_loss: 0.0186 - val_mse: 0.0186\n",
            "Epoch 16/20\n",
            "5/5 [==============================] - 0s 8ms/step - loss: 0.0156 - mse: 0.0156 - val_loss: 0.0187 - val_mse: 0.0187\n",
            "Epoch 17/20\n",
            "5/5 [==============================] - 0s 8ms/step - loss: 0.0139 - mse: 0.0139 - val_loss: 0.0187 - val_mse: 0.0187\n",
            "Epoch 18/20\n",
            "5/5 [==============================] - 0s 9ms/step - loss: 0.0136 - mse: 0.0136 - val_loss: 0.0188 - val_mse: 0.0188\n",
            "Epoch 19/20\n",
            "5/5 [==============================] - 0s 9ms/step - loss: 0.0150 - mse: 0.0150 - val_loss: 0.0188 - val_mse: 0.0188\n",
            "Epoch 20/20\n",
            "5/5 [==============================] - 0s 9ms/step - loss: 0.0145 - mse: 0.0145 - val_loss: 0.0188 - val_mse: 0.0188\n",
            "dict_keys(['loss', 'mse', 'val_loss', 'val_mse'])\n",
            "dict_keys(['loss', 'mse', 'val_loss', 'val_mse'])\n"
          ],
          "name": "stdout"
        },
        {
          "output_type": "display_data",
          "data": {
            "image/png": "[encoded data removed]",
            "text/plain": [
              "<Figure size 432x288 with 1 Axes>"
            ]
          },
          "metadata": {
            "tags": [],
            "needs_background": "light"
          }
        },
        {
          "output_type": "stream",
          "text": [
            "Model: \"sequential_17\"\n",
            "_________________________________________________________________\n",
            "Layer (type)                 Output Shape              Param #   \n",
            "=================================================================\n",
            "dense_68 (Dense)             (None, 10)                100       \n",
            "_________________________________________________________________\n",
            "dense_69 (Dense)             (None, 10)                110       \n",
            "_________________________________________________________________\n",
            "dense_70 (Dense)             (None, 10)                110       \n",
            "_________________________________________________________________\n",
            "dense_71 (Dense)             (None, 1)                 11        \n",
            "=================================================================\n",
            "Total params: 331\n",
            "Trainable params: 331\n",
            "Non-trainable params: 0\n",
            "_________________________________________________________________\n",
            "Epoch 1/20\n",
            "5/5 [==============================] - 0s 33ms/step - loss: 0.9927 - mse: 0.9927 - val_loss: 0.5647 - val_mse: 0.5647\n",
            "Epoch 2/20\n",
            "5/5 [==============================] - 0s 9ms/step - loss: 0.4612 - mse: 0.4612 - val_loss: 0.2692 - val_mse: 0.2692\n",
            "Epoch 3/20\n",
            "5/5 [==============================] - 0s 9ms/step - loss: 0.2263 - mse: 0.2263 - val_loss: 0.1370 - val_mse: 0.1370\n",
            "Epoch 4/20\n",
            "5/5 [==============================] - 0s 8ms/step - loss: 0.1214 - mse: 0.1214 - val_loss: 0.0770 - val_mse: 0.0770\n",
            "Epoch 5/20\n",
            "5/5 [==============================] - 0s 8ms/step - loss: 0.0738 - mse: 0.0738 - val_loss: 0.0501 - val_mse: 0.0501\n",
            "Epoch 6/20\n",
            "5/5 [==============================] - 0s 8ms/step - loss: 0.0523 - mse: 0.0523 - val_loss: 0.0371 - val_mse: 0.0371\n",
            "Epoch 7/20\n",
            "5/5 [==============================] - 0s 11ms/step - loss: 0.0427 - mse: 0.0427 - val_loss: 0.0310 - val_mse: 0.0310\n",
            "Epoch 8/20\n",
            "5/5 [==============================] - 0s 10ms/step - loss: 0.0414 - mse: 0.0414 - val_loss: 0.0282 - val_mse: 0.0282\n",
            "Epoch 9/20\n",
            "5/5 [==============================] - 0s 10ms/step - loss: 0.0355 - mse: 0.0355 - val_loss: 0.0267 - val_mse: 0.0267\n",
            "Epoch 10/20\n",
            "5/5 [==============================] - 0s 9ms/step - loss: 0.0339 - mse: 0.0339 - val_loss: 0.0260 - val_mse: 0.0260\n",
            "Epoch 11/20\n",
            "5/5 [==============================] - 0s 9ms/step - loss: 0.0361 - mse: 0.0361 - val_loss: 0.0257 - val_mse: 0.0257\n",
            "Epoch 12/20\n",
            "5/5 [==============================] - 0s 10ms/step - loss: 0.0351 - mse: 0.0351 - val_loss: 0.0254 - val_mse: 0.0254\n",
            "Epoch 13/20\n",
            "5/5 [==============================] - 0s 10ms/step - loss: 0.0401 - mse: 0.0401 - val_loss: 0.0252 - val_mse: 0.0252\n",
            "Epoch 14/20\n",
            "5/5 [==============================] - 0s 10ms/step - loss: 0.0365 - mse: 0.0365 - val_loss: 0.0252 - val_mse: 0.0252\n",
            "Epoch 15/20\n",
            "5/5 [==============================] - 0s 9ms/step - loss: 0.0295 - mse: 0.0295 - val_loss: 0.0252 - val_mse: 0.0252\n",
            "Epoch 16/20\n",
            "5/5 [==============================] - 0s 9ms/step - loss: 0.0303 - mse: 0.0303 - val_loss: 0.0252 - val_mse: 0.0252\n",
            "Epoch 17/20\n",
            "5/5 [==============================] - 0s 9ms/step - loss: 0.0365 - mse: 0.0365 - val_loss: 0.0252 - val_mse: 0.0252\n",
            "Epoch 18/20\n",
            "5/5 [==============================] - 0s 9ms/step - loss: 0.0287 - mse: 0.0287 - val_loss: 0.0252 - val_mse: 0.0252\n",
            "Epoch 19/20\n",
            "5/5 [==============================] - 0s 10ms/step - loss: 0.0407 - mse: 0.0407 - val_loss: 0.0251 - val_mse: 0.0251\n",
            "Epoch 20/20\n",
            "5/5 [==============================] - 0s 9ms/step - loss: 0.0386 - mse: 0.0386 - val_loss: 0.0251 - val_mse: 0.0251\n",
            "dict_keys(['loss', 'mse', 'val_loss', 'val_mse'])\n",
            "dict_keys(['loss', 'mse', 'val_loss', 'val_mse'])\n"
          ],
          "name": "stdout"
        },
        {
          "output_type": "display_data",
          "data": {
            "image/png": "[encoded data removed]",
            "text/plain": [
              "<Figure size 432x288 with 1 Axes>"
            ]
          },
          "metadata": {
            "tags": [],
            "needs_background": "light"
          }
        },
        {
          "output_type": "stream",
          "text": [
            "Model: \"sequential_18\"\n",
            "_________________________________________________________________\n",
            "Layer (type)                 Output Shape              Param #   \n",
            "=================================================================\n",
            "dense_72 (Dense)             (None, 10)                100       \n",
            "_________________________________________________________________\n",
            "dense_73 (Dense)             (None, 10)                110       \n",
            "_________________________________________________________________\n",
            "dense_74 (Dense)             (None, 10)                110       \n",
            "_________________________________________________________________\n",
            "dense_75 (Dense)             (None, 1)                 11        \n",
            "=================================================================\n",
            "Total params: 331\n",
            "Trainable params: 331\n",
            "Non-trainable params: 0\n",
            "_________________________________________________________________\n",
            "Epoch 1/20\n",
            "5/5 [==============================] - 0s 36ms/step - loss: 0.0737 - mse: 0.0737 - val_loss: 0.0437 - val_mse: 0.0437\n",
            "Epoch 2/20\n",
            "5/5 [==============================] - 0s 10ms/step - loss: 0.0274 - mse: 0.0274 - val_loss: 0.0250 - val_mse: 0.0250\n",
            "Epoch 3/20\n",
            "5/5 [==============================] - 0s 9ms/step - loss: 0.0139 - mse: 0.0139 - val_loss: 0.0173 - val_mse: 0.0173\n",
            "Epoch 4/20\n",
            "5/5 [==============================] - 0s 8ms/step - loss: 0.0091 - mse: 0.0091 - val_loss: 0.0140 - val_mse: 0.0140\n",
            "Epoch 5/20\n",
            "5/5 [==============================] - 0s 9ms/step - loss: 0.0080 - mse: 0.0080 - val_loss: 0.0125 - val_mse: 0.0125\n",
            "Epoch 6/20\n",
            "5/5 [==============================] - 0s 10ms/step - loss: 0.0063 - mse: 0.0063 - val_loss: 0.0118 - val_mse: 0.0118\n",
            "Epoch 7/20\n",
            "5/5 [==============================] - 0s 8ms/step - loss: 0.0075 - mse: 0.0075 - val_loss: 0.0115 - val_mse: 0.0115\n",
            "Epoch 8/20\n",
            "5/5 [==============================] - 0s 8ms/step - loss: 0.0058 - mse: 0.0058 - val_loss: 0.0113 - val_mse: 0.0113\n",
            "Epoch 9/20\n",
            "5/5 [==============================] - 0s 8ms/step - loss: 0.0072 - mse: 0.0072 - val_loss: 0.0112 - val_mse: 0.0112\n",
            "Epoch 10/20\n",
            "5/5 [==============================] - 0s 9ms/step - loss: 0.0064 - mse: 0.0064 - val_loss: 0.0112 - val_mse: 0.0112\n",
            "Epoch 11/20\n",
            "5/5 [==============================] - 0s 9ms/step - loss: 0.0048 - mse: 0.0048 - val_loss: 0.0111 - val_mse: 0.0111\n",
            "Epoch 12/20\n",
            "5/5 [==============================] - 0s 9ms/step - loss: 0.0075 - mse: 0.0075 - val_loss: 0.0111 - val_mse: 0.0111\n",
            "Epoch 13/20\n",
            "5/5 [==============================] - 0s 10ms/step - loss: 0.0092 - mse: 0.0092 - val_loss: 0.0111 - val_mse: 0.0111\n",
            "Epoch 14/20\n",
            "5/5 [==============================] - 0s 10ms/step - loss: 0.0077 - mse: 0.0077 - val_loss: 0.0111 - val_mse: 0.0111\n",
            "Epoch 15/20\n",
            "5/5 [==============================] - 0s 9ms/step - loss: 0.0064 - mse: 0.0064 - val_loss: 0.0111 - val_mse: 0.0111\n",
            "Epoch 16/20\n",
            "5/5 [==============================] - 0s 10ms/step - loss: 0.0067 - mse: 0.0067 - val_loss: 0.0111 - val_mse: 0.0111\n",
            "Epoch 17/20\n",
            "5/5 [==============================] - 0s 9ms/step - loss: 0.0063 - mse: 0.0063 - val_loss: 0.0111 - val_mse: 0.0111\n",
            "Epoch 18/20\n",
            "5/5 [==============================] - 0s 9ms/step - loss: 0.0049 - mse: 0.0049 - val_loss: 0.0111 - val_mse: 0.0111\n",
            "Epoch 19/20\n",
            "5/5 [==============================] - 0s 9ms/step - loss: 0.0080 - mse: 0.0080 - val_loss: 0.0111 - val_mse: 0.0111\n",
            "Epoch 20/20\n",
            "5/5 [==============================] - 0s 8ms/step - loss: 0.0063 - mse: 0.0063 - val_loss: 0.0111 - val_mse: 0.0111\n",
            "dict_keys(['loss', 'mse', 'val_loss', 'val_mse'])\n",
            "dict_keys(['loss', 'mse', 'val_loss', 'val_mse'])\n"
          ],
          "name": "stdout"
        },
        {
          "output_type": "display_data",
          "data": {
            "image/png": "[encoded data removed]",
            "text/plain": [
              "<Figure size 432x288 with 1 Axes>"
            ]
          },
          "metadata": {
            "tags": [],
            "needs_background": "light"
          }
        },
        {
          "output_type": "stream",
          "text": [
            "Model: \"sequential_19\"\n",
            "_________________________________________________________________\n",
            "Layer (type)                 Output Shape              Param #   \n",
            "=================================================================\n",
            "dense_76 (Dense)             (None, 10)                100       \n",
            "_________________________________________________________________\n",
            "dense_77 (Dense)             (None, 10)                110       \n",
            "_________________________________________________________________\n",
            "dense_78 (Dense)             (None, 10)                110       \n",
            "_________________________________________________________________\n",
            "dense_79 (Dense)             (None, 1)                 11        \n",
            "=================================================================\n",
            "Total params: 331\n",
            "Trainable params: 331\n",
            "Non-trainable params: 0\n",
            "_________________________________________________________________\n",
            "Epoch 1/20\n",
            "5/5 [==============================] - 0s 34ms/step - loss: 0.0692 - mse: 0.0692 - val_loss: 0.0408 - val_mse: 0.0408\n",
            "Epoch 2/20\n",
            "5/5 [==============================] - 0s 9ms/step - loss: 0.0362 - mse: 0.0362 - val_loss: 0.0210 - val_mse: 0.0210\n",
            "Epoch 3/20\n",
            "5/5 [==============================] - 0s 8ms/step - loss: 0.0187 - mse: 0.0187 - val_loss: 0.0109 - val_mse: 0.0109\n",
            "Epoch 4/20\n",
            "5/5 [==============================] - 0s 9ms/step - loss: 0.0095 - mse: 0.0095 - val_loss: 0.0057 - val_mse: 0.0057\n",
            "Epoch 5/20\n",
            "5/5 [==============================] - 0s 11ms/step - loss: 0.0049 - mse: 0.0049 - val_loss: 0.0030 - val_mse: 0.0030\n",
            "Epoch 6/20\n",
            "5/5 [==============================] - 0s 8ms/step - loss: 0.0027 - mse: 0.0027 - val_loss: 0.0017 - val_mse: 0.0017\n",
            "Epoch 7/20\n",
            "5/5 [==============================] - 0s 8ms/step - loss: 0.0016 - mse: 0.0016 - val_loss: 9.7717e-04 - val_mse: 9.7717e-04\n",
            "Epoch 8/20\n",
            "5/5 [==============================] - 0s 9ms/step - loss: 9.6776e-04 - mse: 9.6776e-04 - val_loss: 6.2624e-04 - val_mse: 6.2624e-04\n",
            "Epoch 9/20\n",
            "5/5 [==============================] - 0s 9ms/step - loss: 6.3476e-04 - mse: 6.3476e-04 - val_loss: 4.4756e-04 - val_mse: 4.4756e-04\n",
            "Epoch 10/20\n",
            "5/5 [==============================] - 0s 9ms/step - loss: 4.5266e-04 - mse: 4.5266e-04 - val_loss: 3.5714e-04 - val_mse: 3.5714e-04\n",
            "Epoch 11/20\n",
            "5/5 [==============================] - 0s 9ms/step - loss: 3.8083e-04 - mse: 3.8083e-04 - val_loss: 3.1159e-04 - val_mse: 3.1159e-04\n",
            "Epoch 12/20\n",
            "5/5 [==============================] - 0s 9ms/step - loss: 3.5612e-04 - mse: 3.5612e-04 - val_loss: 2.8905e-04 - val_mse: 2.8905e-04\n",
            "Epoch 13/20\n",
            "5/5 [==============================] - 0s 9ms/step - loss: 2.9030e-04 - mse: 2.9030e-04 - val_loss: 2.7872e-04 - val_mse: 2.7872e-04\n",
            "Epoch 14/20\n",
            "5/5 [==============================] - 0s 10ms/step - loss: 3.0597e-04 - mse: 3.0597e-04 - val_loss: 2.7352e-04 - val_mse: 2.7352e-04\n",
            "Epoch 15/20\n",
            "5/5 [==============================] - 0s 8ms/step - loss: 2.7661e-04 - mse: 2.7661e-04 - val_loss: 2.7140e-04 - val_mse: 2.7140e-04\n",
            "Epoch 16/20\n",
            "5/5 [==============================] - 0s 9ms/step - loss: 3.4824e-04 - mse: 3.4824e-04 - val_loss: 2.7043e-04 - val_mse: 2.7043e-04\n",
            "Epoch 17/20\n",
            "5/5 [==============================] - 0s 8ms/step - loss: 2.6123e-04 - mse: 2.6123e-04 - val_loss: 2.7018e-04 - val_mse: 2.7018e-04\n",
            "Epoch 18/20\n",
            "5/5 [==============================] - 0s 8ms/step - loss: 3.0842e-04 - mse: 3.0842e-04 - val_loss: 2.7016e-04 - val_mse: 2.7016e-04\n",
            "Epoch 19/20\n",
            "5/5 [==============================] - 0s 9ms/step - loss: 2.4961e-04 - mse: 2.4961e-04 - val_loss: 2.7024e-04 - val_mse: 2.7024e-04\n",
            "Epoch 20/20\n",
            "5/5 [==============================] - 0s 10ms/step - loss: 2.9881e-04 - mse: 2.9881e-04 - val_loss: 2.7030e-04 - val_mse: 2.7030e-04\n",
            "dict_keys(['loss', 'mse', 'val_loss', 'val_mse'])\n",
            "dict_keys(['loss', 'mse', 'val_loss', 'val_mse'])\n"
          ],
          "name": "stdout"
        },
        {
          "output_type": "display_data",
          "data": {
            "image/png": "[encoded data removed]",
            "text/plain": [
              "<Figure size 432x288 with 1 Axes>"
            ]
          },
          "metadata": {
            "tags": [],
            "needs_background": "light"
          }
        }
      ]
    }
  ]
}