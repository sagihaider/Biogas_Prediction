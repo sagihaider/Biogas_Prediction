{
  "nbformat": 4,
  "nbformat_minor": 0,
  "metadata": {
    "colab": {
      "name": "MLP_MISO.ipynb",
      "provenance": [],
      "authorship_tag": "ABX9TyMYXP5QrAFJNokkWF3R2xOf",
      "include_colab_link": true
    },
    "kernelspec": {
      "name": "python3",
      "display_name": "Python 3"
    },
    "accelerator": "GPU"
  },
  "cells": [
    {
      "cell_type": "markdown",
      "metadata": {
        "id": "view-in-github",
        "colab_type": "text"
      },
      "source": [
        "<a href=\"https://colab.research.google.com/github/sagihaider/Biogas_Prediction/blob/master/MLP_MISO.ipynb\" target=\"_parent\"><img src=\"https://colab.research.google.com/assets/colab-badge.svg\" alt=\"Open In Colab\"/></a>"
      ]
    },
    {
      "cell_type": "code",
      "metadata": {
        "colab": {
          "base_uri": "https://localhost:8080/"
        },
        "id": "A6IJ4D2S_b3j",
        "outputId": "648fe65c-60f8-4257-c34b-ca97be703150"
      },
      "source": [
        "!git clone https://github.com/sagihaider/Biogas_Prediction.git \n",
        "\n",
        "import pandas as pd\n",
        "import numpy as np\n",
        "from keras.models import Sequential\n",
        "from keras.layers import Activation, Dense\n",
        "from sklearn.preprocessing import normalize\n",
        "from keras import optimizers\n",
        "from sklearn.model_selection import train_test_split"
      ],
      "execution_count": 1,
      "outputs": [
        {
          "output_type": "stream",
          "text": [
            "Cloning into 'Biogas_Prediction'...\n",
            "remote: Enumerating objects: 58, done.\u001b[K\n",
            "remote: Counting objects: 100% (58/58), done.\u001b[K\n",
            "remote: Compressing objects: 100% (57/57), done.\u001b[K\n",
            "remote: Total 333 (delta 6), reused 46 (delta 1), pack-reused 275\u001b[K\n",
            "Receiving objects: 100% (333/333), 72.30 MiB | 32.64 MiB/s, done.\n",
            "Resolving deltas: 100% (54/54), done.\n"
          ],
          "name": "stdout"
        }
      ]
    },
    {
      "cell_type": "code",
      "metadata": {
        "colab": {
          "base_uri": "https://localhost:8080/",
          "height": 255
        },
        "id": "59umuebs_wUj",
        "outputId": "33c88c7b-ab41-4d78-c03d-a2d96ff55fd9"
      },
      "source": [
        "data = pd.read_excel('/content/Biogas_Prediction/Data/Gasification Data_Daya.xlsx', index_col=0, header=0)\n",
        "data = data.iloc[1:223,:14] \n",
        "display(list(data.columns.values))"
      ],
      "execution_count": 2,
      "outputs": [
        {
          "output_type": "display_data",
          "data": {
            "text/plain": [
              "['C [%wt db]',\n",
              " 'H [%wt db]',\n",
              " 'O [%wt db]',\n",
              " 'Moisture [%wt]',\n",
              " 'Ash [%wt db]',\n",
              " 'ER [-]',\n",
              " 'T [ºC]',\n",
              " 'Bed material',\n",
              " 'Steam/Biomass',\n",
              " 'H2 [%vol N2 free]',\n",
              " 'CO [%vol N2 free]',\n",
              " 'CO2 [%vol N2 free]',\n",
              " 'CH4 [%vol N2 free]',\n",
              " 'GY [Nm3/kg daf]']"
            ]
          },
          "metadata": {
            "tags": []
          }
        }
      ]
    },
    {
      "cell_type": "code",
      "metadata": {
        "colab": {
          "base_uri": "https://localhost:8080/"
        },
        "id": "egP1aM5__5T8",
        "outputId": "f9cbce75-76c6-4f49-9f1e-b43d7ec178c4"
      },
      "source": [
        "# Drop null balues and store dataframe in dataframe 2\n",
        "data=data.dropna()\n",
        "print(data)\n",
        "\n",
        "#Check Null values again after removing\n",
        "print(data.isnull().values.any())\n",
        "print(data.isna().values.any())\n",
        "\n",
        "X_all = data.iloc[:, :9]\n",
        "y_all = data.iloc[:, 9:]"
      ],
      "execution_count": 3,
      "outputs": [
        {
          "output_type": "stream",
          "text": [
            "        C [%wt db] H [%wt db]  ...  CH4 [%vol N2 free] GY [Nm3/kg daf]\n",
            "Sr No.                         ...                                    \n",
            "2            50.00        5.7  ...            6.474820        2.500000\n",
            "3            50.00        5.7  ...            7.164179        2.500000\n",
            "4            50.00        5.7  ...            6.474820        2.100000\n",
            "5            50.00        5.7  ...            6.474820        2.400000\n",
            "6            50.00        5.7  ...            8.181818        2.100000\n",
            "...            ...        ...  ...                 ...             ...\n",
            "219          46.85        6.3  ...            9.706147        0.947532\n",
            "220          46.85        6.3  ...            9.455065        0.975752\n",
            "221          46.76       5.68  ...            9.933682        0.971784\n",
            "222          46.76       5.68  ...            8.778402        0.982989\n",
            "223          46.76       5.68  ...            8.534014        0.973816\n",
            "\n",
            "[187 rows x 14 columns]\n",
            "False\n",
            "False\n"
          ],
          "name": "stdout"
        }
      ]
    },
    {
      "cell_type": "code",
      "metadata": {
        "colab": {
          "base_uri": "https://localhost:8080/"
        },
        "id": "7_ZwSMVEAArd",
        "outputId": "31cb7077-709b-4c29-ca36-ddf298808141"
      },
      "source": [
        "\n",
        "input_columns = list(X_all.columns.values)\n",
        "input_columns = [i.split(' [', 1)[0] for i in input_columns]\n",
        "output_columns = list(y_all.columns.values)\n",
        "output_columns = [i.split(' [', 1)[0] for i in output_columns]\n",
        "print(input_columns, output_columns)\n",
        "\n",
        "Xnorm = normalize(X_all, 'l2', axis=1)\n",
        "ynorm = normalize(y_all, 'l2', axis=1)"
      ],
      "execution_count": 5,
      "outputs": [
        {
          "output_type": "stream",
          "text": [
            "['C', 'H', 'O', 'Moisture', 'Ash', 'ER', 'T', 'Bed material', 'Steam/Biomass'] ['H2', 'CO', 'CO2', 'CH4', 'GY']\n"
          ],
          "name": "stdout"
        }
      ]
    },
    {
      "cell_type": "code",
      "metadata": {
        "id": "cXnSyFGkAtAf",
        "colab": {
          "base_uri": "https://localhost:8080/",
          "height": 1000
        },
        "outputId": "2c6e1014-277a-40c3-c851-301c6d6a8e08"
      },
      "source": [
        "# Create MISO\n",
        "nrow, ncol=ynorm.shape\n",
        "\n",
        "for i in range(ncol):\n",
        "\n",
        "  X = Xnorm\n",
        "  y = ynorm[:,i]\n",
        "\n",
        "  X_train, X_test, y_train, y_test = train_test_split(Xnorm, y, test_size=0.33)\n",
        "\n",
        "  # define the keras model\n",
        "  model = Sequential()\n",
        "  model.add(Dense(10, input_shape = (9,), activation = 'sigmoid'))\n",
        "  model.add(Dense(10, activation = 'sigmoid'))\n",
        "  model.add(Dense(10, activation = 'sigmoid'))\n",
        "  model.add(Dense(1))\n",
        "  model.summary()\n",
        "\n",
        "  sgd = optimizers.SGD(lr = 0.01)    # stochastic gradient descent optimizer\n",
        "\n",
        "  model.compile(optimizer = sgd, loss = 'mean_squared_error', metrics = ['mse']) # for regression problems, mean squared error (MSE) is often employed\n",
        "  history=model.fit(X_train, y_train, validation_data=(X_test, y_test), batch_size = 25, epochs = 20, verbose = 1)\n",
        "\n",
        "  # results = model.evaluate(X_test, y_test)\n",
        "  # print('loss: ', results[0])\n",
        "  # print('mse: ', results[1])\n",
        "\n",
        "  import matplotlib.pyplot as plt\n",
        "  print(history.history.keys())\n",
        "  # list all data in history\n",
        "  print(history.history.keys())\n",
        "  # summarize history for accuracy\n",
        "  plt.plot(history.history['mse'])\n",
        "  plt.plot(history.history['val_mse'])\n",
        "  plt.title(output_columns[i])\n",
        "  plt.ylabel('MSE')\n",
        "  plt.xlabel('epoch')\n",
        "  plt.legend(['train', 'val'], loc='upper left')\n",
        "  plt.show()\n",
        "  del model\n"
      ],
      "execution_count": 27,
      "outputs": [
        {
          "output_type": "stream",
          "text": [
            "Model: \"sequential_20\"\n",
            "_________________________________________________________________\n",
            "Layer (type)                 Output Shape              Param #   \n",
            "=================================================================\n",
            "dense_80 (Dense)             (None, 10)                100       \n",
            "_________________________________________________________________\n",
            "dense_81 (Dense)             (None, 10)                110       \n",
            "_________________________________________________________________\n",
            "dense_82 (Dense)             (None, 10)                110       \n",
            "_________________________________________________________________\n",
            "dense_83 (Dense)             (None, 1)                 11        \n",
            "=================================================================\n",
            "Total params: 331\n",
            "Trainable params: 331\n",
            "Non-trainable params: 0\n",
            "_________________________________________________________________\n",
            "Epoch 1/20\n",
            "5/5 [==============================] - 0s 36ms/step - loss: 0.8498 - mse: 0.8498 - val_loss: 0.4612 - val_mse: 0.4612\n",
            "Epoch 2/20\n",
            "5/5 [==============================] - 0s 9ms/step - loss: 0.3802 - mse: 0.3802 - val_loss: 0.2207 - val_mse: 0.2207\n",
            "Epoch 3/20\n",
            "5/5 [==============================] - 0s 8ms/step - loss: 0.1840 - mse: 0.1840 - val_loss: 0.1130 - val_mse: 0.1130\n",
            "Epoch 4/20\n",
            "5/5 [==============================] - 0s 10ms/step - loss: 0.1028 - mse: 0.1028 - val_loss: 0.0647 - val_mse: 0.0647\n",
            "Epoch 5/20\n",
            "5/5 [==============================] - 0s 10ms/step - loss: 0.0653 - mse: 0.0653 - val_loss: 0.0429 - val_mse: 0.0429\n",
            "Epoch 6/20\n",
            "5/5 [==============================] - 0s 9ms/step - loss: 0.0361 - mse: 0.0361 - val_loss: 0.0325 - val_mse: 0.0325\n",
            "Epoch 7/20\n",
            "5/5 [==============================] - 0s 8ms/step - loss: 0.0319 - mse: 0.0319 - val_loss: 0.0278 - val_mse: 0.0278\n",
            "Epoch 8/20\n",
            "5/5 [==============================] - 0s 9ms/step - loss: 0.0288 - mse: 0.0288 - val_loss: 0.0256 - val_mse: 0.0256\n",
            "Epoch 9/20\n",
            "5/5 [==============================] - 0s 8ms/step - loss: 0.0249 - mse: 0.0249 - val_loss: 0.0246 - val_mse: 0.0246\n",
            "Epoch 10/20\n",
            "5/5 [==============================] - 0s 9ms/step - loss: 0.0310 - mse: 0.0310 - val_loss: 0.0241 - val_mse: 0.0241\n",
            "Epoch 11/20\n",
            "5/5 [==============================] - 0s 10ms/step - loss: 0.0246 - mse: 0.0246 - val_loss: 0.0238 - val_mse: 0.0238\n",
            "Epoch 12/20\n",
            "5/5 [==============================] - 0s 9ms/step - loss: 0.0262 - mse: 0.0262 - val_loss: 0.0237 - val_mse: 0.0237\n",
            "Epoch 13/20\n",
            "5/5 [==============================] - 0s 9ms/step - loss: 0.0266 - mse: 0.0266 - val_loss: 0.0236 - val_mse: 0.0236\n",
            "Epoch 14/20\n",
            "5/5 [==============================] - 0s 9ms/step - loss: 0.0248 - mse: 0.0248 - val_loss: 0.0236 - val_mse: 0.0236\n",
            "Epoch 15/20\n",
            "5/5 [==============================] - 0s 8ms/step - loss: 0.0259 - mse: 0.0259 - val_loss: 0.0235 - val_mse: 0.0235\n",
            "Epoch 16/20\n",
            "5/5 [==============================] - 0s 8ms/step - loss: 0.0242 - mse: 0.0242 - val_loss: 0.0235 - val_mse: 0.0235\n",
            "Epoch 17/20\n",
            "5/5 [==============================] - 0s 9ms/step - loss: 0.0267 - mse: 0.0267 - val_loss: 0.0235 - val_mse: 0.0235\n",
            "Epoch 18/20\n",
            "5/5 [==============================] - 0s 10ms/step - loss: 0.0243 - mse: 0.0243 - val_loss: 0.0235 - val_mse: 0.0235\n",
            "Epoch 19/20\n",
            "5/5 [==============================] - 0s 8ms/step - loss: 0.0241 - mse: 0.0241 - val_loss: 0.0235 - val_mse: 0.0235\n",
            "Epoch 20/20\n",
            "5/5 [==============================] - 0s 8ms/step - loss: 0.0240 - mse: 0.0240 - val_loss: 0.0235 - val_mse: 0.0235\n",
            "dict_keys(['loss', 'mse', 'val_loss', 'val_mse'])\n",
            "dict_keys(['loss', 'mse', 'val_loss', 'val_mse'])\n"
          ],
          "name": "stdout"
        },
        {
          "output_type": "display_data",
          "data": {
            "image/png": "[encoded data removed]",
            "text/plain": [
              "<Figure size 432x288 with 1 Axes>"
            ]
          },
          "metadata": {
            "tags": [],
            "needs_background": "light"
          }
        },
        {
          "output_type": "stream",
          "text": [
            "Model: \"sequential_21\"\n",
            "_________________________________________________________________\n",
            "Layer (type)                 Output Shape              Param #   \n",
            "=================================================================\n",
            "dense_84 (Dense)             (None, 10)                100       \n",
            "_________________________________________________________________\n",
            "dense_85 (Dense)             (None, 10)                110       \n",
            "_________________________________________________________________\n",
            "dense_86 (Dense)             (None, 10)                110       \n",
            "_________________________________________________________________\n",
            "dense_87 (Dense)             (None, 1)                 11        \n",
            "=================================================================\n",
            "Total params: 331\n",
            "Trainable params: 331\n",
            "Non-trainable params: 0\n",
            "_________________________________________________________________\n",
            "Epoch 1/20\n",
            "5/5 [==============================] - 0s 35ms/step - loss: 0.1637 - mse: 0.1637 - val_loss: 0.0917 - val_mse: 0.0917\n",
            "Epoch 2/20\n",
            "5/5 [==============================] - 0s 9ms/step - loss: 0.0733 - mse: 0.0733 - val_loss: 0.0487 - val_mse: 0.0487\n",
            "Epoch 3/20\n",
            "5/5 [==============================] - 0s 8ms/step - loss: 0.0408 - mse: 0.0408 - val_loss: 0.0312 - val_mse: 0.0312\n",
            "Epoch 4/20\n",
            "5/5 [==============================] - 0s 8ms/step - loss: 0.0253 - mse: 0.0253 - val_loss: 0.0238 - val_mse: 0.0238\n",
            "Epoch 5/20\n",
            "5/5 [==============================] - 0s 9ms/step - loss: 0.0175 - mse: 0.0175 - val_loss: 0.0206 - val_mse: 0.0206\n",
            "Epoch 6/20\n",
            "5/5 [==============================] - 0s 9ms/step - loss: 0.0145 - mse: 0.0145 - val_loss: 0.0192 - val_mse: 0.0192\n",
            "Epoch 7/20\n",
            "5/5 [==============================] - 0s 8ms/step - loss: 0.0152 - mse: 0.0152 - val_loss: 0.0186 - val_mse: 0.0186\n",
            "Epoch 8/20\n",
            "5/5 [==============================] - 0s 8ms/step - loss: 0.0160 - mse: 0.0160 - val_loss: 0.0183 - val_mse: 0.0183\n",
            "Epoch 9/20\n",
            "5/5 [==============================] - 0s 9ms/step - loss: 0.0144 - mse: 0.0144 - val_loss: 0.0182 - val_mse: 0.0182\n",
            "Epoch 10/20\n",
            "5/5 [==============================] - 0s 9ms/step - loss: 0.0141 - mse: 0.0141 - val_loss: 0.0181 - val_mse: 0.0181\n",
            "Epoch 11/20\n",
            "5/5 [==============================] - 0s 8ms/step - loss: 0.0142 - mse: 0.0142 - val_loss: 0.0181 - val_mse: 0.0181\n",
            "Epoch 12/20\n",
            "5/5 [==============================] - 0s 8ms/step - loss: 0.0125 - mse: 0.0125 - val_loss: 0.0181 - val_mse: 0.0181\n",
            "Epoch 13/20\n",
            "5/5 [==============================] - 0s 9ms/step - loss: 0.0143 - mse: 0.0143 - val_loss: 0.0180 - val_mse: 0.0180\n",
            "Epoch 14/20\n",
            "5/5 [==============================] - 0s 8ms/step - loss: 0.0135 - mse: 0.0135 - val_loss: 0.0181 - val_mse: 0.0181\n",
            "Epoch 15/20\n",
            "5/5 [==============================] - 0s 9ms/step - loss: 0.0138 - mse: 0.0138 - val_loss: 0.0181 - val_mse: 0.0181\n",
            "Epoch 16/20\n",
            "5/5 [==============================] - 0s 9ms/step - loss: 0.0148 - mse: 0.0148 - val_loss: 0.0180 - val_mse: 0.0180\n",
            "Epoch 17/20\n",
            "5/5 [==============================] - 0s 9ms/step - loss: 0.0170 - mse: 0.0170 - val_loss: 0.0181 - val_mse: 0.0181\n",
            "Epoch 18/20\n",
            "5/5 [==============================] - 0s 9ms/step - loss: 0.0145 - mse: 0.0145 - val_loss: 0.0180 - val_mse: 0.0180\n",
            "Epoch 19/20\n",
            "5/5 [==============================] - 0s 9ms/step - loss: 0.0143 - mse: 0.0143 - val_loss: 0.0181 - val_mse: 0.0181\n",
            "Epoch 20/20\n",
            "5/5 [==============================] - 0s 9ms/step - loss: 0.0151 - mse: 0.0151 - val_loss: 0.0181 - val_mse: 0.0181\n",
            "dict_keys(['loss', 'mse', 'val_loss', 'val_mse'])\n",
            "dict_keys(['loss', 'mse', 'val_loss', 'val_mse'])\n"
          ],
          "name": "stdout"
        },
        {
          "output_type": "display_data",
          "data": {
            "image/png": "[encoded data removed]",
            "text/plain": [
              "<Figure size 432x288 with 1 Axes>"
            ]
          },
          "metadata": {
            "tags": [],
            "needs_background": "light"
          }
        },
        {
          "output_type": "stream",
          "text": [
            "Model: \"sequential_22\"\n",
            "_________________________________________________________________\n",
            "Layer (type)                 Output Shape              Param #   \n",
            "=================================================================\n",
            "dense_88 (Dense)             (None, 10)                100       \n",
            "_________________________________________________________________\n",
            "dense_89 (Dense)             (None, 10)                110       \n",
            "_________________________________________________________________\n",
            "dense_90 (Dense)             (None, 10)                110       \n",
            "_________________________________________________________________\n",
            "dense_91 (Dense)             (None, 1)                 11        \n",
            "=================================================================\n",
            "Total params: 331\n",
            "Trainable params: 331\n",
            "Non-trainable params: 0\n",
            "_________________________________________________________________\n",
            "Epoch 1/20\n",
            "5/5 [==============================] - 0s 34ms/step - loss: 0.0458 - mse: 0.0458 - val_loss: 0.0541 - val_mse: 0.0541\n",
            "Epoch 2/20\n",
            "5/5 [==============================] - 0s 9ms/step - loss: 0.0330 - mse: 0.0330 - val_loss: 0.0507 - val_mse: 0.0507\n",
            "Epoch 3/20\n",
            "5/5 [==============================] - 0s 9ms/step - loss: 0.0303 - mse: 0.0303 - val_loss: 0.0501 - val_mse: 0.0501\n",
            "Epoch 4/20\n",
            "5/5 [==============================] - 0s 8ms/step - loss: 0.0202 - mse: 0.0202 - val_loss: 0.0503 - val_mse: 0.0503\n",
            "Epoch 5/20\n",
            "5/5 [==============================] - 0s 9ms/step - loss: 0.0192 - mse: 0.0192 - val_loss: 0.0508 - val_mse: 0.0508\n",
            "Epoch 6/20\n",
            "5/5 [==============================] - 0s 9ms/step - loss: 0.0225 - mse: 0.0225 - val_loss: 0.0513 - val_mse: 0.0513\n",
            "Epoch 7/20\n",
            "5/5 [==============================] - 0s 9ms/step - loss: 0.0219 - mse: 0.0219 - val_loss: 0.0515 - val_mse: 0.0515\n",
            "Epoch 8/20\n",
            "5/5 [==============================] - 0s 8ms/step - loss: 0.0253 - mse: 0.0253 - val_loss: 0.0518 - val_mse: 0.0518\n",
            "Epoch 9/20\n",
            "5/5 [==============================] - 0s 9ms/step - loss: 0.0268 - mse: 0.0268 - val_loss: 0.0520 - val_mse: 0.0520\n",
            "Epoch 10/20\n",
            "5/5 [==============================] - 0s 9ms/step - loss: 0.0228 - mse: 0.0228 - val_loss: 0.0522 - val_mse: 0.0522\n",
            "Epoch 11/20\n",
            "5/5 [==============================] - 0s 10ms/step - loss: 0.0221 - mse: 0.0221 - val_loss: 0.0522 - val_mse: 0.0522\n",
            "Epoch 12/20\n",
            "5/5 [==============================] - 0s 10ms/step - loss: 0.0196 - mse: 0.0196 - val_loss: 0.0522 - val_mse: 0.0522\n",
            "Epoch 13/20\n",
            "5/5 [==============================] - 0s 9ms/step - loss: 0.0203 - mse: 0.0203 - val_loss: 0.0523 - val_mse: 0.0523\n",
            "Epoch 14/20\n",
            "5/5 [==============================] - 0s 9ms/step - loss: 0.0240 - mse: 0.0240 - val_loss: 0.0523 - val_mse: 0.0523\n",
            "Epoch 15/20\n",
            "5/5 [==============================] - 0s 9ms/step - loss: 0.0223 - mse: 0.0223 - val_loss: 0.0523 - val_mse: 0.0523\n",
            "Epoch 16/20\n",
            "5/5 [==============================] - 0s 10ms/step - loss: 0.0257 - mse: 0.0257 - val_loss: 0.0523 - val_mse: 0.0523\n",
            "Epoch 17/20\n",
            "5/5 [==============================] - 0s 9ms/step - loss: 0.0271 - mse: 0.0271 - val_loss: 0.0524 - val_mse: 0.0524\n",
            "Epoch 18/20\n",
            "5/5 [==============================] - 0s 9ms/step - loss: 0.0242 - mse: 0.0242 - val_loss: 0.0524 - val_mse: 0.0524\n",
            "Epoch 19/20\n",
            "5/5 [==============================] - 0s 9ms/step - loss: 0.0233 - mse: 0.0233 - val_loss: 0.0525 - val_mse: 0.0525\n",
            "Epoch 20/20\n",
            "5/5 [==============================] - 0s 9ms/step - loss: 0.0194 - mse: 0.0194 - val_loss: 0.0525 - val_mse: 0.0525\n",
            "dict_keys(['loss', 'mse', 'val_loss', 'val_mse'])\n",
            "dict_keys(['loss', 'mse', 'val_loss', 'val_mse'])\n"
          ],
          "name": "stdout"
        },
        {
          "output_type": "display_data",
          "data": {
            "image/png": "[encoded data removed]",
            "text/plain": [
              "<Figure size 432x288 with 1 Axes>"
            ]
          },
          "metadata": {
            "tags": [],
            "needs_background": "light"
          }
        },
        {
          "output_type": "stream",
          "text": [
            "Model: \"sequential_23\"\n",
            "_________________________________________________________________\n",
            "Layer (type)                 Output Shape              Param #   \n",
            "=================================================================\n",
            "dense_92 (Dense)             (None, 10)                100       \n",
            "_________________________________________________________________\n",
            "dense_93 (Dense)             (None, 10)                110       \n",
            "_________________________________________________________________\n",
            "dense_94 (Dense)             (None, 10)                110       \n",
            "_________________________________________________________________\n",
            "dense_95 (Dense)             (None, 1)                 11        \n",
            "=================================================================\n",
            "Total params: 331\n",
            "Trainable params: 331\n",
            "Non-trainable params: 0\n",
            "_________________________________________________________________\n",
            "Epoch 1/20\n",
            "5/5 [==============================] - 0s 34ms/step - loss: 0.0875 - mse: 0.0875 - val_loss: 0.0400 - val_mse: 0.0400\n",
            "Epoch 2/20\n",
            "5/5 [==============================] - 0s 10ms/step - loss: 0.0430 - mse: 0.0430 - val_loss: 0.0183 - val_mse: 0.0183\n",
            "Epoch 3/20\n",
            "5/5 [==============================] - 0s 9ms/step - loss: 0.0223 - mse: 0.0223 - val_loss: 0.0099 - val_mse: 0.0099\n",
            "Epoch 4/20\n",
            "5/5 [==============================] - 0s 9ms/step - loss: 0.0159 - mse: 0.0159 - val_loss: 0.0068 - val_mse: 0.0068\n",
            "Epoch 5/20\n",
            "5/5 [==============================] - 0s 9ms/step - loss: 0.0091 - mse: 0.0091 - val_loss: 0.0057 - val_mse: 0.0057\n",
            "Epoch 6/20\n",
            "5/5 [==============================] - 0s 9ms/step - loss: 0.0094 - mse: 0.0094 - val_loss: 0.0053 - val_mse: 0.0053\n",
            "Epoch 7/20\n",
            "5/5 [==============================] - 0s 10ms/step - loss: 0.0135 - mse: 0.0135 - val_loss: 0.0053 - val_mse: 0.0053\n",
            "Epoch 8/20\n",
            "5/5 [==============================] - 0s 9ms/step - loss: 0.0123 - mse: 0.0123 - val_loss: 0.0053 - val_mse: 0.0053\n",
            "Epoch 9/20\n",
            "5/5 [==============================] - 0s 8ms/step - loss: 0.0074 - mse: 0.0074 - val_loss: 0.0053 - val_mse: 0.0053\n",
            "Epoch 10/20\n",
            "5/5 [==============================] - 0s 8ms/step - loss: 0.0105 - mse: 0.0105 - val_loss: 0.0053 - val_mse: 0.0053\n",
            "Epoch 11/20\n",
            "5/5 [==============================] - 0s 8ms/step - loss: 0.0083 - mse: 0.0083 - val_loss: 0.0054 - val_mse: 0.0054\n",
            "Epoch 12/20\n",
            "5/5 [==============================] - 0s 9ms/step - loss: 0.0078 - mse: 0.0078 - val_loss: 0.0054 - val_mse: 0.0054\n",
            "Epoch 13/20\n",
            "5/5 [==============================] - 0s 9ms/step - loss: 0.0142 - mse: 0.0142 - val_loss: 0.0054 - val_mse: 0.0054\n",
            "Epoch 14/20\n",
            "5/5 [==============================] - 0s 9ms/step - loss: 0.0078 - mse: 0.0078 - val_loss: 0.0054 - val_mse: 0.0054\n",
            "Epoch 15/20\n",
            "5/5 [==============================] - 0s 9ms/step - loss: 0.0083 - mse: 0.0083 - val_loss: 0.0054 - val_mse: 0.0054\n",
            "Epoch 16/20\n",
            "5/5 [==============================] - 0s 10ms/step - loss: 0.0089 - mse: 0.0089 - val_loss: 0.0054 - val_mse: 0.0054\n",
            "Epoch 17/20\n",
            "5/5 [==============================] - 0s 9ms/step - loss: 0.0123 - mse: 0.0123 - val_loss: 0.0054 - val_mse: 0.0054\n",
            "Epoch 18/20\n",
            "5/5 [==============================] - 0s 9ms/step - loss: 0.0082 - mse: 0.0082 - val_loss: 0.0054 - val_mse: 0.0054\n",
            "Epoch 19/20\n",
            "5/5 [==============================] - 0s 9ms/step - loss: 0.0084 - mse: 0.0084 - val_loss: 0.0054 - val_mse: 0.0054\n",
            "Epoch 20/20\n",
            "5/5 [==============================] - 0s 9ms/step - loss: 0.0084 - mse: 0.0084 - val_loss: 0.0054 - val_mse: 0.0054\n",
            "dict_keys(['loss', 'mse', 'val_loss', 'val_mse'])\n",
            "dict_keys(['loss', 'mse', 'val_loss', 'val_mse'])\n"
          ],
          "name": "stdout"
        },
        {
          "output_type": "display_data",
          "data": {
            "image/png": "[encoded data removed]",
            "text/plain": [
              "<Figure size 432x288 with 1 Axes>"
            ]
          },
          "metadata": {
            "tags": [],
            "needs_background": "light"
          }
        },
        {
          "output_type": "stream",
          "text": [
            "Model: \"sequential_24\"\n",
            "_________________________________________________________________\n",
            "Layer (type)                 Output Shape              Param #   \n",
            "=================================================================\n",
            "dense_96 (Dense)             (None, 10)                100       \n",
            "_________________________________________________________________\n",
            "dense_97 (Dense)             (None, 10)                110       \n",
            "_________________________________________________________________\n",
            "dense_98 (Dense)             (None, 10)                110       \n",
            "_________________________________________________________________\n",
            "dense_99 (Dense)             (None, 1)                 11        \n",
            "=================================================================\n",
            "Total params: 331\n",
            "Trainable params: 331\n",
            "Non-trainable params: 0\n",
            "_________________________________________________________________\n",
            "Epoch 1/20\n",
            "5/5 [==============================] - 0s 34ms/step - loss: 0.2576 - mse: 0.2576 - val_loss: 0.1243 - val_mse: 0.1243\n",
            "Epoch 2/20\n",
            "5/5 [==============================] - 0s 9ms/step - loss: 0.1004 - mse: 0.1004 - val_loss: 0.0493 - val_mse: 0.0493\n",
            "Epoch 3/20\n",
            "5/5 [==============================] - 0s 11ms/step - loss: 0.0398 - mse: 0.0398 - val_loss: 0.0197 - val_mse: 0.0197\n",
            "Epoch 4/20\n",
            "5/5 [==============================] - 0s 9ms/step - loss: 0.0155 - mse: 0.0155 - val_loss: 0.0080 - val_mse: 0.0080\n",
            "Epoch 5/20\n",
            "5/5 [==============================] - 0s 9ms/step - loss: 0.0064 - mse: 0.0064 - val_loss: 0.0034 - val_mse: 0.0034\n",
            "Epoch 6/20\n",
            "5/5 [==============================] - 0s 9ms/step - loss: 0.0028 - mse: 0.0028 - val_loss: 0.0016 - val_mse: 0.0016\n",
            "Epoch 7/20\n",
            "5/5 [==============================] - 0s 9ms/step - loss: 0.0011 - mse: 0.0011 - val_loss: 8.1075e-04 - val_mse: 8.1075e-04\n",
            "Epoch 8/20\n",
            "5/5 [==============================] - 0s 9ms/step - loss: 6.8725e-04 - mse: 6.8725e-04 - val_loss: 5.0658e-04 - val_mse: 5.0658e-04\n",
            "Epoch 9/20\n",
            "5/5 [==============================] - 0s 9ms/step - loss: 4.0115e-04 - mse: 4.0115e-04 - val_loss: 3.7774e-04 - val_mse: 3.7774e-04\n",
            "Epoch 10/20\n",
            "5/5 [==============================] - 0s 9ms/step - loss: 3.3905e-04 - mse: 3.3905e-04 - val_loss: 3.2365e-04 - val_mse: 3.2365e-04\n",
            "Epoch 11/20\n",
            "5/5 [==============================] - 0s 9ms/step - loss: 2.4478e-04 - mse: 2.4478e-04 - val_loss: 2.9747e-04 - val_mse: 2.9747e-04\n",
            "Epoch 12/20\n",
            "5/5 [==============================] - 0s 9ms/step - loss: 2.2784e-04 - mse: 2.2784e-04 - val_loss: 2.8607e-04 - val_mse: 2.8607e-04\n",
            "Epoch 13/20\n",
            "5/5 [==============================] - 0s 8ms/step - loss: 2.9019e-04 - mse: 2.9019e-04 - val_loss: 2.8071e-04 - val_mse: 2.8071e-04\n",
            "Epoch 14/20\n",
            "5/5 [==============================] - 0s 9ms/step - loss: 2.8205e-04 - mse: 2.8205e-04 - val_loss: 2.7756e-04 - val_mse: 2.7756e-04\n",
            "Epoch 15/20\n",
            "5/5 [==============================] - 0s 10ms/step - loss: 2.6308e-04 - mse: 2.6308e-04 - val_loss: 2.7578e-04 - val_mse: 2.7578e-04\n",
            "Epoch 16/20\n",
            "5/5 [==============================] - 0s 10ms/step - loss: 2.4423e-04 - mse: 2.4423e-04 - val_loss: 2.7524e-04 - val_mse: 2.7524e-04\n",
            "Epoch 17/20\n",
            "5/5 [==============================] - 0s 10ms/step - loss: 2.5896e-04 - mse: 2.5896e-04 - val_loss: 2.7494e-04 - val_mse: 2.7494e-04\n",
            "Epoch 18/20\n",
            "5/5 [==============================] - 0s 10ms/step - loss: 2.6208e-04 - mse: 2.6208e-04 - val_loss: 2.7465e-04 - val_mse: 2.7465e-04\n",
            "Epoch 19/20\n",
            "5/5 [==============================] - 0s 9ms/step - loss: 1.9775e-04 - mse: 1.9775e-04 - val_loss: 2.7394e-04 - val_mse: 2.7394e-04\n",
            "Epoch 20/20\n",
            "5/5 [==============================] - 0s 10ms/step - loss: 2.8881e-04 - mse: 2.8881e-04 - val_loss: 2.7411e-04 - val_mse: 2.7411e-04\n",
            "dict_keys(['loss', 'mse', 'val_loss', 'val_mse'])\n",
            "dict_keys(['loss', 'mse', 'val_loss', 'val_mse'])\n"
          ],
          "name": "stdout"
        },
        {
          "output_type": "display_data",
          "data": {
            "image/png": "[encoded data removed]",
            "text/plain": [
              "<Figure size 432x288 with 1 Axes>"
            ]
          },
          "metadata": {
            "tags": [],
            "needs_background": "light"
          }
        }
      ]
    }
  ]
}