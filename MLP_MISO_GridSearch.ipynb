{
  "nbformat": 4,
  "nbformat_minor": 0,
  "metadata": {
    "colab": {
      "name": "MLP_MISO_GridSearch.ipynb",
      "provenance": [],
      "authorship_tag": "ABX9TyP2nVCjtgE6bbRO9zmmDO7s",
      "include_colab_link": true
    },
    "kernelspec": {
      "name": "python3",
      "display_name": "Python 3"
    },
    "accelerator": "GPU"
  },
  "cells": [
    {
      "cell_type": "markdown",
      "metadata": {
        "id": "view-in-github",
        "colab_type": "text"
      },
      "source": [
        "<a href=\"https://colab.research.google.com/github/sagihaider/Biogas_Prediction/blob/master/MLP_MISO_GridSearch.ipynb\" target=\"_parent\"><img src=\"https://colab.research.google.com/assets/colab-badge.svg\" alt=\"Open In Colab\"/></a>"
      ]
    },
    {
      "cell_type": "code",
      "metadata": {
        "colab": {
          "base_uri": "https://localhost:8080/"
        },
        "id": "A6IJ4D2S_b3j",
        "outputId": "04737fcd-ebd2-4f8f-f69b-02adc4788ec4"
      },
      "source": [
        "!git clone https://github.com/sagihaider/Biogas_Prediction.git \n",
        "\n",
        "import pandas as pd\n",
        "import numpy as np\n",
        "from keras.models import Sequential\n",
        "from keras.layers import Activation, Dense\n",
        "from sklearn.preprocessing import normalize\n",
        "from keras import optimizers\n",
        "from sklearn.model_selection import train_test_split"
      ],
      "execution_count": 7,
      "outputs": [
        {
          "output_type": "stream",
          "text": [
            "fatal: destination path 'Biogas_Prediction' already exists and is not an empty directory.\n"
          ],
          "name": "stdout"
        }
      ]
    },
    {
      "cell_type": "code",
      "metadata": {
        "colab": {
          "base_uri": "https://localhost:8080/",
          "height": 544
        },
        "id": "59umuebs_wUj",
        "outputId": "ec7d8895-8597-4f12-e737-7c287b661652"
      },
      "source": [
        "data = pd.read_excel('/content/Biogas_Prediction/Data/Gasification Data_Daya.xlsx', index_col=0, header=0)\n",
        "data = data.iloc[1:223,:14] \n",
        "display(list(data.columns.values))\n",
        "\n",
        "# Drop null balues and store dataframe in dataframe 2\n",
        "data=data.dropna()\n",
        "print(data)\n",
        "\n",
        "#Check Null values again after removing\n",
        "print(data.isnull().values.any())\n",
        "print(data.isna().values.any())\n",
        "\n",
        "X_all = data.iloc[:, :9]\n",
        "y_all = data.iloc[:, 9:]"
      ],
      "execution_count": 8,
      "outputs": [
        {
          "output_type": "display_data",
          "data": {
            "text/plain": [
              "['C [%wt db]',\n",
              " 'H [%wt db]',\n",
              " 'O [%wt db]',\n",
              " 'Moisture [%wt]',\n",
              " 'Ash [%wt db]',\n",
              " 'ER [-]',\n",
              " 'T [ºC]',\n",
              " 'Bed material',\n",
              " 'Steam/Biomass',\n",
              " 'H2 [%vol N2 free]',\n",
              " 'CO [%vol N2 free]',\n",
              " 'CO2 [%vol N2 free]',\n",
              " 'CH4 [%vol N2 free]',\n",
              " 'GY [Nm3/kg daf]']"
            ]
          },
          "metadata": {
            "tags": []
          }
        },
        {
          "output_type": "stream",
          "text": [
            "        C [%wt db] H [%wt db]  ...  CH4 [%vol N2 free] GY [Nm3/kg daf]\n",
            "Sr No.                         ...                                    \n",
            "2            50.00        5.7  ...            6.474820        2.500000\n",
            "3            50.00        5.7  ...            7.164179        2.500000\n",
            "4            50.00        5.7  ...            6.474820        2.100000\n",
            "5            50.00        5.7  ...            6.474820        2.400000\n",
            "6            50.00        5.7  ...            8.181818        2.100000\n",
            "...            ...        ...  ...                 ...             ...\n",
            "219          46.85        6.3  ...            9.706147        0.947532\n",
            "220          46.85        6.3  ...            9.455065        0.975752\n",
            "221          46.76       5.68  ...            9.933682        0.971784\n",
            "222          46.76       5.68  ...            8.778402        0.982989\n",
            "223          46.76       5.68  ...            8.534014        0.973816\n",
            "\n",
            "[187 rows x 14 columns]\n",
            "False\n",
            "False\n"
          ],
          "name": "stdout"
        }
      ]
    },
    {
      "cell_type": "code",
      "metadata": {
        "colab": {
          "base_uri": "https://localhost:8080/"
        },
        "id": "7_ZwSMVEAArd",
        "outputId": "808a7adb-b57c-40aa-b717-377b6a6f2ecc"
      },
      "source": [
        "input_columns = list(X_all.columns.values)\n",
        "input_columns = [i.split(' [', 1)[0] for i in input_columns]\n",
        "output_columns = list(y_all.columns.values)\n",
        "output_columns = [i.split(' [', 1)[0] for i in output_columns]\n",
        "print(input_columns, output_columns)\n",
        "\n",
        "Xnorm = normalize(X_all, 'l2', axis=1)\n",
        "ynorm = normalize(y_all, 'l2', axis=1)\n",
        "Y = ynorm[:,1]"
      ],
      "execution_count": 10,
      "outputs": [
        {
          "output_type": "stream",
          "text": [
            "['C', 'H', 'O', 'Moisture', 'Ash', 'ER', 'T', 'Bed material', 'Steam/Biomass'] ['H2', 'CO', 'CO2', 'CH4', 'GY']\n"
          ],
          "name": "stdout"
        }
      ]
    },
    {
      "cell_type": "code",
      "metadata": {
        "colab": {
          "base_uri": "https://localhost:8080/"
        },
        "id": "Ho7_LOrIipow",
        "outputId": "a780a4f9-f0b0-473a-ed63-95a156974332"
      },
      "source": [
        "from sklearn.model_selection import GridSearchCV\n",
        "from keras.models import Sequential\n",
        "from keras.layers import Dense\n",
        "from keras.wrappers.scikit_learn import KerasClassifier\n",
        "from keras.wrappers.scikit_learn import KerasRegressor\n",
        "\n",
        "# Function to create model, required for KerasClassifier\n",
        "def create_model(optimizer='adam', activation = 'sigmoid', h_neu = 2):\n",
        "  # create model\n",
        "  model = Sequential()\n",
        "  model.add(Dense(10, input_shape = (9,), activation = activation))\n",
        "  # model.add(Dense(10, activation = 'sigmoid'))\n",
        "  model.add(Dense(h_neu, activation = activation))\n",
        "  model.add(Dense(1))\n",
        "  # model.summary()\n",
        "  # sgd = optimizers.SGD(lr = 0.01)    # stochastic gradient descent optimizer\n",
        "  model.compile(optimizer = optimizer, loss = 'mean_squared_error', metrics = ['mse']) \n",
        "  return model\n",
        "\n",
        "# fix random seed for reproducibility\n",
        "seed = 7\n",
        "np.random.seed(seed)\n",
        "\n",
        "# create model\n",
        "model = KerasRegressor(build_fn=create_model, epochs=100, batch_size=10, verbose=0)\n",
        "\n",
        "optimizer = ['SGD', 'RMSprop', 'Adagrad']\n",
        "activation = ['sigmoid', 'tanh', 'relu', 'softplus']\n",
        "h_neu = [2,4,6,8,10]\n",
        "param_grid = dict(optimizer=optimizer, activation=activation, h_neu=h_neu)\n",
        "\n",
        "grid = GridSearchCV(estimator=model, param_grid=param_grid, n_jobs=1)\n",
        "grid_result = grid.fit(Xnorm, Y)\n",
        "\n",
        "#summarize results\n",
        "print(\"Best: %f using %s\" % (grid_result.best_score_, grid_result.best_params_))\n",
        "means = grid_result.cv_results_['mean_test_score']\n",
        "stds = grid_result.cv_results_['std_test_score']\n",
        "params = grid_result.cv_results_['params']\n",
        "for mean, stdev, param in zip(means, stds, params):\n",
        "    print(\"%f (%f) with: %r\" % (mean, stdev, param))"
      ],
      "execution_count": 21,
      "outputs": [
        {
          "output_type": "stream",
          "text": [
            "Best: -0.012694 using {'activation': 'relu', 'h_neu': 10, 'optimizer': 'RMSprop'}\n",
            "-0.018031 (0.011161) with: {'activation': 'sigmoid', 'h_neu': 2, 'optimizer': 'SGD'}\n",
            "-0.017486 (0.011284) with: {'activation': 'sigmoid', 'h_neu': 2, 'optimizer': 'RMSprop'}\n",
            "-0.053400 (0.064075) with: {'activation': 'sigmoid', 'h_neu': 2, 'optimizer': 'Adagrad'}\n",
            "-0.018132 (0.011286) with: {'activation': 'sigmoid', 'h_neu': 4, 'optimizer': 'SGD'}\n",
            "-0.017120 (0.010629) with: {'activation': 'sigmoid', 'h_neu': 4, 'optimizer': 'RMSprop'}\n",
            "-0.327879 (0.472371) with: {'activation': 'sigmoid', 'h_neu': 4, 'optimizer': 'Adagrad'}\n",
            "-0.018246 (0.011475) with: {'activation': 'sigmoid', 'h_neu': 6, 'optimizer': 'SGD'}\n",
            "-0.017172 (0.010741) with: {'activation': 'sigmoid', 'h_neu': 6, 'optimizer': 'RMSprop'}\n",
            "-0.138203 (0.157493) with: {'activation': 'sigmoid', 'h_neu': 6, 'optimizer': 'Adagrad'}\n",
            "-0.017949 (0.011098) with: {'activation': 'sigmoid', 'h_neu': 8, 'optimizer': 'SGD'}\n",
            "-0.017630 (0.012105) with: {'activation': 'sigmoid', 'h_neu': 8, 'optimizer': 'RMSprop'}\n",
            "-0.265105 (0.330848) with: {'activation': 'sigmoid', 'h_neu': 8, 'optimizer': 'Adagrad'}\n",
            "-0.018267 (0.011271) with: {'activation': 'sigmoid', 'h_neu': 10, 'optimizer': 'SGD'}\n",
            "-0.016159 (0.009135) with: {'activation': 'sigmoid', 'h_neu': 10, 'optimizer': 'RMSprop'}\n",
            "-0.204021 (0.316466) with: {'activation': 'sigmoid', 'h_neu': 10, 'optimizer': 'Adagrad'}\n",
            "-0.016519 (0.009347) with: {'activation': 'tanh', 'h_neu': 2, 'optimizer': 'SGD'}\n",
            "-0.015300 (0.009977) with: {'activation': 'tanh', 'h_neu': 2, 'optimizer': 'RMSprop'}\n",
            "-0.017411 (0.010338) with: {'activation': 'tanh', 'h_neu': 2, 'optimizer': 'Adagrad'}\n",
            "-0.016975 (0.010589) with: {'activation': 'tanh', 'h_neu': 4, 'optimizer': 'SGD'}\n",
            "-0.014768 (0.008968) with: {'activation': 'tanh', 'h_neu': 4, 'optimizer': 'RMSprop'}\n",
            "-0.016497 (0.006493) with: {'activation': 'tanh', 'h_neu': 4, 'optimizer': 'Adagrad'}\n",
            "-0.018430 (0.011771) with: {'activation': 'tanh', 'h_neu': 6, 'optimizer': 'SGD'}\n",
            "-0.013754 (0.007951) with: {'activation': 'tanh', 'h_neu': 6, 'optimizer': 'RMSprop'}\n",
            "-0.020142 (0.011119) with: {'activation': 'tanh', 'h_neu': 6, 'optimizer': 'Adagrad'}\n",
            "-0.018911 (0.012654) with: {'activation': 'tanh', 'h_neu': 8, 'optimizer': 'SGD'}\n",
            "-0.014347 (0.008886) with: {'activation': 'tanh', 'h_neu': 8, 'optimizer': 'RMSprop'}\n",
            "-0.019608 (0.013288) with: {'activation': 'tanh', 'h_neu': 8, 'optimizer': 'Adagrad'}\n",
            "-0.017719 (0.011405) with: {'activation': 'tanh', 'h_neu': 10, 'optimizer': 'SGD'}\n",
            "-0.014036 (0.008111) with: {'activation': 'tanh', 'h_neu': 10, 'optimizer': 'RMSprop'}\n",
            "-0.017369 (0.009435) with: {'activation': 'tanh', 'h_neu': 10, 'optimizer': 'Adagrad'}\n",
            "-0.017974 (0.011316) with: {'activation': 'relu', 'h_neu': 2, 'optimizer': 'SGD'}\n",
            "-0.017360 (0.011789) with: {'activation': 'relu', 'h_neu': 2, 'optimizer': 'RMSprop'}\n",
            "-0.236315 (0.102780) with: {'activation': 'relu', 'h_neu': 2, 'optimizer': 'Adagrad'}\n",
            "-0.016781 (0.009532) with: {'activation': 'relu', 'h_neu': 4, 'optimizer': 'SGD'}\n",
            "-0.015132 (0.009373) with: {'activation': 'relu', 'h_neu': 4, 'optimizer': 'RMSprop'}\n",
            "-0.130883 (0.132637) with: {'activation': 'relu', 'h_neu': 4, 'optimizer': 'Adagrad'}\n",
            "-0.018019 (0.010763) with: {'activation': 'relu', 'h_neu': 6, 'optimizer': 'SGD'}\n",
            "-0.013488 (0.008419) with: {'activation': 'relu', 'h_neu': 6, 'optimizer': 'RMSprop'}\n",
            "-0.049208 (0.063086) with: {'activation': 'relu', 'h_neu': 6, 'optimizer': 'Adagrad'}\n",
            "-0.017939 (0.011118) with: {'activation': 'relu', 'h_neu': 8, 'optimizer': 'SGD'}\n",
            "-0.014340 (0.010422) with: {'activation': 'relu', 'h_neu': 8, 'optimizer': 'RMSprop'}\n",
            "-0.069869 (0.086628) with: {'activation': 'relu', 'h_neu': 8, 'optimizer': 'Adagrad'}\n",
            "-0.017636 (0.011174) with: {'activation': 'relu', 'h_neu': 10, 'optimizer': 'SGD'}\n",
            "-0.012694 (0.006440) with: {'activation': 'relu', 'h_neu': 10, 'optimizer': 'RMSprop'}\n",
            "-0.055919 (0.052089) with: {'activation': 'relu', 'h_neu': 10, 'optimizer': 'Adagrad'}\n",
            "-0.018347 (0.011289) with: {'activation': 'softplus', 'h_neu': 2, 'optimizer': 'SGD'}\n",
            "-0.017052 (0.010087) with: {'activation': 'softplus', 'h_neu': 2, 'optimizer': 'RMSprop'}\n",
            "-0.207034 (0.182011) with: {'activation': 'softplus', 'h_neu': 2, 'optimizer': 'Adagrad'}\n",
            "-0.017618 (0.010586) with: {'activation': 'softplus', 'h_neu': 4, 'optimizer': 'SGD'}\n",
            "-0.015371 (0.009237) with: {'activation': 'softplus', 'h_neu': 4, 'optimizer': 'RMSprop'}\n",
            "-0.277155 (0.493131) with: {'activation': 'softplus', 'h_neu': 4, 'optimizer': 'Adagrad'}\n",
            "-0.018079 (0.011845) with: {'activation': 'softplus', 'h_neu': 6, 'optimizer': 'SGD'}\n",
            "-0.014719 (0.009941) with: {'activation': 'softplus', 'h_neu': 6, 'optimizer': 'RMSprop'}\n",
            "-0.415172 (0.686668) with: {'activation': 'softplus', 'h_neu': 6, 'optimizer': 'Adagrad'}\n",
            "-0.017778 (0.011332) with: {'activation': 'softplus', 'h_neu': 8, 'optimizer': 'SGD'}\n",
            "-0.016039 (0.010571) with: {'activation': 'softplus', 'h_neu': 8, 'optimizer': 'RMSprop'}\n",
            "-0.044558 (0.034549) with: {'activation': 'softplus', 'h_neu': 8, 'optimizer': 'Adagrad'}\n",
            "-0.017924 (0.010174) with: {'activation': 'softplus', 'h_neu': 10, 'optimizer': 'SGD'}\n",
            "-0.017651 (0.013342) with: {'activation': 'softplus', 'h_neu': 10, 'optimizer': 'RMSprop'}\n",
            "-0.159918 (0.158455) with: {'activation': 'softplus', 'h_neu': 10, 'optimizer': 'Adagrad'}\n"
          ],
          "name": "stdout"
        }
      ]
    }
  ]
}