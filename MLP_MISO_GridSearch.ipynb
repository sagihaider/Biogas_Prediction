{
  "nbformat": 4,
  "nbformat_minor": 0,
  "metadata": {
    "colab": {
      "name": "MLP_MISO_GridSearch.ipynb",
      "provenance": [],
      "authorship_tag": "ABX9TyPb9E8M8nNYyzOXN7EhD9Ai",
      "include_colab_link": true
    },
    "kernelspec": {
      "name": "python3",
      "display_name": "Python 3"
    },
    "accelerator": "GPU"
  },
  "cells": [
    {
      "cell_type": "markdown",
      "metadata": {
        "id": "view-in-github",
        "colab_type": "text"
      },
      "source": [
        "<a href=\"https://colab.research.google.com/github/sagihaider/Biogas_Prediction/blob/master/MLP_MISO_GridSearch.ipynb\" target=\"_parent\"><img src=\"https://colab.research.google.com/assets/colab-badge.svg\" alt=\"Open In Colab\"/></a>"
      ]
    },
    {
      "cell_type": "code",
      "metadata": {
        "colab": {
          "base_uri": "https://localhost:8080/"
        },
        "id": "A6IJ4D2S_b3j",
        "outputId": "04737fcd-ebd2-4f8f-f69b-02adc4788ec4"
      },
      "source": [
        "!git clone https://github.com/sagihaider/Biogas_Prediction.git \n",
        "\n",
        "import pandas as pd\n",
        "import numpy as np\n",
        "from keras.models import Sequential\n",
        "from keras.layers import Activation, Dense\n",
        "from sklearn.preprocessing import normalize\n",
        "from keras import optimizers\n",
        "from sklearn.model_selection import train_test_split"
      ],
      "execution_count": 7,
      "outputs": [
        {
          "output_type": "stream",
          "text": [
            "fatal: destination path 'Biogas_Prediction' already exists and is not an empty directory.\n"
          ],
          "name": "stdout"
        }
      ]
    },
    {
      "cell_type": "code",
      "metadata": {
        "colab": {
          "base_uri": "https://localhost:8080/",
          "height": 544
        },
        "id": "59umuebs_wUj",
        "outputId": "ec7d8895-8597-4f12-e737-7c287b661652"
      },
      "source": [
        "data = pd.read_excel('/content/Biogas_Prediction/Data/Gasification Data_Daya.xlsx', index_col=0, header=0)\n",
        "data = data.iloc[1:223,:14] \n",
        "display(list(data.columns.values))\n",
        "\n",
        "# Drop null balues and store dataframe in dataframe 2\n",
        "data=data.dropna()\n",
        "print(data)\n",
        "\n",
        "#Check Null values again after removing\n",
        "print(data.isnull().values.any())\n",
        "print(data.isna().values.any())\n",
        "\n",
        "X_all = data.iloc[:, :9]\n",
        "y_all = data.iloc[:, 9:]"
      ],
      "execution_count": 8,
      "outputs": [
        {
          "output_type": "display_data",
          "data": {
            "text/plain": [
              "['C [%wt db]',\n",
              " 'H [%wt db]',\n",
              " 'O [%wt db]',\n",
              " 'Moisture [%wt]',\n",
              " 'Ash [%wt db]',\n",
              " 'ER [-]',\n",
              " 'T [ºC]',\n",
              " 'Bed material',\n",
              " 'Steam/Biomass',\n",
              " 'H2 [%vol N2 free]',\n",
              " 'CO [%vol N2 free]',\n",
              " 'CO2 [%vol N2 free]',\n",
              " 'CH4 [%vol N2 free]',\n",
              " 'GY [Nm3/kg daf]']"
            ]
          },
          "metadata": {
            "tags": []
          }
        },
        {
          "output_type": "stream",
          "text": [
            "        C [%wt db] H [%wt db]  ...  CH4 [%vol N2 free] GY [Nm3/kg daf]\n",
            "Sr No.                         ...                                    \n",
            "2            50.00        5.7  ...            6.474820        2.500000\n",
            "3            50.00        5.7  ...            7.164179        2.500000\n",
            "4            50.00        5.7  ...            6.474820        2.100000\n",
            "5            50.00        5.7  ...            6.474820        2.400000\n",
            "6            50.00        5.7  ...            8.181818        2.100000\n",
            "...            ...        ...  ...                 ...             ...\n",
            "219          46.85        6.3  ...            9.706147        0.947532\n",
            "220          46.85        6.3  ...            9.455065        0.975752\n",
            "221          46.76       5.68  ...            9.933682        0.971784\n",
            "222          46.76       5.68  ...            8.778402        0.982989\n",
            "223          46.76       5.68  ...            8.534014        0.973816\n",
            "\n",
            "[187 rows x 14 columns]\n",
            "False\n",
            "False\n"
          ],
          "name": "stdout"
        }
      ]
    },
    {
      "cell_type": "code",
      "metadata": {
        "colab": {
          "base_uri": "https://localhost:8080/"
        },
        "id": "7_ZwSMVEAArd",
        "outputId": "808a7adb-b57c-40aa-b717-377b6a6f2ecc"
      },
      "source": [
        "input_columns = list(X_all.columns.values)\n",
        "input_columns = [i.split(' [', 1)[0] for i in input_columns]\n",
        "output_columns = list(y_all.columns.values)\n",
        "output_columns = [i.split(' [', 1)[0] for i in output_columns]\n",
        "print(input_columns, output_columns)\n",
        "\n",
        "Xnorm = normalize(X_all, 'l2', axis=1)\n",
        "ynorm = normalize(y_all, 'l2', axis=1)\n",
        "Y = ynorm[:,1]"
      ],
      "execution_count": 10,
      "outputs": [
        {
          "output_type": "stream",
          "text": [
            "['C', 'H', 'O', 'Moisture', 'Ash', 'ER', 'T', 'Bed material', 'Steam/Biomass'] ['H2', 'CO', 'CO2', 'CH4', 'GY']\n"
          ],
          "name": "stdout"
        }
      ]
    },
    {
      "cell_type": "code",
      "metadata": {
        "colab": {
          "base_uri": "https://localhost:8080/"
        },
        "id": "Ho7_LOrIipow",
        "outputId": "a8c0c160-d4d0-4a35-97bd-832c3a222308"
      },
      "source": [
        "from sklearn.model_selection import GridSearchCV\n",
        "from keras.models import Sequential\n",
        "from keras.layers import Dense\n",
        "from keras.wrappers.scikit_learn import KerasClassifier\n",
        "from keras.wrappers.scikit_learn import KerasRegressor\n",
        "\n",
        "# Function to create model, required for KerasClassifier\n",
        "def create_model(optimizer='adam', activation = 'sigmoid'):\n",
        "  # create model\n",
        "  model = Sequential()\n",
        "  model.add(Dense(10, input_shape = (9,), activation = activation))\n",
        "  # model.add(Dense(10, activation = 'sigmoid'))\n",
        "  model.add(Dense(10, activation = activation))\n",
        "  model.add(Dense(1))\n",
        "  # model.summary()\n",
        "  # sgd = optimizers.SGD(lr = 0.01)    # stochastic gradient descent optimizer\n",
        "  model.compile(optimizer = optimizer, loss = 'mean_squared_error', metrics = ['mse']) \n",
        "  return model\n",
        "\n",
        "# fix random seed for reproducibility\n",
        "seed = 7\n",
        "np.random.seed(seed)\n",
        "\n",
        "# create model\n",
        "model = KerasRegressor(build_fn=create_model, epochs=100, batch_size=10, verbose=0)\n",
        "\n",
        "optimizer = ['SGD', 'RMSprop', 'Adagrad']\n",
        "activation = ['sigmoid', 'tanh', 'relu', 'softplus']\n",
        "param_grid = dict(optimizer=optimizer, activation=activation)\n",
        "\n",
        "grid = GridSearchCV(estimator=model, param_grid=param_grid, n_jobs=1)\n",
        "grid_result = grid.fit(Xnorm, Y)\n",
        "\n",
        "#summarize results\n",
        "print(\"Best: %f using %s\" % (grid_result.best_score_, grid_result.best_params_))\n",
        "means = grid_result.cv_results_['mean_test_score']\n",
        "stds = grid_result.cv_results_['std_test_score']\n",
        "params = grid_result.cv_results_['params']\n",
        "for mean, stdev, param in zip(means, stds, params):\n",
        "    print(\"%f (%f) with: %r\" % (mean, stdev, param))"
      ],
      "execution_count": 18,
      "outputs": [
        {
          "output_type": "stream",
          "text": [
            "Best: -0.013771 using {'activation': 'softplus', 'optimizer': 'RMSprop'}\n",
            "-0.018338 (0.011402) with: {'activation': 'sigmoid', 'optimizer': 'SGD'}\n",
            "-0.016577 (0.010059) with: {'activation': 'sigmoid', 'optimizer': 'RMSprop'}\n",
            "-0.036615 (0.033888) with: {'activation': 'sigmoid', 'optimizer': 'Adagrad'}\n",
            "-0.017005 (0.010795) with: {'activation': 'tanh', 'optimizer': 'SGD'}\n",
            "-0.014738 (0.010589) with: {'activation': 'tanh', 'optimizer': 'RMSprop'}\n",
            "-0.017076 (0.009102) with: {'activation': 'tanh', 'optimizer': 'Adagrad'}\n",
            "-0.017309 (0.010893) with: {'activation': 'relu', 'optimizer': 'SGD'}\n",
            "-0.016481 (0.010382) with: {'activation': 'relu', 'optimizer': 'RMSprop'}\n",
            "-0.031414 (0.022659) with: {'activation': 'relu', 'optimizer': 'Adagrad'}\n",
            "-0.018727 (0.012199) with: {'activation': 'softplus', 'optimizer': 'SGD'}\n",
            "-0.013771 (0.007963) with: {'activation': 'softplus', 'optimizer': 'RMSprop'}\n",
            "-0.182238 (0.244567) with: {'activation': 'softplus', 'optimizer': 'Adagrad'}\n"
          ],
          "name": "stdout"
        }
      ]
    }
  ]
}