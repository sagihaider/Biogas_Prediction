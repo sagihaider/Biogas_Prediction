{
  "nbformat": 4,
  "nbformat_minor": 0,
  "metadata": {
    "colab": {
      "name": "DeepLearning_MISO.ipynb",
      "provenance": [],
      "authorship_tag": "ABX9TyNSp4f8BuDpYV0h4FdXUoyH",
      "include_colab_link": true
    },
    "kernelspec": {
      "name": "python3",
      "display_name": "Python 3"
    },
    "accelerator": "GPU"
  },
  "cells": [
    {
      "cell_type": "markdown",
      "metadata": {
        "id": "view-in-github",
        "colab_type": "text"
      },
      "source": [
        "<a href=\"https://colab.research.google.com/github/sagihaider/Biogas_Prediction/blob/master/DeepLearning_MISO.ipynb\" target=\"_parent\"><img src=\"https://colab.research.google.com/assets/colab-badge.svg\" alt=\"Open In Colab\"/></a>"
      ]
    },
    {
      "cell_type": "code",
      "metadata": {
        "colab": {
          "base_uri": "https://localhost:8080/"
        },
        "id": "A6IJ4D2S_b3j",
        "outputId": "f618b469-138d-4b7b-d99a-71ea88cdc1c7"
      },
      "source": [
        "!git clone https://github.com/sagihaider/Biogas_Prediction.git "
      ],
      "execution_count": 1,
      "outputs": [
        {
          "output_type": "stream",
          "text": [
            "Cloning into 'Biogas_Prediction'...\n",
            "remote: Enumerating objects: 49, done.\u001b[K\n",
            "remote: Counting objects: 100% (49/49), done.\u001b[K\n",
            "remote: Compressing objects: 100% (48/48), done.\u001b[K\n",
            "remote: Total 324 (delta 1), reused 46 (delta 1), pack-reused 275\u001b[K\n",
            "Receiving objects: 100% (324/324), 72.29 MiB | 22.64 MiB/s, done.\n",
            "Resolving deltas: 100% (49/49), done.\n"
          ],
          "name": "stdout"
        }
      ]
    },
    {
      "cell_type": "code",
      "metadata": {
        "id": "2znigTD__rSG"
      },
      "source": [
        "import pandas as pd\n",
        "import numpy as np"
      ],
      "execution_count": 2,
      "outputs": []
    },
    {
      "cell_type": "code",
      "metadata": {
        "colab": {
          "base_uri": "https://localhost:8080/",
          "height": 255
        },
        "id": "59umuebs_wUj",
        "outputId": "b9cbda4c-ad0b-4515-a512-64eedffb5b77"
      },
      "source": [
        "data = pd.read_excel('/content/Biogas_Prediction/Data/Gasification Data_Daya.xlsx', index_col=0, header=0)\n",
        "data = data.iloc[1:223,:14] \n",
        "display(list(data.columns.values))"
      ],
      "execution_count": 4,
      "outputs": [
        {
          "output_type": "display_data",
          "data": {
            "text/plain": [
              "['C [%wt db]',\n",
              " 'H [%wt db]',\n",
              " 'O [%wt db]',\n",
              " 'Moisture [%wt]',\n",
              " 'Ash [%wt db]',\n",
              " 'ER [-]',\n",
              " 'T [ºC]',\n",
              " 'Bed material',\n",
              " 'Steam/Biomass',\n",
              " 'H2 [%vol N2 free]',\n",
              " 'CO [%vol N2 free]',\n",
              " 'CO2 [%vol N2 free]',\n",
              " 'CH4 [%vol N2 free]',\n",
              " 'GY [Nm3/kg daf]']"
            ]
          },
          "metadata": {
            "tags": []
          }
        }
      ]
    },
    {
      "cell_type": "code",
      "metadata": {
        "colab": {
          "base_uri": "https://localhost:8080/"
        },
        "id": "egP1aM5__5T8",
        "outputId": "60860c5b-b066-40b7-a9e5-a79c69464fdb"
      },
      "source": [
        "# Drop null balues and store dataframe in dataframe 2\n",
        "data=data.dropna()\n",
        "print(data)\n",
        "\n",
        "#Check Null values again after removing\n",
        "print(data.isnull().values.any())\n",
        "print(data.isna().values.any())\n",
        "\n",
        "X = data.iloc[:, :9]\n",
        "y = data.iloc[:, 9:]"
      ],
      "execution_count": 5,
      "outputs": [
        {
          "output_type": "stream",
          "text": [
            "        C [%wt db] H [%wt db]  ...  CH4 [%vol N2 free] GY [Nm3/kg daf]\n",
            "Sr No.                         ...                                    \n",
            "2            50.00        5.7  ...            6.474820        2.500000\n",
            "3            50.00        5.7  ...            7.164179        2.500000\n",
            "4            50.00        5.7  ...            6.474820        2.100000\n",
            "5            50.00        5.7  ...            6.474820        2.400000\n",
            "6            50.00        5.7  ...            8.181818        2.100000\n",
            "...            ...        ...  ...                 ...             ...\n",
            "219          46.85        6.3  ...            9.706147        0.947532\n",
            "220          46.85        6.3  ...            9.455065        0.975752\n",
            "221          46.76       5.68  ...            9.933682        0.971784\n",
            "222          46.76       5.68  ...            8.778402        0.982989\n",
            "223          46.76       5.68  ...            8.534014        0.973816\n",
            "\n",
            "[187 rows x 14 columns]\n",
            "False\n",
            "False\n"
          ],
          "name": "stdout"
        }
      ]
    },
    {
      "cell_type": "code",
      "metadata": {
        "colab": {
          "base_uri": "https://localhost:8080/"
        },
        "id": "7_ZwSMVEAArd",
        "outputId": "05e2fa81-4cbc-4c4b-eace-35b29d3d456b"
      },
      "source": [
        "from sklearn.preprocessing import normalize\n",
        "input_columns = list(X.columns.values)\n",
        "input_columns = [i.split(' [', 1)[0] for i in input_columns]\n",
        "output_columns = list(y.columns.values)\n",
        "output_columns = [i.split(' [', 1)[0] for i in output_columns]\n",
        "print(input_columns, output_columns)\n",
        "\n",
        "Xnorm = normalize(X, 'l2', axis=1)\n",
        "ynorm = normalize(y, 'l2', axis=1)\n"
      ],
      "execution_count": 7,
      "outputs": [
        {
          "output_type": "stream",
          "text": [
            "['C', 'H', 'O', 'Moisture', 'Ash', 'ER', 'T', 'Bed material', 'Steam/Biomass'] ['H2', 'CO', 'CO2', 'CH4', 'GY']\n"
          ],
          "name": "stdout"
        }
      ]
    },
    {
      "cell_type": "code",
      "metadata": {
        "id": "cXnSyFGkAtAf"
      },
      "source": [
        "y = ynorm[:,1]"
      ],
      "execution_count": 8,
      "outputs": []
    },
    {
      "cell_type": "code",
      "metadata": {
        "colab": {
          "base_uri": "https://localhost:8080/"
        },
        "id": "Q4iCQdGmANe9",
        "outputId": "dc6d13c5-4712-4b67-bb8a-59bd32e31631"
      },
      "source": [
        "from keras.models import Sequential\n",
        "from keras.layers import Dense\n",
        "\n",
        "# define the keras model\n",
        "model = Sequential()\n",
        "model.add(Dense(12, input_dim=9, activation='relu'))\n",
        "model.add(Dense(8, activation='relu'))\n",
        "model.add(Dense(1, activation='sigmoid'))\n",
        "\n",
        "# compile the keras model\n",
        "model.compile(loss='binary_crossentropy', \n",
        "              optimizer='adam', \n",
        "              metrics=['accuracy'])\n",
        "\n",
        "history =  model.fit(Xnorm, y, epochs=150, batch_size=10)"
      ],
      "execution_count": 15,
      "outputs": [
        {
          "output_type": "stream",
          "text": [
            "Epoch 1/150\n",
            "19/19 [==============================] - 1s 3ms/step - loss: 0.6972 - accuracy: 0.0000e+00\n",
            "Epoch 2/150\n",
            "19/19 [==============================] - 0s 3ms/step - loss: 0.6913 - accuracy: 0.0000e+00\n",
            "Epoch 3/150\n",
            "19/19 [==============================] - 0s 3ms/step - loss: 0.6889 - accuracy: 0.0000e+00\n",
            "Epoch 4/150\n",
            "19/19 [==============================] - 0s 3ms/step - loss: 0.6889 - accuracy: 0.0000e+00\n",
            "Epoch 5/150\n",
            "19/19 [==============================] - 0s 3ms/step - loss: 0.6919 - accuracy: 0.0000e+00\n",
            "Epoch 6/150\n",
            "19/19 [==============================] - 0s 3ms/step - loss: 0.6871 - accuracy: 0.0000e+00\n",
            "Epoch 7/150\n",
            "19/19 [==============================] - 0s 3ms/step - loss: 0.6872 - accuracy: 0.0000e+00\n",
            "Epoch 8/150\n",
            "19/19 [==============================] - 0s 3ms/step - loss: 0.6863 - accuracy: 0.0000e+00\n",
            "Epoch 9/150\n",
            "19/19 [==============================] - 0s 3ms/step - loss: 0.6892 - accuracy: 0.0000e+00\n",
            "Epoch 10/150\n",
            "19/19 [==============================] - 0s 3ms/step - loss: 0.6874 - accuracy: 0.0000e+00\n",
            "Epoch 11/150\n",
            "19/19 [==============================] - 0s 3ms/step - loss: 0.6863 - accuracy: 0.0000e+00\n",
            "Epoch 12/150\n",
            "19/19 [==============================] - 0s 3ms/step - loss: 0.6860 - accuracy: 0.0000e+00\n",
            "Epoch 13/150\n",
            "19/19 [==============================] - 0s 3ms/step - loss: 0.6886 - accuracy: 0.0000e+00\n",
            "Epoch 14/150\n",
            "19/19 [==============================] - 0s 3ms/step - loss: 0.6887 - accuracy: 0.0000e+00\n",
            "Epoch 15/150\n",
            "19/19 [==============================] - 0s 3ms/step - loss: 0.6897 - accuracy: 0.0000e+00\n",
            "Epoch 16/150\n",
            "19/19 [==============================] - 0s 3ms/step - loss: 0.6883 - accuracy: 0.0000e+00\n",
            "Epoch 17/150\n",
            "19/19 [==============================] - 0s 3ms/step - loss: 0.6887 - accuracy: 0.0000e+00\n",
            "Epoch 18/150\n",
            "19/19 [==============================] - 0s 3ms/step - loss: 0.6894 - accuracy: 0.0000e+00\n",
            "Epoch 19/150\n",
            "19/19 [==============================] - 0s 3ms/step - loss: 0.6871 - accuracy: 0.0000e+00\n",
            "Epoch 20/150\n",
            "19/19 [==============================] - 0s 3ms/step - loss: 0.6861 - accuracy: 0.0000e+00\n",
            "Epoch 21/150\n",
            "19/19 [==============================] - 0s 4ms/step - loss: 0.6872 - accuracy: 0.0000e+00\n",
            "Epoch 22/150\n",
            "19/19 [==============================] - 0s 3ms/step - loss: 0.6876 - accuracy: 0.0000e+00\n",
            "Epoch 23/150\n",
            "19/19 [==============================] - 0s 3ms/step - loss: 0.6876 - accuracy: 0.0000e+00\n",
            "Epoch 24/150\n",
            "19/19 [==============================] - 0s 3ms/step - loss: 0.6881 - accuracy: 0.0000e+00\n",
            "Epoch 25/150\n",
            "19/19 [==============================] - 0s 3ms/step - loss: 0.6871 - accuracy: 0.0000e+00\n",
            "Epoch 26/150\n",
            "19/19 [==============================] - 0s 3ms/step - loss: 0.6857 - accuracy: 0.0000e+00\n",
            "Epoch 27/150\n",
            "19/19 [==============================] - 0s 3ms/step - loss: 0.6865 - accuracy: 0.0000e+00\n",
            "Epoch 28/150\n",
            "19/19 [==============================] - 0s 3ms/step - loss: 0.6871 - accuracy: 0.0000e+00\n",
            "Epoch 29/150\n",
            "19/19 [==============================] - 0s 3ms/step - loss: 0.6869 - accuracy: 0.0000e+00\n",
            "Epoch 30/150\n",
            "19/19 [==============================] - 0s 3ms/step - loss: 0.6865 - accuracy: 0.0000e+00\n",
            "Epoch 31/150\n",
            "19/19 [==============================] - 0s 3ms/step - loss: 0.6878 - accuracy: 0.0000e+00\n",
            "Epoch 32/150\n",
            "19/19 [==============================] - 0s 3ms/step - loss: 0.6851 - accuracy: 0.0000e+00\n",
            "Epoch 33/150\n",
            "19/19 [==============================] - 0s 3ms/step - loss: 0.6870 - accuracy: 0.0000e+00\n",
            "Epoch 34/150\n",
            "19/19 [==============================] - 0s 3ms/step - loss: 0.6862 - accuracy: 0.0000e+00\n",
            "Epoch 35/150\n",
            "19/19 [==============================] - 0s 3ms/step - loss: 0.6865 - accuracy: 0.0000e+00\n",
            "Epoch 36/150\n",
            "19/19 [==============================] - 0s 3ms/step - loss: 0.6859 - accuracy: 0.0000e+00\n",
            "Epoch 37/150\n",
            "19/19 [==============================] - 0s 3ms/step - loss: 0.6857 - accuracy: 0.0000e+00\n",
            "Epoch 38/150\n",
            "19/19 [==============================] - 0s 3ms/step - loss: 0.6866 - accuracy: 0.0000e+00\n",
            "Epoch 39/150\n",
            "19/19 [==============================] - 0s 3ms/step - loss: 0.6873 - accuracy: 0.0000e+00\n",
            "Epoch 40/150\n",
            "19/19 [==============================] - 0s 3ms/step - loss: 0.6843 - accuracy: 0.0000e+00\n",
            "Epoch 41/150\n",
            "19/19 [==============================] - 0s 3ms/step - loss: 0.6863 - accuracy: 0.0000e+00\n",
            "Epoch 42/150\n",
            "19/19 [==============================] - 0s 3ms/step - loss: 0.6874 - accuracy: 0.0000e+00\n",
            "Epoch 43/150\n",
            "19/19 [==============================] - 0s 3ms/step - loss: 0.6880 - accuracy: 0.0000e+00\n",
            "Epoch 44/150\n",
            "19/19 [==============================] - 0s 3ms/step - loss: 0.6843 - accuracy: 0.0000e+00\n",
            "Epoch 45/150\n",
            "19/19 [==============================] - 0s 3ms/step - loss: 0.6869 - accuracy: 0.0000e+00\n",
            "Epoch 46/150\n",
            "19/19 [==============================] - 0s 3ms/step - loss: 0.6862 - accuracy: 0.0000e+00\n",
            "Epoch 47/150\n",
            "19/19 [==============================] - 0s 3ms/step - loss: 0.6857 - accuracy: 0.0000e+00\n",
            "Epoch 48/150\n",
            "19/19 [==============================] - 0s 3ms/step - loss: 0.6868 - accuracy: 0.0000e+00\n",
            "Epoch 49/150\n",
            "19/19 [==============================] - 0s 3ms/step - loss: 0.6844 - accuracy: 0.0000e+00\n",
            "Epoch 50/150\n",
            "19/19 [==============================] - 0s 3ms/step - loss: 0.6818 - accuracy: 0.0000e+00\n",
            "Epoch 51/150\n",
            "19/19 [==============================] - 0s 3ms/step - loss: 0.6845 - accuracy: 0.0000e+00\n",
            "Epoch 52/150\n",
            "19/19 [==============================] - 0s 3ms/step - loss: 0.6866 - accuracy: 0.0000e+00\n",
            "Epoch 53/150\n",
            "19/19 [==============================] - 0s 3ms/step - loss: 0.6840 - accuracy: 0.0000e+00\n",
            "Epoch 54/150\n",
            "19/19 [==============================] - 0s 4ms/step - loss: 0.6837 - accuracy: 0.0000e+00\n",
            "Epoch 55/150\n",
            "19/19 [==============================] - 0s 3ms/step - loss: 0.6817 - accuracy: 0.0000e+00\n",
            "Epoch 56/150\n",
            "19/19 [==============================] - 0s 3ms/step - loss: 0.6850 - accuracy: 0.0000e+00\n",
            "Epoch 57/150\n",
            "19/19 [==============================] - 0s 3ms/step - loss: 0.6831 - accuracy: 0.0000e+00\n",
            "Epoch 58/150\n",
            "19/19 [==============================] - 0s 3ms/step - loss: 0.6838 - accuracy: 0.0000e+00\n",
            "Epoch 59/150\n",
            "19/19 [==============================] - 0s 3ms/step - loss: 0.6856 - accuracy: 0.0000e+00\n",
            "Epoch 60/150\n",
            "19/19 [==============================] - 0s 3ms/step - loss: 0.6826 - accuracy: 0.0000e+00\n",
            "Epoch 61/150\n",
            "19/19 [==============================] - 0s 3ms/step - loss: 0.6801 - accuracy: 0.0000e+00\n",
            "Epoch 62/150\n",
            "19/19 [==============================] - 0s 3ms/step - loss: 0.6839 - accuracy: 0.0000e+00\n",
            "Epoch 63/150\n",
            "19/19 [==============================] - 0s 3ms/step - loss: 0.6819 - accuracy: 0.0000e+00\n",
            "Epoch 64/150\n",
            "19/19 [==============================] - 0s 3ms/step - loss: 0.6825 - accuracy: 0.0000e+00\n",
            "Epoch 65/150\n",
            "19/19 [==============================] - 0s 3ms/step - loss: 0.6809 - accuracy: 0.0000e+00\n",
            "Epoch 66/150\n",
            "19/19 [==============================] - 0s 3ms/step - loss: 0.6811 - accuracy: 0.0000e+00\n",
            "Epoch 67/150\n",
            "19/19 [==============================] - 0s 3ms/step - loss: 0.6819 - accuracy: 0.0000e+00\n",
            "Epoch 68/150\n",
            "19/19 [==============================] - 0s 3ms/step - loss: 0.6820 - accuracy: 0.0000e+00\n",
            "Epoch 69/150\n",
            "19/19 [==============================] - 0s 4ms/step - loss: 0.6792 - accuracy: 0.0000e+00\n",
            "Epoch 70/150\n",
            "19/19 [==============================] - 0s 3ms/step - loss: 0.6837 - accuracy: 0.0000e+00\n",
            "Epoch 71/150\n",
            "19/19 [==============================] - 0s 3ms/step - loss: 0.6778 - accuracy: 0.0000e+00\n",
            "Epoch 72/150\n",
            "19/19 [==============================] - 0s 3ms/step - loss: 0.6817 - accuracy: 0.0000e+00\n",
            "Epoch 73/150\n",
            "19/19 [==============================] - 0s 3ms/step - loss: 0.6807 - accuracy: 0.0000e+00\n",
            "Epoch 74/150\n",
            "19/19 [==============================] - 0s 3ms/step - loss: 0.6821 - accuracy: 0.0000e+00\n",
            "Epoch 75/150\n",
            "19/19 [==============================] - 0s 3ms/step - loss: 0.6816 - accuracy: 0.0000e+00\n",
            "Epoch 76/150\n",
            "19/19 [==============================] - 0s 3ms/step - loss: 0.6810 - accuracy: 0.0000e+00\n",
            "Epoch 77/150\n",
            "19/19 [==============================] - 0s 3ms/step - loss: 0.6815 - accuracy: 0.0000e+00\n",
            "Epoch 78/150\n",
            "19/19 [==============================] - 0s 3ms/step - loss: 0.6808 - accuracy: 0.0000e+00\n",
            "Epoch 79/150\n",
            "19/19 [==============================] - 0s 3ms/step - loss: 0.6802 - accuracy: 0.0000e+00\n",
            "Epoch 80/150\n",
            "19/19 [==============================] - 0s 3ms/step - loss: 0.6816 - accuracy: 0.0000e+00\n",
            "Epoch 81/150\n",
            "19/19 [==============================] - 0s 3ms/step - loss: 0.6795 - accuracy: 0.0000e+00\n",
            "Epoch 82/150\n",
            "19/19 [==============================] - 0s 3ms/step - loss: 0.6802 - accuracy: 0.0000e+00\n",
            "Epoch 83/150\n",
            "19/19 [==============================] - 0s 4ms/step - loss: 0.6801 - accuracy: 0.0000e+00\n",
            "Epoch 84/150\n",
            "19/19 [==============================] - 0s 3ms/step - loss: 0.6787 - accuracy: 0.0000e+00\n",
            "Epoch 85/150\n",
            "19/19 [==============================] - 0s 3ms/step - loss: 0.6769 - accuracy: 0.0000e+00\n",
            "Epoch 86/150\n",
            "19/19 [==============================] - 0s 3ms/step - loss: 0.6793 - accuracy: 0.0000e+00\n",
            "Epoch 87/150\n",
            "19/19 [==============================] - 0s 3ms/step - loss: 0.6777 - accuracy: 0.0000e+00\n",
            "Epoch 88/150\n",
            "19/19 [==============================] - 0s 3ms/step - loss: 0.6808 - accuracy: 0.0000e+00\n",
            "Epoch 89/150\n",
            "19/19 [==============================] - 0s 3ms/step - loss: 0.6793 - accuracy: 0.0000e+00\n",
            "Epoch 90/150\n",
            "19/19 [==============================] - 0s 3ms/step - loss: 0.6763 - accuracy: 0.0000e+00\n",
            "Epoch 91/150\n",
            "19/19 [==============================] - 0s 3ms/step - loss: 0.6788 - accuracy: 0.0000e+00\n",
            "Epoch 92/150\n",
            "19/19 [==============================] - 0s 3ms/step - loss: 0.6794 - accuracy: 0.0000e+00\n",
            "Epoch 93/150\n",
            "19/19 [==============================] - 0s 3ms/step - loss: 0.6778 - accuracy: 0.0000e+00\n",
            "Epoch 94/150\n",
            "19/19 [==============================] - 0s 3ms/step - loss: 0.6822 - accuracy: 0.0000e+00\n",
            "Epoch 95/150\n",
            "19/19 [==============================] - 0s 3ms/step - loss: 0.6778 - accuracy: 0.0000e+00\n",
            "Epoch 96/150\n",
            "19/19 [==============================] - 0s 3ms/step - loss: 0.6782 - accuracy: 0.0000e+00\n",
            "Epoch 97/150\n",
            "19/19 [==============================] - 0s 3ms/step - loss: 0.6770 - accuracy: 0.0000e+00\n",
            "Epoch 98/150\n",
            "19/19 [==============================] - 0s 3ms/step - loss: 0.6787 - accuracy: 0.0000e+00\n",
            "Epoch 99/150\n",
            "19/19 [==============================] - 0s 3ms/step - loss: 0.6793 - accuracy: 0.0000e+00\n",
            "Epoch 100/150\n",
            "19/19 [==============================] - 0s 3ms/step - loss: 0.6804 - accuracy: 0.0000e+00\n",
            "Epoch 101/150\n",
            "19/19 [==============================] - 0s 4ms/step - loss: 0.6762 - accuracy: 0.0000e+00\n",
            "Epoch 102/150\n",
            "19/19 [==============================] - 0s 3ms/step - loss: 0.6778 - accuracy: 0.0000e+00\n",
            "Epoch 103/150\n",
            "19/19 [==============================] - 0s 4ms/step - loss: 0.6823 - accuracy: 0.0000e+00\n",
            "Epoch 104/150\n",
            "19/19 [==============================] - 0s 3ms/step - loss: 0.6780 - accuracy: 0.0000e+00\n",
            "Epoch 105/150\n",
            "19/19 [==============================] - 0s 3ms/step - loss: 0.6768 - accuracy: 0.0000e+00\n",
            "Epoch 106/150\n",
            "19/19 [==============================] - 0s 3ms/step - loss: 0.6766 - accuracy: 0.0000e+00\n",
            "Epoch 107/150\n",
            "19/19 [==============================] - 0s 3ms/step - loss: 0.6779 - accuracy: 0.0000e+00\n",
            "Epoch 108/150\n",
            "19/19 [==============================] - 0s 3ms/step - loss: 0.6796 - accuracy: 0.0000e+00\n",
            "Epoch 109/150\n",
            "19/19 [==============================] - 0s 3ms/step - loss: 0.6802 - accuracy: 0.0000e+00\n",
            "Epoch 110/150\n",
            "19/19 [==============================] - 0s 4ms/step - loss: 0.6811 - accuracy: 0.0000e+00\n",
            "Epoch 111/150\n",
            "19/19 [==============================] - 0s 3ms/step - loss: 0.6768 - accuracy: 0.0000e+00\n",
            "Epoch 112/150\n",
            "19/19 [==============================] - 0s 3ms/step - loss: 0.6778 - accuracy: 0.0000e+00\n",
            "Epoch 113/150\n",
            "19/19 [==============================] - 0s 3ms/step - loss: 0.6812 - accuracy: 0.0000e+00\n",
            "Epoch 114/150\n",
            "19/19 [==============================] - 0s 3ms/step - loss: 0.6779 - accuracy: 0.0000e+00\n",
            "Epoch 115/150\n",
            "19/19 [==============================] - 0s 3ms/step - loss: 0.6786 - accuracy: 0.0000e+00\n",
            "Epoch 116/150\n",
            "19/19 [==============================] - 0s 3ms/step - loss: 0.6777 - accuracy: 0.0000e+00\n",
            "Epoch 117/150\n",
            "19/19 [==============================] - 0s 3ms/step - loss: 0.6749 - accuracy: 0.0000e+00\n",
            "Epoch 118/150\n",
            "19/19 [==============================] - 0s 3ms/step - loss: 0.6801 - accuracy: 0.0000e+00\n",
            "Epoch 119/150\n",
            "19/19 [==============================] - 0s 3ms/step - loss: 0.6769 - accuracy: 0.0000e+00\n",
            "Epoch 120/150\n",
            "19/19 [==============================] - 0s 3ms/step - loss: 0.6744 - accuracy: 0.0000e+00\n",
            "Epoch 121/150\n",
            "19/19 [==============================] - 0s 3ms/step - loss: 0.6762 - accuracy: 0.0000e+00\n",
            "Epoch 122/150\n",
            "19/19 [==============================] - 0s 3ms/step - loss: 0.6746 - accuracy: 0.0000e+00\n",
            "Epoch 123/150\n",
            "19/19 [==============================] - 0s 3ms/step - loss: 0.6796 - accuracy: 0.0000e+00\n",
            "Epoch 124/150\n",
            "19/19 [==============================] - 0s 4ms/step - loss: 0.6749 - accuracy: 0.0000e+00\n",
            "Epoch 125/150\n",
            "19/19 [==============================] - 0s 3ms/step - loss: 0.6790 - accuracy: 0.0000e+00\n",
            "Epoch 126/150\n",
            "19/19 [==============================] - 0s 3ms/step - loss: 0.6762 - accuracy: 0.0000e+00\n",
            "Epoch 127/150\n",
            "19/19 [==============================] - 0s 3ms/step - loss: 0.6782 - accuracy: 0.0000e+00\n",
            "Epoch 128/150\n",
            "19/19 [==============================] - 0s 3ms/step - loss: 0.6792 - accuracy: 0.0000e+00\n",
            "Epoch 129/150\n",
            "19/19 [==============================] - 0s 3ms/step - loss: 0.6811 - accuracy: 0.0000e+00\n",
            "Epoch 130/150\n",
            "19/19 [==============================] - 0s 3ms/step - loss: 0.6793 - accuracy: 0.0000e+00\n",
            "Epoch 131/150\n",
            "19/19 [==============================] - 0s 3ms/step - loss: 0.6822 - accuracy: 0.0000e+00\n",
            "Epoch 132/150\n",
            "19/19 [==============================] - 0s 3ms/step - loss: 0.6785 - accuracy: 0.0000e+00\n",
            "Epoch 133/150\n",
            "19/19 [==============================] - 0s 3ms/step - loss: 0.6788 - accuracy: 0.0000e+00\n",
            "Epoch 134/150\n",
            "19/19 [==============================] - 0s 3ms/step - loss: 0.6754 - accuracy: 0.0000e+00\n",
            "Epoch 135/150\n",
            "19/19 [==============================] - 0s 3ms/step - loss: 0.6748 - accuracy: 0.0000e+00\n",
            "Epoch 136/150\n",
            "19/19 [==============================] - 0s 4ms/step - loss: 0.6809 - accuracy: 0.0000e+00\n",
            "Epoch 137/150\n",
            "19/19 [==============================] - 0s 3ms/step - loss: 0.6792 - accuracy: 0.0000e+00\n",
            "Epoch 138/150\n",
            "19/19 [==============================] - 0s 3ms/step - loss: 0.6782 - accuracy: 0.0000e+00\n",
            "Epoch 139/150\n",
            "19/19 [==============================] - 0s 3ms/step - loss: 0.6778 - accuracy: 0.0000e+00\n",
            "Epoch 140/150\n",
            "19/19 [==============================] - 0s 3ms/step - loss: 0.6758 - accuracy: 0.0000e+00\n",
            "Epoch 141/150\n",
            "19/19 [==============================] - 0s 3ms/step - loss: 0.6765 - accuracy: 0.0000e+00\n",
            "Epoch 142/150\n",
            "19/19 [==============================] - 0s 3ms/step - loss: 0.6779 - accuracy: 0.0000e+00\n",
            "Epoch 143/150\n",
            "19/19 [==============================] - 0s 3ms/step - loss: 0.6795 - accuracy: 0.0000e+00\n",
            "Epoch 144/150\n",
            "19/19 [==============================] - 0s 4ms/step - loss: 0.6775 - accuracy: 0.0000e+00\n",
            "Epoch 145/150\n",
            "19/19 [==============================] - 0s 3ms/step - loss: 0.6775 - accuracy: 0.0000e+00\n",
            "Epoch 146/150\n",
            "19/19 [==============================] - 0s 3ms/step - loss: 0.6725 - accuracy: 0.0000e+00\n",
            "Epoch 147/150\n",
            "19/19 [==============================] - 0s 3ms/step - loss: 0.6764 - accuracy: 0.0000e+00\n",
            "Epoch 148/150\n",
            "19/19 [==============================] - 0s 4ms/step - loss: 0.6786 - accuracy: 0.0000e+00\n",
            "Epoch 149/150\n",
            "19/19 [==============================] - 0s 3ms/step - loss: 0.6782 - accuracy: 0.0000e+00\n",
            "Epoch 150/150\n",
            "19/19 [==============================] - 0s 3ms/step - loss: 0.6801 - accuracy: 0.0000e+00\n"
          ],
          "name": "stdout"
        }
      ]
    },
    {
      "cell_type": "code",
      "metadata": {
        "colab": {
          "base_uri": "https://localhost:8080/",
          "height": 232
        },
        "id": "2iimrN_8CIXM",
        "outputId": "509a2d0c-63c3-472e-d39d-4929e772ecf7"
      },
      "source": [
        "# summarize history for accuracy\n",
        "import matplotlib.pyplot as plt\n",
        "plt.plot(hist.hist['accuracy'])\n",
        "plt.title('model accuracy')\n",
        "plt.ylabel('accuracy')\n",
        "plt.xlabel('epoch')\n",
        "plt.legend(['train', 'test'], loc='upper left')\n",
        "plt.show()"
      ],
      "execution_count": 16,
      "outputs": [
        {
          "output_type": "error",
          "ename": "AttributeError",
          "evalue": "ignored",
          "traceback": [
            "\u001b[0;31m---------------------------------------------------------------------------\u001b[0m",
            "\u001b[0;31mAttributeError\u001b[0m                            Traceback (most recent call last)",
            "\u001b[0;32m<ipython-input-16-4268af22e094>\u001b[0m in \u001b[0;36m<module>\u001b[0;34m()\u001b[0m\n\u001b[1;32m      1\u001b[0m \u001b[0;31m# summarize history for accuracy\u001b[0m\u001b[0;34m\u001b[0m\u001b[0;34m\u001b[0m\u001b[0;34m\u001b[0m\u001b[0m\n\u001b[1;32m      2\u001b[0m \u001b[0;32mimport\u001b[0m \u001b[0mmatplotlib\u001b[0m\u001b[0;34m.\u001b[0m\u001b[0mpyplot\u001b[0m \u001b[0;32mas\u001b[0m \u001b[0mplt\u001b[0m\u001b[0;34m\u001b[0m\u001b[0;34m\u001b[0m\u001b[0m\n\u001b[0;32m----> 3\u001b[0;31m \u001b[0mplt\u001b[0m\u001b[0;34m.\u001b[0m\u001b[0mplot\u001b[0m\u001b[0;34m(\u001b[0m\u001b[0mhist\u001b[0m\u001b[0;34m.\u001b[0m\u001b[0mhist\u001b[0m\u001b[0;34m[\u001b[0m\u001b[0;34m'accuracy'\u001b[0m\u001b[0;34m]\u001b[0m\u001b[0;34m)\u001b[0m\u001b[0;34m\u001b[0m\u001b[0;34m\u001b[0m\u001b[0m\n\u001b[0m\u001b[1;32m      4\u001b[0m \u001b[0mplt\u001b[0m\u001b[0;34m.\u001b[0m\u001b[0mtitle\u001b[0m\u001b[0;34m(\u001b[0m\u001b[0;34m'model accuracy'\u001b[0m\u001b[0;34m)\u001b[0m\u001b[0;34m\u001b[0m\u001b[0;34m\u001b[0m\u001b[0m\n\u001b[1;32m      5\u001b[0m \u001b[0mplt\u001b[0m\u001b[0;34m.\u001b[0m\u001b[0mylabel\u001b[0m\u001b[0;34m(\u001b[0m\u001b[0;34m'accuracy'\u001b[0m\u001b[0;34m)\u001b[0m\u001b[0;34m\u001b[0m\u001b[0;34m\u001b[0m\u001b[0m\n",
            "\u001b[0;31mAttributeError\u001b[0m: 'History' object has no attribute 'hist'"
          ]
        }
      ]
    }
  ]
}