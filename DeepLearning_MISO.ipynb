{
  "nbformat": 4,
  "nbformat_minor": 0,
  "metadata": {
    "colab": {
      "name": "DeepLearning_MISO.ipynb",
      "provenance": [],
      "authorship_tag": "ABX9TyPF8MwQFveBCsUpWF33KPnP",
      "include_colab_link": true
    },
    "kernelspec": {
      "name": "python3",
      "display_name": "Python 3"
    },
    "accelerator": "GPU"
  },
  "cells": [
    {
      "cell_type": "markdown",
      "metadata": {
        "id": "view-in-github",
        "colab_type": "text"
      },
      "source": [
        "<a href=\"https://colab.research.google.com/github/sagihaider/Biogas_Prediction/blob/master/DeepLearning_MISO.ipynb\" target=\"_parent\"><img src=\"https://colab.research.google.com/assets/colab-badge.svg\" alt=\"Open In Colab\"/></a>"
      ]
    },
    {
      "cell_type": "code",
      "metadata": {
        "colab": {
          "base_uri": "https://localhost:8080/"
        },
        "id": "A6IJ4D2S_b3j",
        "outputId": "54d5ee4a-ca2e-4451-fabb-41c60761be7f"
      },
      "source": [
        "!git clone https://github.com/sagihaider/Biogas_Prediction.git \n",
        "\n",
        "import pandas as pd\n",
        "import numpy as np"
      ],
      "execution_count": 1,
      "outputs": [
        {
          "output_type": "stream",
          "text": [
            "Cloning into 'Biogas_Prediction'...\n",
            "remote: Enumerating objects: 52, done.\u001b[K\n",
            "remote: Counting objects: 100% (52/52), done.\u001b[K\n",
            "remote: Compressing objects: 100% (51/51), done.\u001b[K\n",
            "remote: Total 327 (delta 2), reused 46 (delta 1), pack-reused 275\u001b[K\n",
            "Receiving objects: 100% (327/327), 72.29 MiB | 35.10 MiB/s, done.\n",
            "Resolving deltas: 100% (50/50), done.\n"
          ],
          "name": "stdout"
        }
      ]
    },
    {
      "cell_type": "code",
      "metadata": {
        "colab": {
          "base_uri": "https://localhost:8080/",
          "height": 255
        },
        "id": "59umuebs_wUj",
        "outputId": "4a6c775b-c2a2-4b92-aac6-6223cf711d02"
      },
      "source": [
        "data = pd.read_excel('/content/Biogas_Prediction/Data/Gasification Data_Daya.xlsx', index_col=0, header=0)\n",
        "data = data.iloc[1:223,:14] \n",
        "display(list(data.columns.values))"
      ],
      "execution_count": 4,
      "outputs": [
        {
          "output_type": "display_data",
          "data": {
            "text/plain": [
              "['C [%wt db]',\n",
              " 'H [%wt db]',\n",
              " 'O [%wt db]',\n",
              " 'Moisture [%wt]',\n",
              " 'Ash [%wt db]',\n",
              " 'ER [-]',\n",
              " 'T [ºC]',\n",
              " 'Bed material',\n",
              " 'Steam/Biomass',\n",
              " 'H2 [%vol N2 free]',\n",
              " 'CO [%vol N2 free]',\n",
              " 'CO2 [%vol N2 free]',\n",
              " 'CH4 [%vol N2 free]',\n",
              " 'GY [Nm3/kg daf]']"
            ]
          },
          "metadata": {
            "tags": []
          }
        }
      ]
    },
    {
      "cell_type": "code",
      "metadata": {
        "colab": {
          "base_uri": "https://localhost:8080/"
        },
        "id": "egP1aM5__5T8",
        "outputId": "7d0d07ad-fe73-4242-9cc5-72c0c9b6f1db"
      },
      "source": [
        "# Drop null balues and store dataframe in dataframe 2\n",
        "data=data.dropna()\n",
        "print(data)\n",
        "\n",
        "#Check Null values again after removing\n",
        "print(data.isnull().values.any())\n",
        "print(data.isna().values.any())\n",
        "\n",
        "X_all = data.iloc[:, :9]\n",
        "y_all = data.iloc[:, 9:]"
      ],
      "execution_count": 5,
      "outputs": [
        {
          "output_type": "stream",
          "text": [
            "        C [%wt db] H [%wt db]  ...  CH4 [%vol N2 free] GY [Nm3/kg daf]\n",
            "Sr No.                         ...                                    \n",
            "2            50.00        5.7  ...            6.474820        2.500000\n",
            "3            50.00        5.7  ...            7.164179        2.500000\n",
            "4            50.00        5.7  ...            6.474820        2.100000\n",
            "5            50.00        5.7  ...            6.474820        2.400000\n",
            "6            50.00        5.7  ...            8.181818        2.100000\n",
            "...            ...        ...  ...                 ...             ...\n",
            "219          46.85        6.3  ...            9.706147        0.947532\n",
            "220          46.85        6.3  ...            9.455065        0.975752\n",
            "221          46.76       5.68  ...            9.933682        0.971784\n",
            "222          46.76       5.68  ...            8.778402        0.982989\n",
            "223          46.76       5.68  ...            8.534014        0.973816\n",
            "\n",
            "[187 rows x 14 columns]\n",
            "False\n",
            "False\n"
          ],
          "name": "stdout"
        }
      ]
    },
    {
      "cell_type": "code",
      "metadata": {
        "colab": {
          "base_uri": "https://localhost:8080/"
        },
        "id": "7_ZwSMVEAArd",
        "outputId": "7138fe37-4f79-45b3-9296-cf14ca495e09"
      },
      "source": [
        "from sklearn.preprocessing import normalize\n",
        "input_columns = list(X_all.columns.values)\n",
        "input_columns = [i.split(' [', 1)[0] for i in input_columns]\n",
        "output_columns = list(y_all.columns.values)\n",
        "output_columns = [i.split(' [', 1)[0] for i in output_columns]\n",
        "print(input_columns, output_columns)\n",
        "\n",
        "Xnorm = normalize(X_all, 'l2', axis=1)\n",
        "ynorm = normalize(y_all, 'l2', axis=1)\n",
        "\n",
        "# Create MISO\n",
        "X = Xnorm\n",
        "y = ynorm[:,2]"
      ],
      "execution_count": 14,
      "outputs": [
        {
          "output_type": "stream",
          "text": [
            "['C', 'H', 'O', 'Moisture', 'Ash', 'ER', 'T', 'Bed material', 'Steam/Biomass'] ['H2', 'CO', 'CO2', 'CH4', 'GY']\n"
          ],
          "name": "stdout"
        }
      ]
    },
    {
      "cell_type": "code",
      "metadata": {
        "id": "cXnSyFGkAtAf"
      },
      "source": [
        "# X_train, X_test, y_train, y_test = train_test_split(Xnorm, y, test_size=0.33)"
      ],
      "execution_count": null,
      "outputs": []
    },
    {
      "cell_type": "code",
      "metadata": {
        "colab": {
          "base_uri": "https://localhost:8080/"
        },
        "id": "Q4iCQdGmANe9",
        "outputId": "98107327-2ac1-49dc-d660-d5556d44061b"
      },
      "source": [
        "from keras.models import Sequential\n",
        "from keras.layers import Dense\n",
        "\n",
        "# define the keras model\n",
        "model = Sequential()\n",
        "model.add(Dense(12, input_dim=9, activation='relu'))\n",
        "model.add(Dense(8, activation='relu'))\n",
        "model.add(Dense(1, activation='sigmoid'))\n",
        "\n",
        "# compile the keras model\n",
        "model.compile(loss='binary_crossentropy', \n",
        "              optimizer='adam', \n",
        "              metrics=['accuracy'])\n",
        "\n",
        "history =  model.fit(Xnorm, y, epochs=150, batch_size=10, validation_split = 0.2, verbose=1)"
      ],
      "execution_count": 15,
      "outputs": [
        {
          "output_type": "stream",
          "text": [
            "Epoch 1/150\n",
            "15/15 [==============================] - 1s 22ms/step - loss: 0.6669 - accuracy: 0.0000e+00 - val_loss: 0.6353 - val_accuracy: 0.0000e+00\n",
            "Epoch 2/150\n",
            "15/15 [==============================] - 0s 4ms/step - loss: 0.6699 - accuracy: 0.0000e+00 - val_loss: 0.6332 - val_accuracy: 0.0000e+00\n",
            "Epoch 3/150\n",
            "15/15 [==============================] - 0s 5ms/step - loss: 0.6608 - accuracy: 0.0000e+00 - val_loss: 0.6316 - val_accuracy: 0.0000e+00\n",
            "Epoch 4/150\n",
            "15/15 [==============================] - 0s 5ms/step - loss: 0.6530 - accuracy: 0.0000e+00 - val_loss: 0.6308 - val_accuracy: 0.0000e+00\n",
            "Epoch 5/150\n",
            "15/15 [==============================] - 0s 5ms/step - loss: 0.6645 - accuracy: 0.0000e+00 - val_loss: 0.6325 - val_accuracy: 0.0000e+00\n",
            "Epoch 6/150\n",
            "15/15 [==============================] - 0s 4ms/step - loss: 0.6560 - accuracy: 0.0000e+00 - val_loss: 0.6328 - val_accuracy: 0.0000e+00\n",
            "Epoch 7/150\n",
            "15/15 [==============================] - 0s 5ms/step - loss: 0.6580 - accuracy: 0.0000e+00 - val_loss: 0.6328 - val_accuracy: 0.0000e+00\n",
            "Epoch 8/150\n",
            "15/15 [==============================] - 0s 4ms/step - loss: 0.6501 - accuracy: 0.0000e+00 - val_loss: 0.6323 - val_accuracy: 0.0000e+00\n",
            "Epoch 9/150\n",
            "15/15 [==============================] - 0s 5ms/step - loss: 0.6777 - accuracy: 0.0000e+00 - val_loss: 0.6342 - val_accuracy: 0.0000e+00\n",
            "Epoch 10/150\n",
            "15/15 [==============================] - 0s 4ms/step - loss: 0.6690 - accuracy: 0.0000e+00 - val_loss: 0.6322 - val_accuracy: 0.0000e+00\n",
            "Epoch 11/150\n",
            "15/15 [==============================] - 0s 5ms/step - loss: 0.6616 - accuracy: 0.0000e+00 - val_loss: 0.6313 - val_accuracy: 0.0000e+00\n",
            "Epoch 12/150\n",
            "15/15 [==============================] - 0s 5ms/step - loss: 0.6542 - accuracy: 0.0000e+00 - val_loss: 0.6306 - val_accuracy: 0.0000e+00\n",
            "Epoch 13/150\n",
            "15/15 [==============================] - 0s 5ms/step - loss: 0.6598 - accuracy: 0.0000e+00 - val_loss: 0.6313 - val_accuracy: 0.0000e+00\n",
            "Epoch 14/150\n",
            "15/15 [==============================] - 0s 4ms/step - loss: 0.6670 - accuracy: 0.0000e+00 - val_loss: 0.6329 - val_accuracy: 0.0000e+00\n",
            "Epoch 15/150\n",
            "15/15 [==============================] - 0s 4ms/step - loss: 0.6629 - accuracy: 0.0000e+00 - val_loss: 0.6327 - val_accuracy: 0.0000e+00\n",
            "Epoch 16/150\n",
            "15/15 [==============================] - 0s 4ms/step - loss: 0.6570 - accuracy: 0.0000e+00 - val_loss: 0.6311 - val_accuracy: 0.0000e+00\n",
            "Epoch 17/150\n",
            "15/15 [==============================] - 0s 4ms/step - loss: 0.6545 - accuracy: 0.0000e+00 - val_loss: 0.6315 - val_accuracy: 0.0000e+00\n",
            "Epoch 18/150\n",
            "15/15 [==============================] - 0s 4ms/step - loss: 0.6692 - accuracy: 0.0000e+00 - val_loss: 0.6328 - val_accuracy: 0.0000e+00\n",
            "Epoch 19/150\n",
            "15/15 [==============================] - 0s 4ms/step - loss: 0.6590 - accuracy: 0.0000e+00 - val_loss: 0.6319 - val_accuracy: 0.0000e+00\n",
            "Epoch 20/150\n",
            "15/15 [==============================] - 0s 4ms/step - loss: 0.6601 - accuracy: 0.0000e+00 - val_loss: 0.6322 - val_accuracy: 0.0000e+00\n",
            "Epoch 21/150\n",
            "15/15 [==============================] - 0s 5ms/step - loss: 0.6633 - accuracy: 0.0000e+00 - val_loss: 0.6318 - val_accuracy: 0.0000e+00\n",
            "Epoch 22/150\n",
            "15/15 [==============================] - 0s 4ms/step - loss: 0.6707 - accuracy: 0.0000e+00 - val_loss: 0.6316 - val_accuracy: 0.0000e+00\n",
            "Epoch 23/150\n",
            "15/15 [==============================] - 0s 5ms/step - loss: 0.6536 - accuracy: 0.0000e+00 - val_loss: 0.6311 - val_accuracy: 0.0000e+00\n",
            "Epoch 24/150\n",
            "15/15 [==============================] - 0s 4ms/step - loss: 0.6645 - accuracy: 0.0000e+00 - val_loss: 0.6320 - val_accuracy: 0.0000e+00\n",
            "Epoch 25/150\n",
            "15/15 [==============================] - 0s 4ms/step - loss: 0.6597 - accuracy: 0.0000e+00 - val_loss: 0.6318 - val_accuracy: 0.0000e+00\n",
            "Epoch 26/150\n",
            "15/15 [==============================] - 0s 5ms/step - loss: 0.6617 - accuracy: 0.0000e+00 - val_loss: 0.6320 - val_accuracy: 0.0000e+00\n",
            "Epoch 27/150\n",
            "15/15 [==============================] - 0s 4ms/step - loss: 0.6624 - accuracy: 0.0000e+00 - val_loss: 0.6323 - val_accuracy: 0.0000e+00\n",
            "Epoch 28/150\n",
            "15/15 [==============================] - 0s 4ms/step - loss: 0.6492 - accuracy: 0.0000e+00 - val_loss: 0.6302 - val_accuracy: 0.0000e+00\n",
            "Epoch 29/150\n",
            "15/15 [==============================] - 0s 5ms/step - loss: 0.6650 - accuracy: 0.0000e+00 - val_loss: 0.6318 - val_accuracy: 0.0000e+00\n",
            "Epoch 30/150\n",
            "15/15 [==============================] - 0s 5ms/step - loss: 0.6569 - accuracy: 0.0000e+00 - val_loss: 0.6317 - val_accuracy: 0.0000e+00\n",
            "Epoch 31/150\n",
            "15/15 [==============================] - 0s 4ms/step - loss: 0.6620 - accuracy: 0.0000e+00 - val_loss: 0.6315 - val_accuracy: 0.0000e+00\n",
            "Epoch 32/150\n",
            "15/15 [==============================] - 0s 4ms/step - loss: 0.6560 - accuracy: 0.0000e+00 - val_loss: 0.6314 - val_accuracy: 0.0000e+00\n",
            "Epoch 33/150\n",
            "15/15 [==============================] - 0s 4ms/step - loss: 0.6673 - accuracy: 0.0000e+00 - val_loss: 0.6326 - val_accuracy: 0.0000e+00\n",
            "Epoch 34/150\n",
            "15/15 [==============================] - 0s 5ms/step - loss: 0.6687 - accuracy: 0.0000e+00 - val_loss: 0.6320 - val_accuracy: 0.0000e+00\n",
            "Epoch 35/150\n",
            "15/15 [==============================] - 0s 4ms/step - loss: 0.6601 - accuracy: 0.0000e+00 - val_loss: 0.6307 - val_accuracy: 0.0000e+00\n",
            "Epoch 36/150\n",
            "15/15 [==============================] - 0s 4ms/step - loss: 0.6620 - accuracy: 0.0000e+00 - val_loss: 0.6305 - val_accuracy: 0.0000e+00\n",
            "Epoch 37/150\n",
            "15/15 [==============================] - 0s 5ms/step - loss: 0.6565 - accuracy: 0.0000e+00 - val_loss: 0.6311 - val_accuracy: 0.0000e+00\n",
            "Epoch 38/150\n",
            "15/15 [==============================] - 0s 4ms/step - loss: 0.6483 - accuracy: 0.0000e+00 - val_loss: 0.6304 - val_accuracy: 0.0000e+00\n",
            "Epoch 39/150\n",
            "15/15 [==============================] - 0s 4ms/step - loss: 0.6630 - accuracy: 0.0000e+00 - val_loss: 0.6329 - val_accuracy: 0.0000e+00\n",
            "Epoch 40/150\n",
            "15/15 [==============================] - 0s 5ms/step - loss: 0.6626 - accuracy: 0.0000e+00 - val_loss: 0.6320 - val_accuracy: 0.0000e+00\n",
            "Epoch 41/150\n",
            "15/15 [==============================] - 0s 5ms/step - loss: 0.6538 - accuracy: 0.0000e+00 - val_loss: 0.6305 - val_accuracy: 0.0000e+00\n",
            "Epoch 42/150\n",
            "15/15 [==============================] - 0s 5ms/step - loss: 0.6538 - accuracy: 0.0000e+00 - val_loss: 0.6309 - val_accuracy: 0.0000e+00\n",
            "Epoch 43/150\n",
            "15/15 [==============================] - 0s 4ms/step - loss: 0.6626 - accuracy: 0.0000e+00 - val_loss: 0.6318 - val_accuracy: 0.0000e+00\n",
            "Epoch 44/150\n",
            "15/15 [==============================] - 0s 4ms/step - loss: 0.6672 - accuracy: 0.0000e+00 - val_loss: 0.6319 - val_accuracy: 0.0000e+00\n",
            "Epoch 45/150\n",
            "15/15 [==============================] - 0s 5ms/step - loss: 0.6514 - accuracy: 0.0000e+00 - val_loss: 0.6299 - val_accuracy: 0.0000e+00\n",
            "Epoch 46/150\n",
            "15/15 [==============================] - 0s 4ms/step - loss: 0.6581 - accuracy: 0.0000e+00 - val_loss: 0.6311 - val_accuracy: 0.0000e+00\n",
            "Epoch 47/150\n",
            "15/15 [==============================] - 0s 5ms/step - loss: 0.6493 - accuracy: 0.0000e+00 - val_loss: 0.6294 - val_accuracy: 0.0000e+00\n",
            "Epoch 48/150\n",
            "15/15 [==============================] - 0s 4ms/step - loss: 0.6560 - accuracy: 0.0000e+00 - val_loss: 0.6319 - val_accuracy: 0.0000e+00\n",
            "Epoch 49/150\n",
            "15/15 [==============================] - 0s 4ms/step - loss: 0.6563 - accuracy: 0.0000e+00 - val_loss: 0.6307 - val_accuracy: 0.0000e+00\n",
            "Epoch 50/150\n",
            "15/15 [==============================] - 0s 5ms/step - loss: 0.6517 - accuracy: 0.0000e+00 - val_loss: 0.6295 - val_accuracy: 0.0000e+00\n",
            "Epoch 51/150\n",
            "15/15 [==============================] - 0s 5ms/step - loss: 0.6635 - accuracy: 0.0000e+00 - val_loss: 0.6306 - val_accuracy: 0.0000e+00\n",
            "Epoch 52/150\n",
            "15/15 [==============================] - 0s 4ms/step - loss: 0.6514 - accuracy: 0.0000e+00 - val_loss: 0.6300 - val_accuracy: 0.0000e+00\n",
            "Epoch 53/150\n",
            "15/15 [==============================] - 0s 4ms/step - loss: 0.6624 - accuracy: 0.0000e+00 - val_loss: 0.6310 - val_accuracy: 0.0000e+00\n",
            "Epoch 54/150\n",
            "15/15 [==============================] - 0s 5ms/step - loss: 0.6579 - accuracy: 0.0000e+00 - val_loss: 0.6309 - val_accuracy: 0.0000e+00\n",
            "Epoch 55/150\n",
            "15/15 [==============================] - 0s 5ms/step - loss: 0.6489 - accuracy: 0.0000e+00 - val_loss: 0.6291 - val_accuracy: 0.0000e+00\n",
            "Epoch 56/150\n",
            "15/15 [==============================] - 0s 5ms/step - loss: 0.6498 - accuracy: 0.0000e+00 - val_loss: 0.6305 - val_accuracy: 0.0000e+00\n",
            "Epoch 57/150\n",
            "15/15 [==============================] - 0s 5ms/step - loss: 0.6594 - accuracy: 0.0000e+00 - val_loss: 0.6287 - val_accuracy: 0.0000e+00\n",
            "Epoch 58/150\n",
            "15/15 [==============================] - 0s 4ms/step - loss: 0.6524 - accuracy: 0.0000e+00 - val_loss: 0.6306 - val_accuracy: 0.0000e+00\n",
            "Epoch 59/150\n",
            "15/15 [==============================] - 0s 5ms/step - loss: 0.6580 - accuracy: 0.0000e+00 - val_loss: 0.6303 - val_accuracy: 0.0000e+00\n",
            "Epoch 60/150\n",
            "15/15 [==============================] - 0s 4ms/step - loss: 0.6592 - accuracy: 0.0000e+00 - val_loss: 0.6290 - val_accuracy: 0.0000e+00\n",
            "Epoch 61/150\n",
            "15/15 [==============================] - 0s 5ms/step - loss: 0.6513 - accuracy: 0.0000e+00 - val_loss: 0.6280 - val_accuracy: 0.0000e+00\n",
            "Epoch 62/150\n",
            "15/15 [==============================] - 0s 5ms/step - loss: 0.6563 - accuracy: 0.0000e+00 - val_loss: 0.6309 - val_accuracy: 0.0000e+00\n",
            "Epoch 63/150\n",
            "15/15 [==============================] - 0s 5ms/step - loss: 0.6523 - accuracy: 0.0000e+00 - val_loss: 0.6280 - val_accuracy: 0.0000e+00\n",
            "Epoch 64/150\n",
            "15/15 [==============================] - 0s 5ms/step - loss: 0.6519 - accuracy: 0.0000e+00 - val_loss: 0.6296 - val_accuracy: 0.0000e+00\n",
            "Epoch 65/150\n",
            "15/15 [==============================] - 0s 5ms/step - loss: 0.6557 - accuracy: 0.0000e+00 - val_loss: 0.6276 - val_accuracy: 0.0000e+00\n",
            "Epoch 66/150\n",
            "15/15 [==============================] - 0s 5ms/step - loss: 0.6475 - accuracy: 0.0000e+00 - val_loss: 0.6274 - val_accuracy: 0.0000e+00\n",
            "Epoch 67/150\n",
            "15/15 [==============================] - 0s 4ms/step - loss: 0.6490 - accuracy: 0.0000e+00 - val_loss: 0.6295 - val_accuracy: 0.0000e+00\n",
            "Epoch 68/150\n",
            "15/15 [==============================] - 0s 4ms/step - loss: 0.6576 - accuracy: 0.0000e+00 - val_loss: 0.6283 - val_accuracy: 0.0000e+00\n",
            "Epoch 69/150\n",
            "15/15 [==============================] - 0s 5ms/step - loss: 0.6605 - accuracy: 0.0000e+00 - val_loss: 0.6277 - val_accuracy: 0.0000e+00\n",
            "Epoch 70/150\n",
            "15/15 [==============================] - 0s 4ms/step - loss: 0.6580 - accuracy: 0.0000e+00 - val_loss: 0.6282 - val_accuracy: 0.0000e+00\n",
            "Epoch 71/150\n",
            "15/15 [==============================] - 0s 5ms/step - loss: 0.6525 - accuracy: 0.0000e+00 - val_loss: 0.6276 - val_accuracy: 0.0000e+00\n",
            "Epoch 72/150\n",
            "15/15 [==============================] - 0s 5ms/step - loss: 0.6451 - accuracy: 0.0000e+00 - val_loss: 0.6256 - val_accuracy: 0.0000e+00\n",
            "Epoch 73/150\n",
            "15/15 [==============================] - 0s 5ms/step - loss: 0.6483 - accuracy: 0.0000e+00 - val_loss: 0.6296 - val_accuracy: 0.0000e+00\n",
            "Epoch 74/150\n",
            "15/15 [==============================] - 0s 5ms/step - loss: 0.6518 - accuracy: 0.0000e+00 - val_loss: 0.6256 - val_accuracy: 0.0000e+00\n",
            "Epoch 75/150\n",
            "15/15 [==============================] - 0s 4ms/step - loss: 0.6441 - accuracy: 0.0000e+00 - val_loss: 0.6290 - val_accuracy: 0.0000e+00\n",
            "Epoch 76/150\n",
            "15/15 [==============================] - 0s 4ms/step - loss: 0.6457 - accuracy: 0.0000e+00 - val_loss: 0.6276 - val_accuracy: 0.0000e+00\n",
            "Epoch 77/150\n",
            "15/15 [==============================] - 0s 5ms/step - loss: 0.6500 - accuracy: 0.0000e+00 - val_loss: 0.6273 - val_accuracy: 0.0000e+00\n",
            "Epoch 78/150\n",
            "15/15 [==============================] - 0s 5ms/step - loss: 0.6378 - accuracy: 0.0000e+00 - val_loss: 0.6266 - val_accuracy: 0.0000e+00\n",
            "Epoch 79/150\n",
            "15/15 [==============================] - 0s 5ms/step - loss: 0.6378 - accuracy: 0.0000e+00 - val_loss: 0.6273 - val_accuracy: 0.0000e+00\n",
            "Epoch 80/150\n",
            "15/15 [==============================] - 0s 4ms/step - loss: 0.6410 - accuracy: 0.0000e+00 - val_loss: 0.6268 - val_accuracy: 0.0000e+00\n",
            "Epoch 81/150\n",
            "15/15 [==============================] - 0s 4ms/step - loss: 0.6479 - accuracy: 0.0000e+00 - val_loss: 0.6270 - val_accuracy: 0.0000e+00\n",
            "Epoch 82/150\n",
            "15/15 [==============================] - 0s 5ms/step - loss: 0.6323 - accuracy: 0.0000e+00 - val_loss: 0.6252 - val_accuracy: 0.0000e+00\n",
            "Epoch 83/150\n",
            "15/15 [==============================] - 0s 5ms/step - loss: 0.6409 - accuracy: 0.0000e+00 - val_loss: 0.6292 - val_accuracy: 0.0000e+00\n",
            "Epoch 84/150\n",
            "15/15 [==============================] - 0s 5ms/step - loss: 0.6449 - accuracy: 0.0000e+00 - val_loss: 0.6234 - val_accuracy: 0.0000e+00\n",
            "Epoch 85/150\n",
            "15/15 [==============================] - 0s 5ms/step - loss: 0.6375 - accuracy: 0.0000e+00 - val_loss: 0.6257 - val_accuracy: 0.0000e+00\n",
            "Epoch 86/150\n",
            "15/15 [==============================] - 0s 4ms/step - loss: 0.6375 - accuracy: 0.0000e+00 - val_loss: 0.6286 - val_accuracy: 0.0000e+00\n",
            "Epoch 87/150\n",
            "15/15 [==============================] - 0s 5ms/step - loss: 0.6431 - accuracy: 0.0000e+00 - val_loss: 0.6241 - val_accuracy: 0.0000e+00\n",
            "Epoch 88/150\n",
            "15/15 [==============================] - 0s 4ms/step - loss: 0.6440 - accuracy: 0.0000e+00 - val_loss: 0.6267 - val_accuracy: 0.0000e+00\n",
            "Epoch 89/150\n",
            "15/15 [==============================] - 0s 5ms/step - loss: 0.6342 - accuracy: 0.0000e+00 - val_loss: 0.6264 - val_accuracy: 0.0000e+00\n",
            "Epoch 90/150\n",
            "15/15 [==============================] - 0s 5ms/step - loss: 0.6380 - accuracy: 0.0000e+00 - val_loss: 0.6257 - val_accuracy: 0.0000e+00\n",
            "Epoch 91/150\n",
            "15/15 [==============================] - 0s 5ms/step - loss: 0.6391 - accuracy: 0.0000e+00 - val_loss: 0.6250 - val_accuracy: 0.0000e+00\n",
            "Epoch 92/150\n",
            "15/15 [==============================] - 0s 5ms/step - loss: 0.6335 - accuracy: 0.0000e+00 - val_loss: 0.6252 - val_accuracy: 0.0000e+00\n",
            "Epoch 93/150\n",
            "15/15 [==============================] - 0s 5ms/step - loss: 0.6425 - accuracy: 0.0000e+00 - val_loss: 0.6248 - val_accuracy: 0.0000e+00\n",
            "Epoch 94/150\n",
            "15/15 [==============================] - 0s 5ms/step - loss: 0.6330 - accuracy: 0.0000e+00 - val_loss: 0.6247 - val_accuracy: 0.0000e+00\n",
            "Epoch 95/150\n",
            "15/15 [==============================] - 0s 5ms/step - loss: 0.6361 - accuracy: 0.0000e+00 - val_loss: 0.6256 - val_accuracy: 0.0000e+00\n",
            "Epoch 96/150\n",
            "15/15 [==============================] - 0s 4ms/step - loss: 0.6419 - accuracy: 0.0000e+00 - val_loss: 0.6245 - val_accuracy: 0.0000e+00\n",
            "Epoch 97/150\n",
            "15/15 [==============================] - 0s 5ms/step - loss: 0.6353 - accuracy: 0.0000e+00 - val_loss: 0.6233 - val_accuracy: 0.0000e+00\n",
            "Epoch 98/150\n",
            "15/15 [==============================] - 0s 4ms/step - loss: 0.6323 - accuracy: 0.0000e+00 - val_loss: 0.6256 - val_accuracy: 0.0000e+00\n",
            "Epoch 99/150\n",
            "15/15 [==============================] - 0s 4ms/step - loss: 0.6357 - accuracy: 0.0000e+00 - val_loss: 0.6239 - val_accuracy: 0.0000e+00\n",
            "Epoch 100/150\n",
            "15/15 [==============================] - 0s 4ms/step - loss: 0.6343 - accuracy: 0.0000e+00 - val_loss: 0.6254 - val_accuracy: 0.0000e+00\n",
            "Epoch 101/150\n",
            "15/15 [==============================] - 0s 5ms/step - loss: 0.6428 - accuracy: 0.0000e+00 - val_loss: 0.6232 - val_accuracy: 0.0000e+00\n",
            "Epoch 102/150\n",
            "15/15 [==============================] - 0s 5ms/step - loss: 0.6304 - accuracy: 0.0000e+00 - val_loss: 0.6232 - val_accuracy: 0.0000e+00\n",
            "Epoch 103/150\n",
            "15/15 [==============================] - 0s 4ms/step - loss: 0.6315 - accuracy: 0.0000e+00 - val_loss: 0.6235 - val_accuracy: 0.0000e+00\n",
            "Epoch 104/150\n",
            "15/15 [==============================] - 0s 4ms/step - loss: 0.6285 - accuracy: 0.0000e+00 - val_loss: 0.6235 - val_accuracy: 0.0000e+00\n",
            "Epoch 105/150\n",
            "15/15 [==============================] - 0s 4ms/step - loss: 0.6285 - accuracy: 0.0000e+00 - val_loss: 0.6237 - val_accuracy: 0.0000e+00\n",
            "Epoch 106/150\n",
            "15/15 [==============================] - 0s 4ms/step - loss: 0.6285 - accuracy: 0.0000e+00 - val_loss: 0.6226 - val_accuracy: 0.0000e+00\n",
            "Epoch 107/150\n",
            "15/15 [==============================] - 0s 5ms/step - loss: 0.6335 - accuracy: 0.0000e+00 - val_loss: 0.6253 - val_accuracy: 0.0000e+00\n",
            "Epoch 108/150\n",
            "15/15 [==============================] - 0s 4ms/step - loss: 0.6346 - accuracy: 0.0000e+00 - val_loss: 0.6217 - val_accuracy: 0.0000e+00\n",
            "Epoch 109/150\n",
            "15/15 [==============================] - 0s 4ms/step - loss: 0.6313 - accuracy: 0.0000e+00 - val_loss: 0.6228 - val_accuracy: 0.0000e+00\n",
            "Epoch 110/150\n",
            "15/15 [==============================] - 0s 4ms/step - loss: 0.6290 - accuracy: 0.0000e+00 - val_loss: 0.6214 - val_accuracy: 0.0000e+00\n",
            "Epoch 111/150\n",
            "15/15 [==============================] - 0s 5ms/step - loss: 0.6349 - accuracy: 0.0000e+00 - val_loss: 0.6270 - val_accuracy: 0.0000e+00\n",
            "Epoch 112/150\n",
            "15/15 [==============================] - 0s 5ms/step - loss: 0.6247 - accuracy: 0.0000e+00 - val_loss: 0.6210 - val_accuracy: 0.0000e+00\n",
            "Epoch 113/150\n",
            "15/15 [==============================] - 0s 4ms/step - loss: 0.6395 - accuracy: 0.0000e+00 - val_loss: 0.6257 - val_accuracy: 0.0000e+00\n",
            "Epoch 114/150\n",
            "15/15 [==============================] - 0s 4ms/step - loss: 0.6389 - accuracy: 0.0000e+00 - val_loss: 0.6194 - val_accuracy: 0.0000e+00\n",
            "Epoch 115/150\n",
            "15/15 [==============================] - 0s 5ms/step - loss: 0.6277 - accuracy: 0.0000e+00 - val_loss: 0.6232 - val_accuracy: 0.0000e+00\n",
            "Epoch 116/150\n",
            "15/15 [==============================] - 0s 5ms/step - loss: 0.6362 - accuracy: 0.0000e+00 - val_loss: 0.6221 - val_accuracy: 0.0000e+00\n",
            "Epoch 117/150\n",
            "15/15 [==============================] - 0s 5ms/step - loss: 0.6348 - accuracy: 0.0000e+00 - val_loss: 0.6219 - val_accuracy: 0.0000e+00\n",
            "Epoch 118/150\n",
            "15/15 [==============================] - 0s 5ms/step - loss: 0.6375 - accuracy: 0.0000e+00 - val_loss: 0.6226 - val_accuracy: 0.0000e+00\n",
            "Epoch 119/150\n",
            "15/15 [==============================] - 0s 5ms/step - loss: 0.6280 - accuracy: 0.0000e+00 - val_loss: 0.6222 - val_accuracy: 0.0000e+00\n",
            "Epoch 120/150\n",
            "15/15 [==============================] - 0s 5ms/step - loss: 0.6349 - accuracy: 0.0000e+00 - val_loss: 0.6200 - val_accuracy: 0.0000e+00\n",
            "Epoch 121/150\n",
            "15/15 [==============================] - 0s 5ms/step - loss: 0.6426 - accuracy: 0.0000e+00 - val_loss: 0.6238 - val_accuracy: 0.0000e+00\n",
            "Epoch 122/150\n",
            "15/15 [==============================] - 0s 5ms/step - loss: 0.6292 - accuracy: 0.0000e+00 - val_loss: 0.6216 - val_accuracy: 0.0000e+00\n",
            "Epoch 123/150\n",
            "15/15 [==============================] - 0s 5ms/step - loss: 0.6236 - accuracy: 0.0000e+00 - val_loss: 0.6199 - val_accuracy: 0.0000e+00\n",
            "Epoch 124/150\n",
            "15/15 [==============================] - 0s 4ms/step - loss: 0.6288 - accuracy: 0.0000e+00 - val_loss: 0.6251 - val_accuracy: 0.0000e+00\n",
            "Epoch 125/150\n",
            "15/15 [==============================] - 0s 5ms/step - loss: 0.6273 - accuracy: 0.0000e+00 - val_loss: 0.6208 - val_accuracy: 0.0000e+00\n",
            "Epoch 126/150\n",
            "15/15 [==============================] - 0s 5ms/step - loss: 0.6360 - accuracy: 0.0000e+00 - val_loss: 0.6215 - val_accuracy: 0.0000e+00\n",
            "Epoch 127/150\n",
            "15/15 [==============================] - 0s 5ms/step - loss: 0.6293 - accuracy: 0.0000e+00 - val_loss: 0.6215 - val_accuracy: 0.0000e+00\n",
            "Epoch 128/150\n",
            "15/15 [==============================] - 0s 4ms/step - loss: 0.6250 - accuracy: 0.0000e+00 - val_loss: 0.6210 - val_accuracy: 0.0000e+00\n",
            "Epoch 129/150\n",
            "15/15 [==============================] - 0s 4ms/step - loss: 0.6274 - accuracy: 0.0000e+00 - val_loss: 0.6203 - val_accuracy: 0.0000e+00\n",
            "Epoch 130/150\n",
            "15/15 [==============================] - 0s 5ms/step - loss: 0.6341 - accuracy: 0.0000e+00 - val_loss: 0.6212 - val_accuracy: 0.0000e+00\n",
            "Epoch 131/150\n",
            "15/15 [==============================] - 0s 5ms/step - loss: 0.6220 - accuracy: 0.0000e+00 - val_loss: 0.6194 - val_accuracy: 0.0000e+00\n",
            "Epoch 132/150\n",
            "15/15 [==============================] - 0s 4ms/step - loss: 0.6275 - accuracy: 0.0000e+00 - val_loss: 0.6219 - val_accuracy: 0.0000e+00\n",
            "Epoch 133/150\n",
            "15/15 [==============================] - 0s 5ms/step - loss: 0.6213 - accuracy: 0.0000e+00 - val_loss: 0.6210 - val_accuracy: 0.0000e+00\n",
            "Epoch 134/150\n",
            "15/15 [==============================] - 0s 5ms/step - loss: 0.6253 - accuracy: 0.0000e+00 - val_loss: 0.6199 - val_accuracy: 0.0000e+00\n",
            "Epoch 135/150\n",
            "15/15 [==============================] - 0s 5ms/step - loss: 0.6308 - accuracy: 0.0000e+00 - val_loss: 0.6212 - val_accuracy: 0.0000e+00\n",
            "Epoch 136/150\n",
            "15/15 [==============================] - 0s 5ms/step - loss: 0.6196 - accuracy: 0.0000e+00 - val_loss: 0.6209 - val_accuracy: 0.0000e+00\n",
            "Epoch 137/150\n",
            "15/15 [==============================] - 0s 5ms/step - loss: 0.6193 - accuracy: 0.0000e+00 - val_loss: 0.6191 - val_accuracy: 0.0000e+00\n",
            "Epoch 138/150\n",
            "15/15 [==============================] - 0s 5ms/step - loss: 0.6393 - accuracy: 0.0000e+00 - val_loss: 0.6207 - val_accuracy: 0.0000e+00\n",
            "Epoch 139/150\n",
            "15/15 [==============================] - 0s 4ms/step - loss: 0.6276 - accuracy: 0.0000e+00 - val_loss: 0.6187 - val_accuracy: 0.0000e+00\n",
            "Epoch 140/150\n",
            "15/15 [==============================] - 0s 5ms/step - loss: 0.6284 - accuracy: 0.0000e+00 - val_loss: 0.6210 - val_accuracy: 0.0000e+00\n",
            "Epoch 141/150\n",
            "15/15 [==============================] - 0s 5ms/step - loss: 0.6348 - accuracy: 0.0000e+00 - val_loss: 0.6190 - val_accuracy: 0.0000e+00\n",
            "Epoch 142/150\n",
            "15/15 [==============================] - 0s 5ms/step - loss: 0.6353 - accuracy: 0.0000e+00 - val_loss: 0.6209 - val_accuracy: 0.0000e+00\n",
            "Epoch 143/150\n",
            "15/15 [==============================] - 0s 5ms/step - loss: 0.6378 - accuracy: 0.0000e+00 - val_loss: 0.6200 - val_accuracy: 0.0000e+00\n",
            "Epoch 144/150\n",
            "15/15 [==============================] - 0s 4ms/step - loss: 0.6343 - accuracy: 0.0000e+00 - val_loss: 0.6203 - val_accuracy: 0.0000e+00\n",
            "Epoch 145/150\n",
            "15/15 [==============================] - 0s 5ms/step - loss: 0.6344 - accuracy: 0.0000e+00 - val_loss: 0.6200 - val_accuracy: 0.0000e+00\n",
            "Epoch 146/150\n",
            "15/15 [==============================] - 0s 5ms/step - loss: 0.6373 - accuracy: 0.0000e+00 - val_loss: 0.6186 - val_accuracy: 0.0000e+00\n",
            "Epoch 147/150\n",
            "15/15 [==============================] - 0s 4ms/step - loss: 0.6417 - accuracy: 0.0000e+00 - val_loss: 0.6200 - val_accuracy: 0.0000e+00\n",
            "Epoch 148/150\n",
            "15/15 [==============================] - 0s 5ms/step - loss: 0.6273 - accuracy: 0.0000e+00 - val_loss: 0.6183 - val_accuracy: 0.0000e+00\n",
            "Epoch 149/150\n",
            "15/15 [==============================] - 0s 5ms/step - loss: 0.6315 - accuracy: 0.0000e+00 - val_loss: 0.6196 - val_accuracy: 0.0000e+00\n",
            "Epoch 150/150\n",
            "15/15 [==============================] - 0s 4ms/step - loss: 0.6305 - accuracy: 0.0000e+00 - val_loss: 0.6187 - val_accuracy: 0.0000e+00\n"
          ],
          "name": "stdout"
        }
      ]
    },
    {
      "cell_type": "code",
      "metadata": {
        "colab": {
          "base_uri": "https://localhost:8080/",
          "height": 329
        },
        "id": "2iimrN_8CIXM",
        "outputId": "cbe11f5f-95d0-4f83-c80e-df27bab7ef40"
      },
      "source": [
        "import matplotlib.pyplot as plt\n",
        "print(history.history.keys())\n",
        "# list all data in history\n",
        "print(history.history.keys())\n",
        "# summarize history for accuracy\n",
        "plt.plot(history.history['accuracy'])\n",
        "plt.plot(history.history['val_accuracy'])\n",
        "plt.title('model accuracy')\n",
        "plt.ylabel('accuracy')\n",
        "plt.xlabel('epoch')\n",
        "plt.legend(['train', 'val'], loc='upper left')\n",
        "plt.show()"
      ],
      "execution_count": 13,
      "outputs": [
        {
          "output_type": "stream",
          "text": [
            "dict_keys(['loss', 'accuracy', 'val_loss', 'val_accuracy'])\n",
            "dict_keys(['loss', 'accuracy', 'val_loss', 'val_accuracy'])\n"
          ],
          "name": "stdout"
        },
        {
          "output_type": "display_data",
          "data": {
            "image/png": "[encoded data removed]",
            "text/plain": [
              "<Figure size 432x288 with 1 Axes>"
            ]
          },
          "metadata": {
            "tags": [],
            "needs_background": "light"
          }
        }
      ]
    }
  ]
}